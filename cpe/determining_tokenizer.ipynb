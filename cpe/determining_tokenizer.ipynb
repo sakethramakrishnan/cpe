{
 "cells": [
  {
   "cell_type": "code",
   "execution_count": 5,
   "metadata": {},
   "outputs": [],
   "source": [
    "import time\n",
    "import queue\n",
    "import pandas as pd\n",
    "import threading\n",
    "from typing import Union, List\n",
    "from tqdm import tqdm\n",
    "from pathlib import Path \n",
    "import numpy as np\n",
    "from datasets import Dataset\n",
    "from transformers import PreTrainedTokenizerFast\n",
    "from tokenizers.processors import TemplateProcessing\n",
    "from tokenizers import (\n",
    "    decoders,\n",
    "    models,\n",
    "    normalizers,\n",
    "    pre_tokenizers,\n",
    "    processors,\n",
    "    trainers,\n",
    "    Tokenizer,\n",
    ")\n",
    "from tokenizers.pre_tokenizers import Whitespace\n",
    "import matplotlib.pyplot as plt\n",
    "from Bio.Seq import translate\n",
    "PathLike = Union[str, Path]\n",
    "import re\n",
    "import os\n",
    "import torch\n",
    "\n",
    "#from genslm.utils import read_fasta_only_seq, read_fasta, Sequence\n",
    "\n",
    "# Assign a unique character to each codon so that we can use it as an\n",
    "# input token to a BPE tokenizer. This implements a codon-pair encoding.\n",
    "CODON_CHAR = {\n",
    "    'TCG': \"A\", 'GCA': \"B\", 'CTT': \"C\", 'ATT': \"D\", 'TTA': \"E\", 'GGG': \"F\", 'CGT': \"G\", \n",
    "    'TAA': \"H\", 'AAA': \"I\", 'CTC': \"J\", 'AGT': \"K\", 'CCA': \"L\", 'TGT': \"M\", 'GCC': \"N\", \n",
    "    'GTT': \"O\", 'ATA': \"P\", 'TAC': \"Q\", 'TTT': \"R\", 'TGC': \"S\", 'CAC': \"T\", 'ACG': \"U\", \n",
    "    'CCC': \"V\", 'ATC': \"W\", 'CAT': \"X\", 'AGA': \"Y\", 'GAG': \"Z\", 'GTG': \"a\", 'GGT': \"b\", \n",
    "    'GCT': \"c\", 'TTC': \"d\", 'AAC': \"e\", 'TAT': \"f\", 'GTA': \"g\", 'CCG': \"h\", 'ACA': \"i\", \n",
    "    'CGA': \"j\", 'TAG': \"k\", 'CTG': \"l\", 'GGA': \"m\", 'ATG': \"n\", 'TCT': \"o\", 'CGG': \"p\", \n",
    "    'GAT': \"q\", 'ACC': \"r\", 'GAC': \"s\", 'GTC': \"t\", 'TGG': \"u\", 'CCT': \"v\", 'GAA': \"w\", \n",
    "    'TCA': \"x\", 'CAA': \"y\", 'AAT': \"z\", 'ACT': \"0\", 'GCG': \"1\", 'GGC': \"2\", 'CTA': \"3\", \n",
    "    'AAG': \"4\", 'AGG': \"5\", 'CAG': \"6\", 'AGC': \"7\", 'CGC': \"8\", 'TTG': \"9\", 'TCC': \"!\", \n",
    "    'TGA': \"@\"\n",
    "}\n",
    "\n",
    "def group_and_contextualize_cpe(seq: str, k: int = 3): \n",
    "    return \" \".join(CODON_CHAR.get(seq[i : i + k], \"\") for i in range(0, len(seq), k))\n",
    "\n",
    "def group_and_contextualize_split_every_n(seq: str, n):\n",
    "    seq.replace(\" \", \"\")\n",
    "    remainder = len(seq) % n\n",
    "    if remainder != 0:\n",
    "        seq = seq[:-remainder]  # Remove the last remainder characters\n",
    "    substrings = [seq[i:i + n] for i in range(0, len(seq), n)]\n",
    "    return ' '.join(substrings)\n",
    "\n",
    "\n",
    "def build_tokenizer(\n",
    "    corpus_iterator,\n",
    "    vocab_size,\n",
    "    add_bos_eos: bool = True,\n",
    "    max_length: int = 1024,\n",
    "    save: bool = False,\n",
    "    tokenzier_save_name: str = \"cpe_tokenizer\",\n",
    "):\n",
    "    special_tokens = {\n",
    "        \"unk_token\": \"[UNK]\",\n",
    "        \"cls_token\": \"[CLS]\",\n",
    "        \"sep_token\": \"[SEP]\",\n",
    "        \"pad_token\": \"[PAD]\",\n",
    "        \"mask_token\": \"[MASK]\",\n",
    "        \"bos_token\": \"[BOS]\",\n",
    "        \"eos_token\": \"[EOS]\",\n",
    "    }\n",
    "\n",
    "    bos_index = 5\n",
    "    eos_index = 6\n",
    "\n",
    "    # Define tokenizer\n",
    "    tokenizer = Tokenizer(models.BPE())\n",
    "    \n",
    "    tokenizer.pre_tokenizer = Whitespace()\n",
    "\n",
    "    trainer = trainers.BpeTrainer(\n",
    "        vocab_size=vocab_size,\n",
    "        special_tokens=list(special_tokens.values()),\n",
    "        max_length=max_length,\n",
    "    )\n",
    "\n",
    "    print(\"Training tokenizer\")\n",
    "    tokenizer.train_from_iterator(corpus_iterator, trainer=trainer)\n",
    "\n",
    "    # Add post-processor\n",
    "    # trim_offsets=True will ignore spaces, false will leave them in\n",
    "    tokenizer.post_processor = processors.ByteLevel(trim_offsets=False)\n",
    "    if add_bos_eos:\n",
    "        tokenizer.post_processor = TemplateProcessing(\n",
    "            single=\"[BOS] $A [EOS]\",\n",
    "            special_tokens=[(\"[BOS]\", bos_index), (\"[EOS]\", eos_index)],\n",
    "        )\n",
    "\n",
    "    # Add a decoder\n",
    "    tokenizer.decoder = decoders.ByteLevel()\n",
    "\n",
    "    # save the tokenizer\n",
    "    wrapped_tokenizer = PreTrainedTokenizerFast(\n",
    "        tokenizer_object=tokenizer, **special_tokens\n",
    "    )\n",
    "    if save:\n",
    "        wrapped_tokenizer.save_pretrained(tokenzier_save_name)\n",
    "        \n",
    "    print(f\"Returning tokenizer with vocab_size = {vocab_size}\")\n",
    "\n",
    "    return wrapped_tokenizer"
   ]
  },
  {
   "cell_type": "code",
   "execution_count": 6,
   "metadata": {},
   "outputs": [],
   "source": [
    "def read_fasta_only_seq(fasta_file: PathLike) -> List[str]:\n",
    "    \"\"\"Reads fasta file sequences without description tag.\"\"\"\n",
    "    text = Path(fasta_file).read_text()\n",
    "    pattern = re.compile(\"^>\", re.MULTILINE)\n",
    "    non_parsed_seqs = re.split(pattern, text)[1:]\n",
    "    lines = [\n",
    "        line.replace(\"\\n\", \"\") for seq in non_parsed_seqs for line in seq.split(\"\\n\", 1)\n",
    "    ]\n",
    "\n",
    "    return lines[1::2]\n",
    "\n",
    "def any_file_fasta_reader(fasta_file: PathLike) -> List[str]:\n",
    "    if os.path.isdir(fasta_file):\n",
    "        sequences_raw = []\n",
    "        for p in Path(fasta_file).glob(\"*.fasta\"):\n",
    "            sequences_raw.extend(read_fasta_only_seq(p))\n",
    "    elif os.path.isfile(fasta_file):\n",
    "        sequences_raw = read_fasta_only_seq(fasta_file)\n",
    "    else:\n",
    "        raise ValueError(\n",
    "            \"Kindly enter a filepath to a directory containing many .fasta files \"\n",
    "            \"or a filepath to a single .fasta file\"\n",
    "        )\n",
    "    \n",
    "    return sequences_raw\n",
    "        \n",
    "\n",
    "def group_and_contextualize_split_every_n(seq: str, n):\n",
    "    seq.replace(\" \", \"\")\n",
    "    remainder = len(seq) % n\n",
    "    if remainder != 0:\n",
    "        seq = seq[:-remainder]  # Remove the last remainder characters\n",
    "    substrings = [seq[i:i + n] for i in range(0, len(seq), n)]\n",
    "    return ' '.join(substrings)\n",
    "\n",
    "def group_and_contextualize_cpe(seq: str, k: int = 3): \n",
    "    return \" \".join(CODON_CHAR.get(seq[i : i + k], \"\") for i in range(0, len(seq), k))\n",
    "\n",
    "def make_str_div(seq, n):\n",
    "    remainder = len(seq) % n\n",
    "    #print(remainder)\n",
    "    if remainder != 0:\n",
    "        seq = seq[:-remainder]\n",
    "    \n",
    "    return seq"
   ]
  },
  {
   "cell_type": "code",
   "execution_count": 9,
   "metadata": {},
   "outputs": [],
   "source": [
    "max_vocab_len = 40_000\n",
    "increment = 5_000\n",
    "\n",
    "def plot_vocab_lens(sequence_fasta_file: str, max_vocab_len: int, increment: int, bpe_tokenizer_type: str):\n",
    "    \"\"\"_summary_\n",
    "\n",
    "    Args:\n",
    "        sequences [str]: _description_\n",
    "        max_vocab_len (int): _description_\n",
    "        increment (int): _description_\n",
    "        bpe_tokenizer_type (str): choices: [\"ape_tokenizer\", \"cpe_tokenizer\", \"npe_tokenizer\"]\n",
    "    \"\"\"\n",
    "    \n",
    "    dna_sequences = any_file_fasta_reader(sequence_fasta_file)\n",
    "    \n",
    "    \n",
    "     # data preprocessing dependent on tokenizer_type\n",
    "    if bpe_tokenizer_type == \"ape_tokenizer\":\n",
    "        sequences = [group_and_contextualize_split_every_n(translate(make_str_div(seq.upper()), 1)) for seq in dna_sequences]\n",
    "    \n",
    "    elif bpe_tokenizer_type == \"cpe_tokenizer\":\n",
    "        sequences = [group_and_contextualize_cpe(make_str_div(seq.upper(), 3)) for seq in dna_sequences]\n",
    "        \n",
    "    elif bpe_tokenizer_type == \"npe_tokenizer\":\n",
    "        sequences = [group_and_contextualize_split_every_n(make_str_div(seq.upper(), 1)) for seq in dna_sequences]\n",
    "\n",
    "    else:\n",
    "        raise ValueError(\"Please enter a valid bpe_tokenizer_type :)\")\n",
    "\n",
    "\n",
    "    num_tokens_in_vocab = {}\n",
    "    per_vocab_in_vocab = {}\n",
    "    \n",
    "    for vocab_size in range(increment, max_vocab_len, increment):\n",
    "        tokenizer = build_tokenizer(sequences, vocab_size)\n",
    "        \n",
    "        unique_lens = []\n",
    "        print(f\"Finding lens for {vocab_size}\")\n",
    "        for seq in tqdm(sequences):\n",
    "            \n",
    "            tokenized_seq = tokenizer(seq, max_length=1024, padding=\"max_length\", truncation=True, return_tensors=\"pt\")\n",
    "            unique_lens.append(len(torch.unique(tokenized_seq['input_ids'])))\n",
    "\n",
    "\n",
    "        avg_num_unique_tokens = (sum(unique_lens)/len(unique_lens))\n",
    "        \n",
    "        num_tokens_in_vocab[vocab_size] = avg_num_unique_tokens\n",
    "        \n",
    "        \n",
    "    for key, value in num_tokens_in_vocab.items():\n",
    "        per_vocab_in_vocab[key] = value/key\n",
    "    \n",
    "    \n",
    "    plt.scatter(num_tokens_in_vocab.keys(), num_tokens_in_vocab.values())\n",
    "    plt.title(bpe_tokenizer_type + \" absolute avg num unique tokens\")\n",
    "    plt.xlabel(\"Vocab Size\")\n",
    "    plt.ylabel(\"Num Unique Tokens Used\")\n",
    "    plt.show()\n",
    "    \n",
    "    plt.scatter(per_vocab_in_vocab.keys(), per_vocab_in_vocab.values())\n",
    "    plt.title(bpe_tokenizer_type + \" relative avg num unique tokens\")\n",
    "    plt.xlabel(\"Vocab Size\")\n",
    "    plt.ylabel(\"Percentage of Vocab Size Used\")\n",
    "    plt.show()\n",
    "    \n",
    "\n"
   ]
  },
  {
   "cell_type": "code",
   "execution_count": 12,
   "metadata": {},
   "outputs": [
    {
     "name": "stdout",
     "output_type": "stream",
     "text": [
      "Training tokenizer\n",
      "Ignored unknown kwargs option max_length\n",
      "\n",
      "\n",
      "\n",
      "Returning tokenizer with vocab_size = 200\n",
      "Finding lens for 200\n"
     ]
    },
    {
     "name": "stderr",
     "output_type": "stream",
     "text": [
      "100%|██████████| 36631/36631 [00:50<00:00, 724.36it/s] \n"
     ]
    },
    {
     "name": "stdout",
     "output_type": "stream",
     "text": [
      "Training tokenizer\n",
      "Ignored unknown kwargs option max_length\n",
      "\n",
      "\n",
      "\n",
      "Returning tokenizer with vocab_size = 400\n",
      "Finding lens for 400\n"
     ]
    },
    {
     "name": "stderr",
     "output_type": "stream",
     "text": [
      "100%|██████████| 36631/36631 [00:49<00:00, 747.28it/s] \n"
     ]
    },
    {
     "name": "stdout",
     "output_type": "stream",
     "text": [
      "Training tokenizer\n",
      "Ignored unknown kwargs option max_length\n",
      "\n",
      "\n",
      "\n",
      "Returning tokenizer with vocab_size = 600\n",
      "Finding lens for 600\n"
     ]
    },
    {
     "name": "stderr",
     "output_type": "stream",
     "text": [
      "100%|██████████| 36631/36631 [00:53<00:00, 679.87it/s] \n"
     ]
    },
    {
     "name": "stdout",
     "output_type": "stream",
     "text": [
      "Training tokenizer\n",
      "Ignored unknown kwargs option max_length\n",
      "\n",
      "\n",
      "\n",
      "Returning tokenizer with vocab_size = 800\n",
      "Finding lens for 800\n"
     ]
    },
    {
     "name": "stderr",
     "output_type": "stream",
     "text": [
      "100%|██████████| 36631/36631 [00:51<00:00, 712.70it/s] \n"
     ]
    },
    {
     "data": {
      "image/png": "[encoded data removed]",
      "text/plain": [
       "<Figure size 640x480 with 1 Axes>"
      ]
     },
     "metadata": {},
     "output_type": "display_data"
    },
    {
     "data": {
      "image/png": "[encoded data removed]",
      "text/plain": [
       "<Figure size 640x480 with 1 Axes>"
      ]
     },
     "metadata": {},
     "output_type": "display_data"
    }
   ],
   "source": [
    "plot_vocab_lens(sequence_fasta_file='/home/couchbucks/Downloads/all_fasta_files/mdh_natural_sequences.ffn', max_vocab_len=1000, increment=200, bpe_tokenizer_type='cpe_tokenizer')"
   ]
  },
  {
   "cell_type": "code",
   "execution_count": null,
   "metadata": {},
   "outputs": [],
   "source": []
  }
 ],
 "metadata": {
  "kernelspec": {
   "display_name": "Python 3.10.12 ('env': venv)",
   "language": "python",
   "name": "python3"
  },
  "language_info": {
   "codemirror_mode": {
    "name": "ipython",
    "version": 3
   },
   "file_extension": ".py",
   "mimetype": "text/x-python",
   "name": "python",
   "nbconvert_exporter": "python",
   "pygments_lexer": "ipython3",
   "version": "3.10.12"
  },
  "orig_nbformat": 4,
  "vscode": {
   "interpreter": {
    "hash": "868329871d340e68a723f22f0d183ed267f7fc5205a50eb76781ebde7044a33d"
   }
  }
 },
 "nbformat": 4,
 "nbformat_minor": 2
}
