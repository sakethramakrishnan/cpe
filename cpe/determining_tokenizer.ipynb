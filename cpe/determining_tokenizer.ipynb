{
 "cells": [
  {
   "cell_type": "code",
   "execution_count": 1,
   "metadata": {},
   "outputs": [
    {
     "name": "stderr",
     "output_type": "stream",
     "text": [
      "/home/couchbucks/Documents/saketh/cpe/env/lib/python3.10/site-packages/tqdm/auto.py:21: TqdmWarning: IProgress not found. Please update jupyter and ipywidgets. See https://ipywidgets.readthedocs.io/en/stable/user_install.html\n",
      "  from .autonotebook import tqdm as notebook_tqdm\n"
     ]
    }
   ],
   "source": [
    "import time\n",
    "import queue\n",
    "import pandas as pd\n",
    "import threading\n",
    "from typing import Union, List\n",
    "from tqdm import tqdm\n",
    "from pathlib import Path\n",
    "import numpy as np\n",
    "from datasets import Dataset\n",
    "from transformers import PreTrainedTokenizerFast\n",
    "from tokenizers.processors import TemplateProcessing\n",
    "from tokenizers import (\n",
    "    decoders,\n",
    "    models,\n",
    "    normalizers,\n",
    "    pre_tokenizers,\n",
    "    processors,\n",
    "    trainers,\n",
    "    Tokenizer,\n",
    ")\n",
    "from tokenizers.models import BPE\n",
    "from statistics import mean, median\n",
    "from tokenizers.pre_tokenizers import Digits, Whitespace, Sequence\n",
    "import matplotlib.pyplot as plt\n",
    "from Bio.Seq import translate\n",
    "\n",
    "PathLike = Union[str, Path] \n",
    "import re\n",
    "import os\n",
    "import torch\n",
    "from utils import any_file_fasta_reader, group_and_contextualize\n",
    "import json\n",
    "\n",
    "# from genslm.utils import read_fasta_only_seq, read_fasta, Sequence\n",
    "\n",
    "# Assign a unique character to each codon so that we can use it as an\n",
    "# input token to a BPE tokenizer. This implements a codon-pair encoding.\n",
    "CODON_CHAR = {\n",
    "    \"TCG\": \"A\",\n",
    "    \"GCA\": \"B\",\n",
    "    \"CTT\": \"C\",\n",
    "    \"ATT\": \"D\",\n",
    "    \"TTA\": \"E\",\n",
    "    \"GGG\": \"F\",\n",
    "    \"CGT\": \"G\",\n",
    "    \"TAA\": \"H\",\n",
    "    \"AAA\": \"I\",\n",
    "    \"CTC\": \"J\",\n",
    "    \"AGT\": \"K\",\n",
    "    \"CCA\": \"L\",\n",
    "    \"TGT\": \"M\",\n",
    "    \"GCC\": \"N\",\n",
    "    \"GTT\": \"O\",\n",
    "    \"ATA\": \"P\",\n",
    "    \"TAC\": \"Q\",\n",
    "    \"TTT\": \"R\",\n",
    "    \"TGC\": \"S\",\n",
    "    \"CAC\": \"T\",\n",
    "    \"ACG\": \"U\",\n",
    "    \"CCC\": \"V\",\n",
    "    \"ATC\": \"W\",\n",
    "    \"CAT\": \"X\",\n",
    "    \"AGA\": \"Y\",\n",
    "    \"GAG\": \"Z\",\n",
    "    \"GTG\": \"a\",\n",
    "    \"GGT\": \"b\",\n",
    "    \"GCT\": \"c\",\n",
    "    \"TTC\": \"d\",\n",
    "    \"AAC\": \"e\",\n",
    "    \"TAT\": \"f\",\n",
    "    \"GTA\": \"g\",\n",
    "    \"CCG\": \"h\",\n",
    "    \"ACA\": \"i\",\n",
    "    \"CGA\": \"j\",\n",
    "    \"TAG\": \"k\",\n",
    "    \"CTG\": \"l\",\n",
    "    \"GGA\": \"m\",\n",
    "    \"ATG\": \"n\",\n",
    "    \"TCT\": \"o\",\n",
    "    \"CGG\": \"p\",\n",
    "    \"GAT\": \"q\",\n",
    "    \"ACC\": \"r\",\n",
    "    \"GAC\": \"s\",\n",
    "    \"GTC\": \"t\",\n",
    "    \"TGG\": \"u\",\n",
    "    \"CCT\": \"v\",\n",
    "    \"GAA\": \"w\",\n",
    "    \"TCA\": \"x\",\n",
    "    \"CAA\": \"y\",\n",
    "    \"AAT\": \"z\",\n",
    "    \"ACT\": \"0\",\n",
    "    \"GCG\": \"1\",\n",
    "    \"GGC\": \"2\",\n",
    "    \"CTA\": \"3\",\n",
    "    \"AAG\": \"4\",\n",
    "    \"AGG\": \"5\",\n",
    "    \"CAG\": \"6\",\n",
    "    \"AGC\": \"7\",\n",
    "    \"CGC\": \"8\",\n",
    "    \"TTG\": \"9\",\n",
    "    \"TCC\": \"!\",\n",
    "    \"TGA\": \"@\",\n",
    "    \"XXX\": \"*\",\n",
    "}\n",
    "\n",
    "\n",
    "def build_tokenizer(\n",
    "    corpus_iterator,\n",
    "    vocab_size,\n",
    "    tokenizer_type: str,\n",
    "    add_bos_eos: bool = True,\n",
    "    max_length: int = 1024,\n",
    "    save: bool = False,\n",
    "    initial_alphabet: list[str] = None,\n",
    "):\n",
    "    special_tokens = {\n",
    "        \"unk_token\": \"[UNK]\",\n",
    "        \"cls_token\": \"[CLS]\",\n",
    "        \"sep_token\": \"[SEP]\",\n",
    "        \"pad_token\": \"[PAD]\",\n",
    "        \"mask_token\": \"[MASK]\",\n",
    "        \"bos_token\": \"[BOS]\",\n",
    "        \"eos_token\": \"[EOS]\",\n",
    "    }\n",
    "\n",
    "    bos_index = 5\n",
    "    eos_index = 6\n",
    "\n",
    "    # Define tokenizer\n",
    "    tokenizer = Tokenizer(BPE(unk_token=special_tokens[\"unk_token\"]))\n",
    "\n",
    "    if tokenizer_type == \"cpe_tokenizer\":\n",
    "        tokenizer.pre_tokenizer = Digits(individual_digits=False)\n",
    "\n",
    "    else:\n",
    "        tokenizer.pre_tokenizer = Whitespace()\n",
    "\n",
    "    trainer = trainers.BpeTrainer(\n",
    "        vocab_size=vocab_size,\n",
    "        special_tokens=list(special_tokens.values()),\n",
    "        # initial_alphabet=initial_alphabet\n",
    "    )\n",
    "\n",
    "    print(\"Training tokenizer\")\n",
    "\n",
    "    tokenizer.train_from_iterator(corpus_iterator, trainer=trainer)\n",
    "    # Add post-processor\n",
    "    # trim_offsets=True will ignore spaces, false will leave them in\n",
    "    tokenizer.post_processor = processors.ByteLevel(trim_offsets=True)\n",
    "    if add_bos_eos:\n",
    "        tokenizer.post_processor = TemplateProcessing(\n",
    "            single=\"[BOS] $A [EOS]\",\n",
    "            special_tokens=[(\"[BOS]\", bos_index), (\"[EOS]\", eos_index)],\n",
    "        )\n",
    "\n",
    "    # Add a decoder\n",
    "    tokenizer.decoder = decoders.ByteLevel()\n",
    "\n",
    "    # save the tokenizer\n",
    "    wrapped_tokenizer = PreTrainedTokenizerFast(\n",
    "        tokenizer_object=tokenizer, **special_tokens\n",
    "    )\n",
    "    if save:\n",
    "        # wrapped_tokenizer.save_pretrained(\n",
    "        #     f\"data/experiment_tokenizers_saved/{tokenizer_type}s/{tokenizer_type}_{tokenizer.get_vocab_size()}\"\n",
    "        # )\n",
    "        wrapped_tokenizer.save_pretrained(\"cpe_tokenizer_retrained_3000\")\n",
    "\n",
    "    print(f\"Returning tokenizer with vocab_size = {tokenizer.get_vocab_size()}\")\n",
    "\n",
    "    return wrapped_tokenizer\n",
    "\n",
    "\n",
    "# ImportError: cannot import name 'group_and_contextualize_cpe_training' from 'utils' (/home/couchbucks/Documents/saketh/cpe/cpe/utils.py)\n",
    "def group_and_contextualize_cpe_training(seq: str, k: int = 3):\n",
    "    return \"\".join(CODON_CHAR.get(seq[i : i + k]) for i in range(0, len(seq), k))"
   ]
  },
  {
   "cell_type": "code",
   "execution_count": 2,
   "metadata": {},
   "outputs": [],
   "source": [
    "\n",
    "from transformers import PreTrainedTokenizerFast\n",
    "from tokenizers.processors import TemplateProcessing\n",
    "from tokenizers import (\n",
    "    decoders,\n",
    "    models,\n",
    "    normalizers,\n",
    "    pre_tokenizers,\n",
    "    processors,\n",
    "    trainers,\n",
    "    Tokenizer,\n",
    ")\n",
    "from tokenizers.models import BPE\n",
    "#from statistics import mean, median\n",
    "from tokenizers.pre_tokenizers import Digits, Whitespace, Sequence\n",
    "def build_tokenizer(\n",
    "    corpus_iterator,\n",
    "    vocab_size,\n",
    "    tokenizer_type: str,\n",
    "    add_bos_eos: bool = True,\n",
    "    max_length: int = 1024,\n",
    "    save: bool = False,\n",
    "    initial_alphabet: list[str] = None,\n",
    "    save_name: str = ''\n",
    "):\n",
    "    special_tokens = {\n",
    "        \"unk_token\": \"[UNK]\",\n",
    "        \"cls_token\": \"[CLS]\",\n",
    "        \"sep_token\": \"[SEP]\",\n",
    "        \"pad_token\": \"[PAD]\",\n",
    "        \"mask_token\": \"[MASK]\",\n",
    "        \"bos_token\": \"[BOS]\",\n",
    "        \"eos_token\": \"[EOS]\",\n",
    "    }\n",
    "\n",
    "    bos_index = 5\n",
    "    eos_index = 6\n",
    "\n",
    "    # Define tokenizer\n",
    "    tokenizer = Tokenizer(BPE(unk_token=special_tokens[\"unk_token\"]))\n",
    "\n",
    "    if tokenizer_type == \"cpe_tokenizer\":\n",
    "        tokenizer.pre_tokenizer = Digits(individual_digits=False)\n",
    "\n",
    "    else:\n",
    "        tokenizer.pre_tokenizer = Whitespace()\n",
    "\n",
    "    trainer = trainers.BpeTrainer(\n",
    "        vocab_size=vocab_size,\n",
    "        special_tokens=list(special_tokens.values()),\n",
    "        # initial_alphabet=initial_alphabet\n",
    "    )\n",
    "\n",
    "    print(\"Training tokenizer\")\n",
    "\n",
    "    tokenizer.train_from_iterator(corpus_iterator, trainer=trainer)\n",
    "    # Add post-processor\n",
    "    # trim_offsets=True will ignore spaces, false will leave them in\n",
    "    tokenizer.post_processor = processors.ByteLevel(trim_offsets=True)\n",
    "    if add_bos_eos:\n",
    "        tokenizer.post_processor = TemplateProcessing(\n",
    "            single=\"[BOS] $A [EOS]\",\n",
    "            special_tokens=[(\"[BOS]\", bos_index), (\"[EOS]\", eos_index)],\n",
    "        )\n",
    "\n",
    "    # Add a decoder\n",
    "    tokenizer.decoder = decoders.ByteLevel()\n",
    "\n",
    "    # save the tokenizer\n",
    "    wrapped_tokenizer = PreTrainedTokenizerFast(\n",
    "        tokenizer_object=tokenizer, **special_tokens\n",
    "    )\n",
    "    if save:\n",
    "        # wrapped_tokenizer.save_pretrained(\n",
    "        #     f\"data/experiment_tokenizers_saved/{tokenizer_type}s/{tokenizer_type}_{tokenizer.get_vocab_size()}\"\n",
    "        # )\n",
    "        wrapped_tokenizer.save_pretrained(save_name)\n",
    "\n",
    "    print(f\"Returning tokenizer with vocab_size = {tokenizer.get_vocab_size()}\")\n",
    "\n",
    "    return wrapped_tokenizer"
   ]
  },
  {
   "cell_type": "code",
   "execution_count": 3,
   "metadata": {},
   "outputs": [],
   "source": [
    "def plot_vocab_lens(\n",
    "    sequence_fasta_file: str, vocab_sizes: list[int], bpe_tokenizer_type: str, save_tokenizer: bool = False, save_plot_data: bool = True\n",
    "):\n",
    "    \"\"\"_summary_\n",
    "\n",
    "    Args:\n",
    "        sequences [str]: _description_\n",
    "        max_vocab_len (int): _description_\n",
    "        increment (int): _description_\n",
    "        bpe_tokenizer_type (str): choices: [\"ape_tokenizer\", \"cpe_tokenizer\", \"npe_tokenizer\"]\n",
    "    \"\"\"\n",
    "\n",
    "    dna_sequences = any_file_fasta_reader(sequence_fasta_file)\n",
    "\n",
    "    # data preprocessing dependent on tokenizer_type\n",
    "    if bpe_tokenizer_type == \"ape_tokenizer\":\n",
    "        sequences = [translate(seq.upper()) for seq in dna_sequences]\n",
    "        # initial_alphabet = ['R', 'H', 'K', 'D', 'E', 'S', 'T', 'N', 'Q', 'A', 'V', 'I', 'L', 'M', 'F', 'Y', 'W', 'C', 'G', 'P', '_', 'X']\n",
    "\n",
    "    elif bpe_tokenizer_type == \"cpe_tokenizer\":\n",
    "        # print(dna_sequences[0])\n",
    "        sequences = [group_and_contextualize_cpe_training(seq) for seq in dna_sequences]\n",
    "        # initial_alphabet = list(CODON_CHAR.values())\n",
    "\n",
    "    elif bpe_tokenizer_type == \"npe_tokenizer\":\n",
    "        sequences = [seq.upper() for seq in dna_sequences]\n",
    "        # initial_alphabet = [\"A\", \"C\", \"T\", \"G\"]\n",
    "\n",
    "    else:\n",
    "        raise ValueError(\"Please enter a valid bpe_tokenizer_type :)\")\n",
    "\n",
    "    num_tokens_in_vocab = {}\n",
    "    per_vocab_in_vocab = {}\n",
    "\n",
    "    for vocab_size in vocab_sizes:\n",
    "        # Build the tokenizer\n",
    "        if save_tokenizer:\n",
    "            tokenizer = build_tokenizer(sequences, vocab_size, bpe_tokenizer_type, save = True)\n",
    "        else: \n",
    "            tokenizer = build_tokenizer(sequences, vocab_size, bpe_tokenizer_type, save = False)\n",
    "\n",
    "        #print(sequences)\n",
    "        \n",
    "        # List of the number of unique token ids for each tokenized sequence\n",
    "        unique_lens = []\n",
    "\n",
    "        print(f\"Finding lens for {tokenizer.vocab_size}\")\n",
    "        \n",
    "        tokenized_seqs = tokenizer(\n",
    "                sequences,\n",
    "                max_length=1024,\n",
    "                padding=\"max_length\",\n",
    "                truncation=True,\n",
    "                return_tensors=\"pt\",\n",
    "            )\n",
    "        \n",
    "        data = {\n",
    "        \"input_ids\": tokenized_seqs.input_ids,\n",
    "    }\n",
    "        \n",
    "        for tokenized_seq in tqdm(data['input_ids']):\n",
    "            # print(tokenizer.vocab)\n",
    "\n",
    "            \n",
    "            # torch.unique finds all the individual tokens we USED to tokenize the sequence\n",
    "            # len finds how many individual tokens we need to tokenize the sequence\n",
    "            unique_lens.append(len(torch.unique(tokenized_seq)))\n",
    "\n",
    "            # basic sanity check for right now\n",
    "            if len(torch.flatten(tokenized_seq)) != 1024:\n",
    "                raise ValueError(\"input_ids length mismatch\")\n",
    "\n",
    "        # print(unique_lens)\n",
    "\n",
    "        # print(set(unique_lens))\n",
    "\n",
    "        avg_num_unique_tokens = median(unique_lens)\n",
    "\n",
    "        num_tokens_in_vocab[vocab_size] = avg_num_unique_tokens\n",
    "\n",
    "        per_vocab_in_vocab[vocab_size] = avg_num_unique_tokens / len(tokenizer.vocab)\n",
    "        # print(per_vocab_in_vocab)\n",
    "\n",
    "        del tokenizer, unique_lens, avg_num_unique_tokens\n",
    "\n",
    "    data = []\n",
    "\n",
    "    for vocab_size, per_tokens in per_vocab_in_vocab.items():\n",
    "        abs_tokens = num_tokens_in_vocab[vocab_size]\n",
    "        data.append(\n",
    "            {\n",
    "                \"vocab_size\": vocab_size,\n",
    "                \"median_tokens\": abs_tokens,\n",
    "                \"relative_tokens\": per_tokens,\n",
    "            }\n",
    "        )\n",
    "    if save_plot_data:\n",
    "        file_path = bpe_tokenizer_type + \"_experiment.json\"\n",
    "        with open(file_path, \"w\") as json_file:\n",
    "            json.dump(data, json_file, indent=2)\n",
    "\n",
    "    # fig = plt.figure()\n",
    "    # ax = fig.add_subplot(111)\n",
    "    plt.scatter(num_tokens_in_vocab.keys(), num_tokens_in_vocab.values())\n",
    "    plt.title(bpe_tokenizer_type + \" absolute median num unique tokens\")\n",
    "    plt.xlabel(\"Vocab Size\")\n",
    "    plt.ylabel(\"Num Unique Tokens Used\")\n",
    "    # for xy in zip(num_tokens_in_vocab.keys(), num_tokens_in_vocab.values()):\n",
    "    #   plt.annotate('(%.2f, %.2f)' % xy, xy=xy)\n",
    "    plt.show()\n",
    "\n",
    "    plt.scatter(per_vocab_in_vocab.keys(), per_vocab_in_vocab.values())\n",
    "    plt.title(bpe_tokenizer_type + \" relative median num unique tokens\")\n",
    "    plt.xlabel(\"Vocab Size\")\n",
    "    plt.ylabel(\"Percentage of Vocab Size Used\")\n",
    "    # for xy in zip(per_vocab_in_vocab.keys(), per_vocab_in_vocab.values()):\n",
    "    #   plt.annotate('(%.2f, %.2f)' % xy, xy=xy)\n",
    "    plt.show()"
   ]
  },
  {
   "cell_type": "code",
   "execution_count": 4,
   "metadata": {},
   "outputs": [],
   "source": [
    "from pathlib import Path\n",
    "from typing import Union, List\n",
    "PathLike = Union[str, Path]\n",
    "import re\n",
    "\n",
    "def read_fasta_only_seq(fasta_file: PathLike) -> List[str]:\n",
    "    \"\"\"Reads fasta file sequences without description tag.\"\"\"\n",
    "    text = Path(fasta_file).read_text()\n",
    "    pattern = re.compile(\"^>\", re.MULTILINE)\n",
    "    non_parsed_seqs = re.split(pattern, text)[1:]\n",
    "    lines = [\n",
    "        line.replace(\"\\n\", \"\") for seq in non_parsed_seqs for line in seq.split(\"\\n\", 1)\n",
    "    ]\n",
    "\n",
    "    return lines[1::2]\n"
   ]
  },
  {
   "cell_type": "code",
   "execution_count": 5,
   "metadata": {},
   "outputs": [],
   "source": [
    "CODON_TO_CHAR = {\n",
    "    \"TCG\": \"A\",\n",
    "    \"GCA\": \"B\",\n",
    "    \"CTT\": \"C\",\n",
    "    \"ATT\": \"D\",\n",
    "    \"TTA\": \"E\",\n",
    "    \"GGG\": \"F\",\n",
    "    \"CGT\": \"G\",\n",
    "    \"TAA\": \"H\",\n",
    "    \"AAA\": \"I\",\n",
    "    \"CTC\": \"J\",\n",
    "    \"AGT\": \"K\",\n",
    "    \"CCA\": \"L\",\n",
    "    \"TGT\": \"M\",\n",
    "    \"GCC\": \"N\",\n",
    "    \"GTT\": \"O\",\n",
    "    \"ATA\": \"P\",\n",
    "    \"TAC\": \"Q\",\n",
    "    \"TTT\": \"R\",\n",
    "    \"TGC\": \"S\",\n",
    "    \"CAC\": \"T\",\n",
    "    \"ACG\": \"U\",\n",
    "    \"CCC\": \"V\",\n",
    "    \"ATC\": \"W\",\n",
    "    \"CAT\": \"X\",\n",
    "    \"AGA\": \"Y\",\n",
    "    \"GAG\": \"Z\",\n",
    "    \"GTG\": \"a\",\n",
    "    \"GGT\": \"b\",\n",
    "    \"GCT\": \"c\",\n",
    "    \"TTC\": \"d\",\n",
    "    \"AAC\": \"e\",\n",
    "    \"TAT\": \"f\",\n",
    "    \"GTA\": \"g\",\n",
    "    \"CCG\": \"h\",\n",
    "    \"ACA\": \"i\",\n",
    "    \"CGA\": \"j\",\n",
    "    \"TAG\": \"k\",\n",
    "    \"CTG\": \"l\",\n",
    "    \"GGA\": \"m\",\n",
    "    \"ATG\": \"n\",\n",
    "    \"TCT\": \"o\",\n",
    "    \"CGG\": \"p\",\n",
    "    \"GAT\": \"q\",\n",
    "    \"ACC\": \"r\",\n",
    "    \"GAC\": \"s\",\n",
    "    \"GTC\": \"t\",\n",
    "    \"TGG\": \"u\",\n",
    "    \"CCT\": \"v\",\n",
    "    \"GAA\": \"w\",\n",
    "    \"TCA\": \"x\",\n",
    "    \"CAA\": \"y\",\n",
    "    \"AAT\": \"z\",\n",
    "    \"ACT\": \"0\",\n",
    "    \"GCG\": \"1\",\n",
    "    \"GGC\": \"2\",\n",
    "    \"CTA\": \"3\",\n",
    "    \"AAG\": \"4\",\n",
    "    \"AGG\": \"5\",\n",
    "    \"CAG\": \"6\",\n",
    "    \"AGC\": \"7\",\n",
    "    \"CGC\": \"8\",\n",
    "    \"TTG\": \"9\",\n",
    "    \"TCC\": \"!\",\n",
    "    \"TGA\": \"@\",\n",
    "    \"XXX\": \"*\",\n",
    "}\n",
    "\n",
    "def group_and_contextualize_cpe_training(seq: str, k: int = 3):\n",
    "    return \"\".join(CODON_TO_CHAR.get(seq[i : i + k]) for i in range(0, len(seq), k))"
   ]
  },
  {
   "cell_type": "code",
   "execution_count": 6,
   "metadata": {},
   "outputs": [],
   "source": [
    "\n",
    "\n",
    "def plot_mean_seq_lens(\n",
    "    dna_sequences: list[str], vocab_sizes: list[int], bpe_tokenizer_type: str, save_tokenizer: bool = False, save_plot_data: bool = True\n",
    "):\n",
    "    \"\"\"_summary_\n",
    "\n",
    "    Args:\n",
    "        sequences [str]: _description_\n",
    "        max_vocab_len (int): _description_\n",
    "        increment (int): _description_\n",
    "        bpe_tokenizer_type (str): choices: [\"ape_tokenizer\", \"cpe_tokenizer\", \"npe_tokenizer\"]\n",
    "    \"\"\"\n",
    "\n",
    "    \n",
    "\n",
    "    # data preprocessing dependent on tokenizer_type\n",
    "    if bpe_tokenizer_type == \"ape_tokenizer\":\n",
    "        sequences = [translate(seq.upper()) for seq in dna_sequences]\n",
    "        # initial_alphabet = ['R', 'H', 'K', 'D', 'E', 'S', 'T', 'N', 'Q', 'A', 'V', 'I', 'L', 'M', 'F', 'Y', 'W', 'C', 'G', 'P', '_', 'X']\n",
    "\n",
    "    elif bpe_tokenizer_type == \"cpe_tokenizer\":\n",
    "        # print(dna_sequences[0])\n",
    "        sequences = [group_and_contextualize_cpe_training(seq) for seq in dna_sequences]\n",
    "        # initial_alphabet = list(CODON_CHAR.values())\n",
    "\n",
    "    elif bpe_tokenizer_type == \"npe_tokenizer\":\n",
    "        sequences = [seq.upper() for seq in dna_sequences]\n",
    "        # initial_alphabet = [\"A\", \"C\", \"T\", \"G\"]\n",
    "\n",
    "    else:\n",
    "        raise ValueError(\"Please enter a valid bpe_tokenizer_type :)\")\n",
    "\n",
    "    mean_tokenized_len = {}\n",
    "\n",
    "    for vocab_size in vocab_sizes:\n",
    "        # Build the tokenizer\n",
    "        if save_tokenizer:\n",
    "            tokenizer = build_tokenizer(sequences, vocab_size, bpe_tokenizer_type, save = True)\n",
    "        else: \n",
    "            tokenizer = build_tokenizer(sequences, vocab_size, bpe_tokenizer_type, save = False)\n",
    "\n",
    "        #print(sequences)\n",
    "        \n",
    "        # List of the number of unique token ids for each tokenized sequence\n",
    "        unique_lens = []\n",
    "        \n",
    "        pad_token_id = tokenizer.vocab['[PAD]']\n",
    "\n",
    "        print(f\"Finding lens for {tokenizer.vocab_size}\")\n",
    "        \n",
    "        tokenized_seqs = tokenizer(\n",
    "                sequences,\n",
    "                max_length=1024,\n",
    "                padding=\"max_length\",\n",
    "                truncation=True,\n",
    "                return_tensors=\"pt\",\n",
    "            )\n",
    "        \n",
    "        data = {\n",
    "        \"input_ids\": tokenized_seqs.input_ids.tolist(),\n",
    "    }\n",
    "        \n",
    "        for tokenized_seq in tqdm(data['input_ids']):\n",
    "            if len(tokenized_seq) != 1024:\n",
    "                raise ValueError(\"input_ids length mismatch\")\n",
    "            \n",
    "            # remove all pad tokens\n",
    "            tokenized_seq = [id for id in tokenized_seq if id != pad_token_id]\n",
    "            # print(tokenizer.vocab)\n",
    "\n",
    "            \n",
    "            \n",
    "            # len finds how many individual tokens we need to tokenize the sequence\n",
    "            unique_lens.append(len(tokenized_seq))\n",
    "\n",
    "            # basic sanity check for right now\n",
    "            \n",
    "\n",
    "        # print(unique_lens)\n",
    "\n",
    "        # print(set(unique_lens))\n",
    "\n",
    "        avg_num_unique_tokens = mean(unique_lens)\n",
    "\n",
    "        mean_tokenized_len[vocab_size] = avg_num_unique_tokens\n",
    "        # print(per_vocab_in_vocab)\n",
    "\n",
    "        del tokenizer, unique_lens, avg_num_unique_tokens\n",
    "\n",
    "    data = []\n",
    "\n",
    "    for vocab_size, mean_tokens in mean_tokenized_len.items():\n",
    "        data.append(\n",
    "            {\n",
    "                \"vocab_size\": vocab_size,\n",
    "                \"mean_tokenized_sequence_len\": mean_tokens,\n",
    "            }\n",
    "        )\n",
    "    if save_plot_data:\n",
    "        file_path = bpe_tokenizer_type + \"_mean_seq_len_experiment_fungi.json\"\n",
    "        with open(file_path, \"w\") as json_file:\n",
    "            json.dump(data, json_file, indent=2)\n",
    "\n",
    "    # fig = plt.figure()\n",
    "    # ax = fig.add_subplot(111)\n",
    "    plt.scatter(mean_tokenized_len.keys(), mean_tokenized_len.values())\n",
    "    plt.title(bpe_tokenizer_type + \"mean tokenized sequence length\")\n",
    "    plt.xlabel(\"Vocab Size\")\n",
    "    plt.ylabel(\"Avg. Sequence Length\")\n",
    "    # for xy in zip(num_tokens_in_vocab.keys(), num_tokens_in_vocab.values()):\n",
    "    #   plt.annotate('(%.2f, %.2f)' % xy, xy=xy)\n",
    "    plt.show()"
   ]
  },
  {
   "cell_type": "code",
   "execution_count": 7,
   "metadata": {},
   "outputs": [
    {
     "name": "stdout",
     "output_type": "stream",
     "text": [
      "36631\n",
      "ATGAGCAAGGTCACCGTCGTAGGGGCCGGCAAGTACGGATCAACCACCGCCATGCGGCTCGCTGAAGCCGACATCGTCGACGAGGTCGTCATGACCGACATTGTCGAGGGTCTACCCCAGGGCCTGGCGCTCGATATCAATCAGTCGCGGCCGCTGCTCGGCTACCGGACCGTCATCACCGGTTCGAACGACTACGCCGCCACTGCCGGCAGCGATGTCGTGGTCATCACCGCCGGGTTGCCGCGCAAGCCAGGCATGAGTCGCATGGACCTCCTCGAGGTCAATGCCAAGATCGTCAAGGACGTCACCGTCCAGATAGCCGAGCATTCGCCGGACGCGGTCATCATCAACGTCACGAACCCGCTCGATCACATGACAACCCTGGCGGCGGAAGTATCCGGCTTCGACACCCGCCGGGTCATGGGACAGGCAGGCATGCTCGACTCCGCTCGTTTCGCTCATTTCATCGCAGAAGTGACCGGTGCCGACATCATGGACGTCGAGGCTCTTACCCTCGGCAGCCACGGAGAGACCATGGTCCCGGTTCCGTCACAAACCAAGGTGGGGGGCAAACTCCTCGCCGATCTCGTCGATGCCGACGCCGTCGAGTCGCTCGTCGACCGGACCCGCAAGGGTGGGGCCGAGGTTGTTGCGCTCCTCAAGACCGGCAGCGCCTATTACGCCCCCTCGGCGGCTGCCGCCAAGATGGTCGAAGCCGTCATTGGAGATACCGGCGAGGTGATGCCGGTATGTGCCTGGATGAGTGGCGAGTACGGGATCTCCGACGTATACCTCGGTGTTCCAGCAAGTCTCGGCAAAGAGGGCGTGAAGGAGATCGTCGAACTCCCGCTCACCGACACTGAGGCAACCGCGCTGTCTGAAGCTGCGGCGTCCGTGAAGGAAAAGGTCGACGAGCTGCACGAGTTGGATCTGGGATAG\n"
     ]
    }
   ],
   "source": [
    "sequence_fasta_file = \"/home/couchbucks/Documents/saketh/cpe/data/datasets/mdh/mdh_natural_dataset.fasta\"\n",
    "dna_sequences = read_fasta_only_seq(sequence_fasta_file)\n",
    "print(len(dna_sequences))\n",
    "print(dna_sequences[0])\n",
    "#sequences = [group_and_contextualize_cpe_training(seq.upper()) for seq in dna_sequences]\n",
    "sequences = []\n",
    "for seq in dna_sequences:\n",
    "    #print(seq)\n",
    "    sequences.append(group_and_contextualize(seq, 3, False, 'cpe_tokenizer'))\n"
   ]
  },
  {
   "cell_type": "code",
   "execution_count": 18,
   "metadata": {},
   "outputs": [
    {
     "data": {
      "text/plain": [
       "'n74trtgFN24QmxrrNnpJcwNsWtsZttnrsDtZb3V62l1JqWz6AphlJ2QprtWrbAesQNN0N27qtatWrNF9h84L2nK8nsJJZtzN4Wt4strt6PNZXAhs1tWWetUehJqTnirl11wg!2dsr8ptnm6B2nJs!cGdcXdWBwarbNsWnstZcCrJ27TmZrnthOhxyr4aF2IJJNqJtqNsNtZAJtspr84bFNZOO1JJ4r27NfQNVA1cNN4ntwNtDmqr2ZanhgMNunK2ZQFW!sgQJbOLBKJ2IZ2a4ZWtwJhJrs0ZBr1lowc11!a4w4tsZlTZ9qlmk'"
      ]
     },
     "execution_count": 18,
     "metadata": {},
     "output_type": "execute_result"
    }
   ],
   "source": [
    "sequences[0]"
   ]
  },
  {
   "cell_type": "code",
   "execution_count": 25,
   "metadata": {},
   "outputs": [
    {
     "name": "stdout",
     "output_type": "stream",
     "text": [
      "Training tokenizer\n",
      "\n",
      "\n",
      "\n",
      "Returning tokenizer with vocab_size = 77\n"
     ]
    },
    {
     "data": {
      "text/plain": [
       "PreTrainedTokenizerFast(name_or_path='', vocab_size=77, model_max_length=1000000000000000019884624838656, is_fast=True, padding_side='right', truncation_side='right', special_tokens={'bos_token': '[BOS]', 'eos_token': '[EOS]', 'unk_token': '[UNK]', 'sep_token': '[SEP]', 'pad_token': '[PAD]', 'cls_token': '[CLS]', 'mask_token': '[MASK]'}, clean_up_tokenization_spaces=True),  added_tokens_decoder={\n",
       "\t0: AddedToken(\"[UNK]\", rstrip=False, lstrip=False, single_word=False, normalized=False, special=True),\n",
       "\t1: AddedToken(\"[CLS]\", rstrip=False, lstrip=False, single_word=False, normalized=False, special=True),\n",
       "\t2: AddedToken(\"[SEP]\", rstrip=False, lstrip=False, single_word=False, normalized=False, special=True),\n",
       "\t3: AddedToken(\"[PAD]\", rstrip=False, lstrip=False, single_word=False, normalized=False, special=True),\n",
       "\t4: AddedToken(\"[MASK]\", rstrip=False, lstrip=False, single_word=False, normalized=False, special=True),\n",
       "\t5: AddedToken(\"[BOS]\", rstrip=False, lstrip=False, single_word=False, normalized=False, special=True),\n",
       "\t6: AddedToken(\"[EOS]\", rstrip=False, lstrip=False, single_word=False, normalized=False, special=True),\n",
       "}"
      ]
     },
     "execution_count": 25,
     "metadata": {},
     "output_type": "execute_result"
    }
   ],
   "source": [
    "build_tokenizer(corpus_iterator=sequences, vocab_size=77, save=True, tokenizer_type=\"cpe_tokenizer\", save_name='cpe_tokenizer_77')"
   ]
  },
  {
   "cell_type": "code",
   "execution_count": null,
   "metadata": {},
   "outputs": [],
   "source": []
  },
  {
   "cell_type": "code",
   "execution_count": 10,
   "metadata": {},
   "outputs": [],
   "source": [
    "max_vocab_all = 7_000"
   ]
  },
  {
   "cell_type": "code",
   "execution_count": 18,
   "metadata": {},
   "outputs": [],
   "source": [
    "sequences = read_fasta(\"/home/couchbucks/Documents/saketh/cpe/data/datasets/fungi/train_fungi.fasta\")"
   ]
  },
  {
   "cell_type": "code",
   "execution_count": 19,
   "metadata": {},
   "outputs": [],
   "source": [
    "all_fungi_seqs = [seq.sequence for seq in sequences]"
   ]
  },
  {
   "cell_type": "code",
   "execution_count": 7,
   "metadata": {},
   "outputs": [],
   "source": [
    "from utils import group_and_contextualize_cpe_training"
   ]
  },
  {
   "cell_type": "code",
   "execution_count": 20,
   "metadata": {},
   "outputs": [],
   "source": [
    "all_fungi_seqs = [group_and_contextualize_cpe_training(seq) for seq in all_fungi_seqs]"
   ]
  },
  {
   "cell_type": "code",
   "execution_count": 21,
   "metadata": {},
   "outputs": [],
   "source": [
    "seq_lens = [len(seq.sequence) for seq in sequences]"
   ]
  },
  {
   "cell_type": "code",
   "execution_count": 22,
   "metadata": {},
   "outputs": [
    {
     "name": "stdout",
     "output_type": "stream",
     "text": [
      "DataFrame:\n",
      "   values\n",
      "0    4044\n",
      "1     327\n",
      "2    2160\n",
      "3     867\n",
      "4    6426\n",
      "\n",
      "Summary Statistics:\n",
      "mean    8.890087e+03\n",
      "50%     1.446000e+03\n",
      "max     1.478136e+06\n",
      "min     7.500000e+01\n",
      "Name: values, dtype: float64\n"
     ]
    }
   ],
   "source": [
    "import numpy as np\n",
    "import pandas as pd\n",
    "data = np.array(seq_lens)\n",
    "df = pd.DataFrame({'values': data})\n",
    "\n",
    "# Display the DataFrame\n",
    "print(\"DataFrame:\")\n",
    "print(df.head())\n",
    "\n",
    "# Get summary statistics\n",
    "summary_stats = df['values'].describe()\n",
    "\n",
    "# Display mean, median, max, and min\n",
    "print(\"\\nSummary Statistics:\")\n",
    "print(summary_stats[['mean', '50%', 'max', 'min']])"
   ]
  },
  {
   "cell_type": "code",
   "execution_count": 23,
   "metadata": {},
   "outputs": [
    {
     "data": {
      "text/plain": [
       "'Lx94bLKBOQDlOo9aa99leXqjEn6RdO!9uD35gYoq@pf@jzbS!oejImw2oPymfjDkGjYDw8SeuJHs4RgjywmYXCqB6nZg!dOtXxuMm58Cd8x5SIsMX!7HbCpHOdXkeGVjXmd@w0sJRbLwB9@SyDytCwJ!Iya6eYDzL@uSE9bd@!Dy8LDQSSHI2TI0b3uMj!@RQ6m5udX!fTRsRLYSCwTkMCDcNzFk5j@uSxdzy@IOYfdIRMuufwsq2SECBPEJ@WNYI3KXCDfPMgfnMIdXtDyOQxd3dwd@IZ5IeYIJRPZIW@S74PBKPfUyIQyornOCyQV6zIP9OExqTLTeREIiyR9yslRXSo7U2WKPO4sy0uwzYQfItXRqCfDsoSIZPLguawwRPUvwMwhCYztnBmDWEPUsWpyiIvywllTydnPcNXjz0ROa9NzaewwtZyqwDqwlzZPu7zNRietWwdgeuI5xIL0OzXesfmwI9FCq5W6ZDPqrTsuEzMwOyhc0IP5ZwDvzwnVJwyPD5z9yKB53If4oWZzKKwcqcRBzwncsw3!YfE@gMiqnfnMPXnfHrz4DcXROzKR9fcOKKiF4fcKIrrl9Dn!ItFgw@kdEruPRzK7zBzxJ5kYD2zgizaErdXiKOC!RUVEGEIK9TyuyfNMqIq4wPnI3wfqBd95WzBSxHAxHIuWUl0IkPIR5odIeOCw7ILf9ehuz37eyP0!nnlwHeWIfW4zAuDvVbIejsvrK2DzW7TGWzzBBQI4Cacz@HQ@H7ESte9PvNWJzcKHPfarwyPCE9U9fEXfdLD@5HWPRzdXDyzHHxjII@qRyzeUQy4zYIjiIzybQ4W0IYnebQuIv19Otlm9go3xfcRrrDwiwDdyEyzwPKUIf2LqnedQ4d94EvIl6zoKi4ZDiIeEY43!44QXhq4evIQGI9fw5EeJc0yDCxe7ozG4Dfqff36z2RLefqdX4bbRfR!Yn4v40udllNRDuPtOzDF6fWDoDDyfGoyYxYDwedWK6MIy6qqrzm32gIy3URIyXw4qZbIK9Og5R7qtfOgZvqmKwi3DALqr9qIvxg4eM9RuYPvcAOuenUR2IoOb7BmIwwPPUqKI4fqbeyiI4FeIgI4boB4I2y4Inw9vebIaWfxGI@QgYKzDWnnzw@nzYI3Xb0fifIEPfPfizHYIgyezgxdnWPWDWDW7WdDPDUKDWDtDWDDWODWOOD0DD0DnObDOzO0D0OCtJppV6fweVDdGOCDWetd97vDqHXdvHCOaHWYdMYHmylddkYJeDqH9NNr0M!D00VbW@W4qdDDD0SWrDuKHQKKDt56lpzqOrD!WWzP0!rN4zRYgXXoM!Oz0oAzP9Lddb'"
      ]
     },
     "execution_count": 23,
     "metadata": {},
     "output_type": "execute_result"
    }
   ],
   "source": [
    "all_fungi_seqs[0]"
   ]
  },
  {
   "cell_type": "code",
   "execution_count": 24,
   "metadata": {},
   "outputs": [
    {
     "name": "stdout",
     "output_type": "stream",
     "text": [
      "Training tokenizer\n",
      "\n",
      "\n",
      "\n",
      "Returning tokenizer with vocab_size = 3000\n"
     ]
    },
    {
     "data": {
      "text/plain": [
       "PreTrainedTokenizerFast(name_or_path='', vocab_size=3000, model_max_length=1000000000000000019884624838656, is_fast=True, padding_side='right', truncation_side='right', special_tokens={'bos_token': '[BOS]', 'eos_token': '[EOS]', 'unk_token': '[UNK]', 'sep_token': '[SEP]', 'pad_token': '[PAD]', 'cls_token': '[CLS]', 'mask_token': '[MASK]'}, clean_up_tokenization_spaces=True),  added_tokens_decoder={\n",
       "\t0: AddedToken(\"[UNK]\", rstrip=False, lstrip=False, single_word=False, normalized=False, special=True),\n",
       "\t1: AddedToken(\"[CLS]\", rstrip=False, lstrip=False, single_word=False, normalized=False, special=True),\n",
       "\t2: AddedToken(\"[SEP]\", rstrip=False, lstrip=False, single_word=False, normalized=False, special=True),\n",
       "\t3: AddedToken(\"[PAD]\", rstrip=False, lstrip=False, single_word=False, normalized=False, special=True),\n",
       "\t4: AddedToken(\"[MASK]\", rstrip=False, lstrip=False, single_word=False, normalized=False, special=True),\n",
       "\t5: AddedToken(\"[BOS]\", rstrip=False, lstrip=False, single_word=False, normalized=False, special=True),\n",
       "\t6: AddedToken(\"[EOS]\", rstrip=False, lstrip=False, single_word=False, normalized=False, special=True),\n",
       "}"
      ]
     },
     "execution_count": 24,
     "metadata": {},
     "output_type": "execute_result"
    }
   ],
   "source": [
    "build_tokenizer(corpus_iterator=all_fungi_seqs, vocab_size=3000, save=True, tokenizer_type=\"cpe_tokenizer\")"
   ]
  },
  {
   "cell_type": "code",
   "execution_count": 26,
   "metadata": {},
   "outputs": [],
   "source": [
    "from sklearn.model_selection import train_test_split\n",
    "\n",
    "# Your list of samples\n",
    "#all_samples = [...]\n",
    "\n",
    "# Set the seed for reproducibility\n",
    "seed = 42\n",
    "\n",
    "# Split the data into training, validation, and testing sets\n",
    "train_samples, test_samples = train_test_split(sequences, test_size=0.2, random_state=seed)\n",
    "train_samples, val_samples = train_test_split(train_samples, test_size=0.25, random_state=seed)  # 0.25 x 0.8 = 0.2"
   ]
  },
  {
   "cell_type": "code",
   "execution_count": null,
   "metadata": {},
   "outputs": [],
   "source": []
  },
  {
   "cell_type": "code",
   "execution_count": 3,
   "metadata": {},
   "outputs": [],
   "source": [
    "from utils import write_fasta, read_fasta"
   ]
  },
  {
   "cell_type": "code",
   "execution_count": 11,
   "metadata": {},
   "outputs": [],
   "source": [
    "import time\n",
    "import queue\n",
    "\n",
    "from tqdm import tqdm\n",
    "from pathlib import Path\n",
    "\n",
    "from statistics import mean, median\n",
    "\n",
    "import matplotlib.pyplot as plt\n",
    "from Bio.Seq import translate\n",
    "\n",
    "PathLike = Union[str, Path] \n",
    "import re\n",
    "import os\n",
    "import torch\n",
    "#from utils import any_file_fasta_reader, group_and_contextualize\n",
    "import json"
   ]
  },
  {
   "cell_type": "code",
   "execution_count": 16,
   "metadata": {},
   "outputs": [
    {
     "name": "stdout",
     "output_type": "stream",
     "text": [
      "Training tokenizer\n",
      "\n",
      "\n",
      "\n",
      "Returning tokenizer with vocab_size = 72\n",
      "Finding lens for 72\n"
     ]
    },
    {
     "name": "stderr",
     "output_type": "stream",
     "text": [
      "100%|██████████| 15817/15817 [00:00<00:00, 19985.54it/s]\n"
     ]
    },
    {
     "name": "stdout",
     "output_type": "stream",
     "text": [
      "Training tokenizer\n",
      "\n",
      "\n",
      "\n",
      "Returning tokenizer with vocab_size = 80\n",
      "Finding lens for 80\n"
     ]
    },
    {
     "name": "stderr",
     "output_type": "stream",
     "text": [
      "100%|██████████| 15817/15817 [00:00<00:00, 16080.96it/s]\n"
     ]
    },
    {
     "name": "stdout",
     "output_type": "stream",
     "text": [
      "Training tokenizer\n",
      "\n",
      "\n",
      "\n",
      "Returning tokenizer with vocab_size = 100\n",
      "Finding lens for 100\n"
     ]
    },
    {
     "name": "stderr",
     "output_type": "stream",
     "text": [
      "100%|██████████| 15817/15817 [00:01<00:00, 10218.16it/s]\n"
     ]
    },
    {
     "name": "stdout",
     "output_type": "stream",
     "text": [
      "Training tokenizer\n",
      "\n",
      "\n",
      "\n",
      "Returning tokenizer with vocab_size = 1100\n",
      "Finding lens for 1100\n"
     ]
    },
    {
     "name": "stderr",
     "output_type": "stream",
     "text": [
      "100%|██████████| 15817/15817 [00:00<00:00, 34776.84it/s]\n"
     ]
    },
    {
     "name": "stdout",
     "output_type": "stream",
     "text": [
      "Training tokenizer\n",
      "\n",
      "\n",
      "\n",
      "Returning tokenizer with vocab_size = 2100\n",
      "Finding lens for 2100\n"
     ]
    },
    {
     "name": "stderr",
     "output_type": "stream",
     "text": [
      "100%|██████████| 15817/15817 [00:00<00:00, 36906.15it/s]\n"
     ]
    },
    {
     "name": "stdout",
     "output_type": "stream",
     "text": [
      "Training tokenizer\n",
      "\n",
      "\n",
      "\n",
      "Returning tokenizer with vocab_size = 3100\n",
      "Finding lens for 3100\n"
     ]
    },
    {
     "name": "stderr",
     "output_type": "stream",
     "text": [
      "100%|██████████| 15817/15817 [00:00<00:00, 18174.28it/s]\n"
     ]
    },
    {
     "name": "stdout",
     "output_type": "stream",
     "text": [
      "Training tokenizer\n",
      "\n",
      "\n",
      "\n",
      "Returning tokenizer with vocab_size = 4100\n",
      "Finding lens for 4100\n"
     ]
    },
    {
     "name": "stderr",
     "output_type": "stream",
     "text": [
      "100%|██████████| 15817/15817 [00:00<00:00, 16696.15it/s]\n"
     ]
    },
    {
     "name": "stdout",
     "output_type": "stream",
     "text": [
      "Training tokenizer\n",
      "\n",
      "\n",
      "\n",
      "Returning tokenizer with vocab_size = 5100\n",
      "Finding lens for 5100\n"
     ]
    },
    {
     "name": "stderr",
     "output_type": "stream",
     "text": [
      "100%|██████████| 15817/15817 [00:00<00:00, 17238.76it/s]\n"
     ]
    },
    {
     "name": "stdout",
     "output_type": "stream",
     "text": [
      "Training tokenizer\n",
      "\n",
      "\n",
      "\n",
      "Returning tokenizer with vocab_size = 6100\n",
      "Finding lens for 6100\n"
     ]
    },
    {
     "name": "stderr",
     "output_type": "stream",
     "text": [
      "100%|██████████| 15817/15817 [00:00<00:00, 25098.05it/s]\n"
     ]
    },
    {
     "data": {
      "image/png": "[encoded data removed]",
      "text/plain": [
       "<Figure size 640x480 with 1 Axes>"
      ]
     },
     "metadata": {},
     "output_type": "display_data"
    }
   ],
   "source": [
    "# CPE: [64, 80, 100, 200, 300, 400, ... , 3000]\n",
    "cpe_vocab_sizes = [71, 80]\n",
    "cpe_vocab_sizes.extend(iter(range(100, max_vocab_all + 1, 1000)))\n",
    "\n",
    "plot_mean_seq_lens(\n",
    "    dna_sequences=val_samples, \n",
    "    vocab_sizes=cpe_vocab_sizes,\n",
    "    bpe_tokenizer_type=\"cpe_tokenizer\",\n",
    "    #save_tokenizer = True, \n",
    "    save_plot_data = True\n",
    ")"
   ]
  },
  {
   "cell_type": "code",
   "execution_count": 45,
   "metadata": {},
   "outputs": [],
   "source": [
    "seq_lens = [len(seq.sequence) for seq in val_samples if len(seq.sequence) < 40000 and len(seq.sequence) > 1000]"
   ]
  },
  {
   "cell_type": "code",
   "execution_count": 46,
   "metadata": {},
   "outputs": [
    {
     "data": {
      "text/plain": [
       "5331"
      ]
     },
     "execution_count": 46,
     "metadata": {},
     "output_type": "execute_result"
    }
   ],
   "source": [
    "len(seq_lens)"
   ]
  },
  {
   "cell_type": "code",
   "execution_count": 47,
   "metadata": {},
   "outputs": [],
   "source": [
    "import numpy as np\n",
    "data = np.array(seq_lens)\n",
    "import matplotlib.pyplot as plt"
   ]
  },
  {
   "cell_type": "code",
   "execution_count": 48,
   "metadata": {},
   "outputs": [
    {
     "data": {
      "image/png": "[encoded data removed]",
      "text/plain": [
       "<Figure size 640x480 with 1 Axes>"
      ]
     },
     "metadata": {},
     "output_type": "display_data"
    }
   ],
   "source": [
    "plt.hist(data, edgecolor='black')\n",
    "\n",
    "# Add labels and title\n",
    "plt.xlabel('Values')\n",
    "plt.ylabel('Frequency')\n",
    "plt.title('Histogram of Your Data')\n",
    "\n",
    "# Show the plot\n",
    "plt.show()"
   ]
  },
  {
   "cell_type": "code",
   "execution_count": 32,
   "metadata": {},
   "outputs": [
    {
     "data": {
      "text/plain": [
       "(9351,)"
      ]
     },
     "execution_count": 32,
     "metadata": {},
     "output_type": "execute_result"
    }
   ],
   "source": [
    "data.shape"
   ]
  },
  {
   "cell_type": "code",
   "execution_count": 34,
   "metadata": {},
   "outputs": [],
   "source": [
    "import pandas as pd\n",
    "\n",
    "df = pd.DataFrame(data)"
   ]
  },
  {
   "cell_type": "code",
   "execution_count": 35,
   "metadata": {},
   "outputs": [
    {
     "data": {
      "text/html": [
       "<div>\n",
       "<style scoped>\n",
       "    .dataframe tbody tr th:only-of-type {\n",
       "        vertical-align: middle;\n",
       "    }\n",
       "\n",
       "    .dataframe tbody tr th {\n",
       "        vertical-align: top;\n",
       "    }\n",
       "\n",
       "    .dataframe thead th {\n",
       "        text-align: right;\n",
       "    }\n",
       "</style>\n",
       "<table border=\"1\" class=\"dataframe\">\n",
       "  <thead>\n",
       "    <tr style=\"text-align: right;\">\n",
       "      <th></th>\n",
       "      <th>0</th>\n",
       "    </tr>\n",
       "  </thead>\n",
       "  <tbody>\n",
       "    <tr>\n",
       "      <th>0</th>\n",
       "      <td>117</td>\n",
       "    </tr>\n",
       "    <tr>\n",
       "      <th>1</th>\n",
       "      <td>222690</td>\n",
       "    </tr>\n",
       "    <tr>\n",
       "      <th>2</th>\n",
       "      <td>10971</td>\n",
       "    </tr>\n",
       "    <tr>\n",
       "      <th>3</th>\n",
       "      <td>684</td>\n",
       "    </tr>\n",
       "    <tr>\n",
       "      <th>4</th>\n",
       "      <td>876</td>\n",
       "    </tr>\n",
       "    <tr>\n",
       "      <th>...</th>\n",
       "      <td>...</td>\n",
       "    </tr>\n",
       "    <tr>\n",
       "      <th>15812</th>\n",
       "      <td>2214</td>\n",
       "    </tr>\n",
       "    <tr>\n",
       "      <th>15813</th>\n",
       "      <td>111</td>\n",
       "    </tr>\n",
       "    <tr>\n",
       "      <th>15814</th>\n",
       "      <td>10860</td>\n",
       "    </tr>\n",
       "    <tr>\n",
       "      <th>15815</th>\n",
       "      <td>750</td>\n",
       "    </tr>\n",
       "    <tr>\n",
       "      <th>15816</th>\n",
       "      <td>885</td>\n",
       "    </tr>\n",
       "  </tbody>\n",
       "</table>\n",
       "<p>15817 rows × 1 columns</p>\n",
       "</div>"
      ],
      "text/plain": [
       "            0\n",
       "0         117\n",
       "1      222690\n",
       "2       10971\n",
       "3         684\n",
       "4         876\n",
       "...       ...\n",
       "15812    2214\n",
       "15813     111\n",
       "15814   10860\n",
       "15815     750\n",
       "15816     885\n",
       "\n",
       "[15817 rows x 1 columns]"
      ]
     },
     "execution_count": 35,
     "metadata": {},
     "output_type": "execute_result"
    }
   ],
   "source": [
    "df"
   ]
  },
  {
   "cell_type": "code",
   "execution_count": 33,
   "metadata": {},
   "outputs": [
    {
     "ename": "NameError",
     "evalue": "name 'plt' is not defined",
     "output_type": "error",
     "traceback": [
      "\u001b[0;31m---------------------------------------------------------------------------\u001b[0m",
      "\u001b[0;31mNameError\u001b[0m                                 Traceback (most recent call last)",
      "Cell \u001b[0;32mIn[33], line 1\u001b[0m\n\u001b[0;32m----> 1\u001b[0m \u001b[43mplt\u001b[49m\u001b[38;5;241m.\u001b[39mhist(data, edgecolor\u001b[38;5;241m=\u001b[39m\u001b[38;5;124m'\u001b[39m\u001b[38;5;124mblack\u001b[39m\u001b[38;5;124m'\u001b[39m)\n\u001b[1;32m      3\u001b[0m \u001b[38;5;66;03m# Add labels and title\u001b[39;00m\n\u001b[1;32m      4\u001b[0m plt\u001b[38;5;241m.\u001b[39mxlabel(\u001b[38;5;124m'\u001b[39m\u001b[38;5;124mValues\u001b[39m\u001b[38;5;124m'\u001b[39m)\n",
      "\u001b[0;31mNameError\u001b[0m: name 'plt' is not defined"
     ]
    }
   ],
   "source": []
  },
  {
   "cell_type": "code",
   "execution_count": 32,
   "metadata": {},
   "outputs": [
    {
     "name": "stdout",
     "output_type": "stream",
     "text": [
      "Training tokenizer\n",
      "\n",
      "\n",
      "\n",
      "Returning tokenizer with vocab_size = 28\n",
      "Finding lens for 28\n"
     ]
    },
    {
     "name": "stderr",
     "output_type": "stream",
     "text": [
      "100%|██████████| 36631/36631 [00:01<00:00, 20349.36it/s]\n"
     ]
    },
    {
     "name": "stdout",
     "output_type": "stream",
     "text": [
      "Training tokenizer\n",
      "\n",
      "\n",
      "\n",
      "Returning tokenizer with vocab_size = 40\n",
      "Finding lens for 40\n"
     ]
    },
    {
     "name": "stderr",
     "output_type": "stream",
     "text": [
      "100%|██████████| 36631/36631 [00:01<00:00, 19808.45it/s]\n"
     ]
    },
    {
     "name": "stdout",
     "output_type": "stream",
     "text": [
      "Training tokenizer\n",
      "\n",
      "\n",
      "\n",
      "Returning tokenizer with vocab_size = 60\n",
      "Finding lens for 60\n"
     ]
    },
    {
     "name": "stderr",
     "output_type": "stream",
     "text": [
      "100%|██████████| 36631/36631 [00:01<00:00, 19397.02it/s]\n"
     ]
    },
    {
     "name": "stdout",
     "output_type": "stream",
     "text": [
      "Training tokenizer\n",
      "\n",
      "\n",
      "\n",
      "Returning tokenizer with vocab_size = 80\n",
      "Finding lens for 80\n"
     ]
    },
    {
     "name": "stderr",
     "output_type": "stream",
     "text": [
      "100%|██████████| 36631/36631 [00:01<00:00, 21517.95it/s]\n"
     ]
    },
    {
     "name": "stdout",
     "output_type": "stream",
     "text": [
      "Training tokenizer\n",
      "\n",
      "\n",
      "\n",
      "Returning tokenizer with vocab_size = 100\n",
      "Finding lens for 100\n"
     ]
    },
    {
     "name": "stderr",
     "output_type": "stream",
     "text": [
      "100%|██████████| 36631/36631 [00:01<00:00, 22130.53it/s]\n"
     ]
    },
    {
     "name": "stdout",
     "output_type": "stream",
     "text": [
      "Training tokenizer\n",
      "\n",
      "\n",
      "\n",
      "Returning tokenizer with vocab_size = 200\n",
      "Finding lens for 200\n"
     ]
    },
    {
     "name": "stderr",
     "output_type": "stream",
     "text": [
      "100%|██████████| 36631/36631 [00:01<00:00, 22270.33it/s]\n"
     ]
    },
    {
     "name": "stdout",
     "output_type": "stream",
     "text": [
      "Training tokenizer\n",
      "\n",
      "\n",
      "\n",
      "Returning tokenizer with vocab_size = 300\n",
      "Finding lens for 300\n"
     ]
    },
    {
     "name": "stderr",
     "output_type": "stream",
     "text": [
      "100%|██████████| 36631/36631 [00:01<00:00, 23502.96it/s]\n"
     ]
    },
    {
     "name": "stdout",
     "output_type": "stream",
     "text": [
      "Training tokenizer\n",
      "\n",
      "\n",
      "\n",
      "Returning tokenizer with vocab_size = 400\n",
      "Finding lens for 400\n"
     ]
    },
    {
     "name": "stderr",
     "output_type": "stream",
     "text": [
      "100%|██████████| 36631/36631 [00:01<00:00, 23735.04it/s]\n"
     ]
    },
    {
     "name": "stdout",
     "output_type": "stream",
     "text": [
      "Training tokenizer\n",
      "\n",
      "\n",
      "\n",
      "Returning tokenizer with vocab_size = 500\n",
      "Finding lens for 500\n"
     ]
    },
    {
     "name": "stderr",
     "output_type": "stream",
     "text": [
      "100%|██████████| 36631/36631 [00:01<00:00, 23737.03it/s]\n"
     ]
    },
    {
     "name": "stdout",
     "output_type": "stream",
     "text": [
      "Training tokenizer\n",
      "\n",
      "\n",
      "\n",
      "Returning tokenizer with vocab_size = 600\n",
      "Finding lens for 600\n"
     ]
    },
    {
     "name": "stderr",
     "output_type": "stream",
     "text": [
      "100%|██████████| 36631/36631 [00:01<00:00, 22429.80it/s]\n"
     ]
    },
    {
     "name": "stdout",
     "output_type": "stream",
     "text": [
      "Training tokenizer\n",
      "\n",
      "\n",
      "\n",
      "Returning tokenizer with vocab_size = 700\n",
      "Finding lens for 700\n"
     ]
    },
    {
     "name": "stderr",
     "output_type": "stream",
     "text": [
      "100%|██████████| 36631/36631 [00:01<00:00, 24321.91it/s]\n"
     ]
    },
    {
     "name": "stdout",
     "output_type": "stream",
     "text": [
      "Training tokenizer\n",
      "\n",
      "\n",
      "\n",
      "Returning tokenizer with vocab_size = 800\n",
      "Finding lens for 800\n"
     ]
    },
    {
     "name": "stderr",
     "output_type": "stream",
     "text": [
      "100%|██████████| 36631/36631 [00:01<00:00, 24562.01it/s]\n"
     ]
    },
    {
     "name": "stdout",
     "output_type": "stream",
     "text": [
      "Training tokenizer\n",
      "\n",
      "\n",
      "\n",
      "Returning tokenizer with vocab_size = 900\n",
      "Finding lens for 900\n"
     ]
    },
    {
     "name": "stderr",
     "output_type": "stream",
     "text": [
      "100%|██████████| 36631/36631 [00:01<00:00, 23784.41it/s]\n"
     ]
    },
    {
     "name": "stdout",
     "output_type": "stream",
     "text": [
      "Training tokenizer\n",
      "\n",
      "\n",
      "\n",
      "Returning tokenizer with vocab_size = 1000\n",
      "Finding lens for 1000\n"
     ]
    },
    {
     "name": "stderr",
     "output_type": "stream",
     "text": [
      "100%|██████████| 36631/36631 [00:01<00:00, 24269.62it/s]\n"
     ]
    },
    {
     "name": "stdout",
     "output_type": "stream",
     "text": [
      "Training tokenizer\n",
      "\n",
      "\n",
      "\n",
      "Returning tokenizer with vocab_size = 1100\n",
      "Finding lens for 1100\n"
     ]
    },
    {
     "name": "stderr",
     "output_type": "stream",
     "text": [
      "100%|██████████| 36631/36631 [00:01<00:00, 24612.06it/s]\n"
     ]
    },
    {
     "name": "stdout",
     "output_type": "stream",
     "text": [
      "Training tokenizer\n",
      "\n",
      "\n",
      "\n",
      "Returning tokenizer with vocab_size = 1200\n",
      "Finding lens for 1200\n"
     ]
    },
    {
     "name": "stderr",
     "output_type": "stream",
     "text": [
      "100%|██████████| 36631/36631 [00:01<00:00, 24472.04it/s]\n"
     ]
    },
    {
     "name": "stdout",
     "output_type": "stream",
     "text": [
      "Training tokenizer\n",
      "\n",
      "\n",
      "\n",
      "Returning tokenizer with vocab_size = 1300\n",
      "Finding lens for 1300\n"
     ]
    },
    {
     "name": "stderr",
     "output_type": "stream",
     "text": [
      "100%|██████████| 36631/36631 [00:01<00:00, 24533.44it/s]\n"
     ]
    },
    {
     "name": "stdout",
     "output_type": "stream",
     "text": [
      "Training tokenizer\n",
      "\n",
      "\n",
      "\n",
      "Returning tokenizer with vocab_size = 1400\n",
      "Finding lens for 1400\n"
     ]
    },
    {
     "name": "stderr",
     "output_type": "stream",
     "text": [
      "100%|██████████| 36631/36631 [00:01<00:00, 24853.55it/s]\n"
     ]
    },
    {
     "name": "stdout",
     "output_type": "stream",
     "text": [
      "Training tokenizer\n",
      "\n",
      "\n",
      "\n",
      "Returning tokenizer with vocab_size = 1500\n",
      "Finding lens for 1500\n"
     ]
    },
    {
     "name": "stderr",
     "output_type": "stream",
     "text": [
      "100%|██████████| 36631/36631 [00:01<00:00, 24151.73it/s]\n"
     ]
    },
    {
     "name": "stdout",
     "output_type": "stream",
     "text": [
      "Training tokenizer\n",
      "\n",
      "\n",
      "\n",
      "Returning tokenizer with vocab_size = 1600\n",
      "Finding lens for 1600\n"
     ]
    },
    {
     "name": "stderr",
     "output_type": "stream",
     "text": [
      "100%|██████████| 36631/36631 [00:01<00:00, 25025.58it/s]\n"
     ]
    },
    {
     "name": "stdout",
     "output_type": "stream",
     "text": [
      "Training tokenizer\n",
      "\n",
      "\n",
      "\n",
      "Returning tokenizer with vocab_size = 1700\n",
      "Finding lens for 1700\n"
     ]
    },
    {
     "name": "stderr",
     "output_type": "stream",
     "text": [
      "100%|██████████| 36631/36631 [00:01<00:00, 24070.60it/s]\n"
     ]
    },
    {
     "name": "stdout",
     "output_type": "stream",
     "text": [
      "Training tokenizer\n",
      "\n",
      "\n",
      "\n",
      "Returning tokenizer with vocab_size = 1800\n",
      "Finding lens for 1800\n"
     ]
    },
    {
     "name": "stderr",
     "output_type": "stream",
     "text": [
      "100%|██████████| 36631/36631 [00:01<00:00, 24604.48it/s]\n"
     ]
    },
    {
     "name": "stdout",
     "output_type": "stream",
     "text": [
      "Training tokenizer\n",
      "\n",
      "\n",
      "\n",
      "Returning tokenizer with vocab_size = 1900\n",
      "Finding lens for 1900\n"
     ]
    },
    {
     "name": "stderr",
     "output_type": "stream",
     "text": [
      "100%|██████████| 36631/36631 [00:01<00:00, 25023.41it/s]\n"
     ]
    },
    {
     "name": "stdout",
     "output_type": "stream",
     "text": [
      "Training tokenizer\n",
      "\n",
      "\n",
      "\n",
      "Returning tokenizer with vocab_size = 2000\n",
      "Finding lens for 2000\n"
     ]
    },
    {
     "name": "stderr",
     "output_type": "stream",
     "text": [
      "100%|██████████| 36631/36631 [00:01<00:00, 24435.37it/s]\n"
     ]
    },
    {
     "name": "stdout",
     "output_type": "stream",
     "text": [
      "Training tokenizer\n",
      "\n",
      "\n",
      "\n",
      "Returning tokenizer with vocab_size = 2100\n",
      "Finding lens for 2100\n"
     ]
    },
    {
     "name": "stderr",
     "output_type": "stream",
     "text": [
      "100%|██████████| 36631/36631 [00:01<00:00, 24090.91it/s]\n"
     ]
    },
    {
     "name": "stdout",
     "output_type": "stream",
     "text": [
      "Training tokenizer\n",
      "\n",
      "\n",
      "\n",
      "Returning tokenizer with vocab_size = 2200\n",
      "Finding lens for 2200\n"
     ]
    },
    {
     "name": "stderr",
     "output_type": "stream",
     "text": [
      "100%|██████████| 36631/36631 [00:01<00:00, 24416.95it/s]\n"
     ]
    },
    {
     "name": "stdout",
     "output_type": "stream",
     "text": [
      "Training tokenizer\n",
      "\n",
      "\n",
      "\n",
      "Returning tokenizer with vocab_size = 2300\n",
      "Finding lens for 2300\n"
     ]
    },
    {
     "name": "stderr",
     "output_type": "stream",
     "text": [
      "100%|██████████| 36631/36631 [00:01<00:00, 24860.89it/s]\n"
     ]
    },
    {
     "name": "stdout",
     "output_type": "stream",
     "text": [
      "Training tokenizer\n",
      "\n",
      "\n",
      "\n",
      "Returning tokenizer with vocab_size = 2400\n",
      "Finding lens for 2400\n"
     ]
    },
    {
     "name": "stderr",
     "output_type": "stream",
     "text": [
      "100%|██████████| 36631/36631 [00:01<00:00, 24221.02it/s]\n"
     ]
    },
    {
     "name": "stdout",
     "output_type": "stream",
     "text": [
      "Training tokenizer\n",
      "\n",
      "\n",
      "\n",
      "Returning tokenizer with vocab_size = 2500\n",
      "Finding lens for 2500\n"
     ]
    },
    {
     "name": "stderr",
     "output_type": "stream",
     "text": [
      "100%|██████████| 36631/36631 [00:01<00:00, 24562.24it/s]\n"
     ]
    },
    {
     "name": "stdout",
     "output_type": "stream",
     "text": [
      "Training tokenizer\n",
      "\n",
      "\n",
      "\n",
      "Returning tokenizer with vocab_size = 2600\n",
      "Finding lens for 2600\n"
     ]
    },
    {
     "name": "stderr",
     "output_type": "stream",
     "text": [
      "100%|██████████| 36631/36631 [00:01<00:00, 24336.95it/s]\n"
     ]
    },
    {
     "name": "stdout",
     "output_type": "stream",
     "text": [
      "Training tokenizer\n",
      "\n",
      "\n",
      "\n",
      "Returning tokenizer with vocab_size = 2700\n",
      "Finding lens for 2700\n"
     ]
    },
    {
     "name": "stderr",
     "output_type": "stream",
     "text": [
      "100%|██████████| 36631/36631 [00:01<00:00, 25244.82it/s]\n"
     ]
    },
    {
     "name": "stdout",
     "output_type": "stream",
     "text": [
      "Training tokenizer\n",
      "\n",
      "\n",
      "\n",
      "Returning tokenizer with vocab_size = 2800\n",
      "Finding lens for 2800\n"
     ]
    },
    {
     "name": "stderr",
     "output_type": "stream",
     "text": [
      "100%|██████████| 36631/36631 [00:01<00:00, 24992.39it/s]\n"
     ]
    },
    {
     "name": "stdout",
     "output_type": "stream",
     "text": [
      "Training tokenizer\n",
      "\n",
      "\n",
      "\n",
      "Returning tokenizer with vocab_size = 2900\n",
      "Finding lens for 2900\n"
     ]
    },
    {
     "name": "stderr",
     "output_type": "stream",
     "text": [
      "100%|██████████| 36631/36631 [00:01<00:00, 24398.40it/s]\n"
     ]
    },
    {
     "name": "stdout",
     "output_type": "stream",
     "text": [
      "Training tokenizer\n",
      "\n",
      "\n",
      "\n",
      "Returning tokenizer with vocab_size = 3000\n",
      "Finding lens for 3000\n"
     ]
    },
    {
     "name": "stderr",
     "output_type": "stream",
     "text": [
      "100%|██████████| 36631/36631 [00:01<00:00, 22114.20it/s]\n"
     ]
    },
    {
     "name": "stdout",
     "output_type": "stream",
     "text": [
      "Training tokenizer\n",
      "\n",
      "\n",
      "\n",
      "Returning tokenizer with vocab_size = 3100\n",
      "Finding lens for 3100\n"
     ]
    },
    {
     "name": "stderr",
     "output_type": "stream",
     "text": [
      "100%|██████████| 36631/36631 [00:01<00:00, 24035.18it/s]\n"
     ]
    },
    {
     "name": "stdout",
     "output_type": "stream",
     "text": [
      "Training tokenizer\n",
      "\n",
      "\n",
      "\n",
      "Returning tokenizer with vocab_size = 3200\n",
      "Finding lens for 3200\n"
     ]
    },
    {
     "name": "stderr",
     "output_type": "stream",
     "text": [
      "100%|██████████| 36631/36631 [00:01<00:00, 25066.07it/s]\n"
     ]
    },
    {
     "name": "stdout",
     "output_type": "stream",
     "text": [
      "Training tokenizer\n",
      "\n",
      "\n",
      "\n",
      "Returning tokenizer with vocab_size = 3300\n",
      "Finding lens for 3300\n"
     ]
    },
    {
     "name": "stderr",
     "output_type": "stream",
     "text": [
      "100%|██████████| 36631/36631 [00:01<00:00, 24797.99it/s]\n"
     ]
    },
    {
     "name": "stdout",
     "output_type": "stream",
     "text": [
      "Training tokenizer\n",
      "\n",
      "\n",
      "\n",
      "Returning tokenizer with vocab_size = 3400\n",
      "Finding lens for 3400\n"
     ]
    },
    {
     "name": "stderr",
     "output_type": "stream",
     "text": [
      "100%|██████████| 36631/36631 [00:01<00:00, 24909.15it/s]\n"
     ]
    },
    {
     "name": "stdout",
     "output_type": "stream",
     "text": [
      "Training tokenizer\n",
      "\n",
      "\n",
      "\n",
      "Returning tokenizer with vocab_size = 3500\n",
      "Finding lens for 3500\n"
     ]
    },
    {
     "name": "stderr",
     "output_type": "stream",
     "text": [
      "100%|██████████| 36631/36631 [00:01<00:00, 25351.98it/s]\n"
     ]
    },
    {
     "name": "stdout",
     "output_type": "stream",
     "text": [
      "Training tokenizer\n",
      "\n",
      "\n",
      "\n",
      "Returning tokenizer with vocab_size = 3600\n",
      "Finding lens for 3600\n"
     ]
    },
    {
     "name": "stderr",
     "output_type": "stream",
     "text": [
      "100%|██████████| 36631/36631 [00:01<00:00, 24750.87it/s]\n"
     ]
    },
    {
     "name": "stdout",
     "output_type": "stream",
     "text": [
      "Training tokenizer\n",
      "\n",
      "\n",
      "\n",
      "Returning tokenizer with vocab_size = 3700\n",
      "Finding lens for 3700\n"
     ]
    },
    {
     "name": "stderr",
     "output_type": "stream",
     "text": [
      "100%|██████████| 36631/36631 [00:01<00:00, 23977.60it/s]\n"
     ]
    },
    {
     "name": "stdout",
     "output_type": "stream",
     "text": [
      "Training tokenizer\n",
      "\n",
      "\n",
      "\n",
      "Returning tokenizer with vocab_size = 3800\n",
      "Finding lens for 3800\n"
     ]
    },
    {
     "name": "stderr",
     "output_type": "stream",
     "text": [
      "100%|██████████| 36631/36631 [00:01<00:00, 24302.57it/s]\n"
     ]
    },
    {
     "name": "stdout",
     "output_type": "stream",
     "text": [
      "Training tokenizer\n",
      "\n",
      "\n",
      "\n",
      "Returning tokenizer with vocab_size = 3900\n",
      "Finding lens for 3900\n"
     ]
    },
    {
     "name": "stderr",
     "output_type": "stream",
     "text": [
      "100%|██████████| 36631/36631 [00:01<00:00, 24309.90it/s]\n"
     ]
    },
    {
     "name": "stdout",
     "output_type": "stream",
     "text": [
      "Training tokenizer\n",
      "\n",
      "\n",
      "\n",
      "Returning tokenizer with vocab_size = 4000\n",
      "Finding lens for 4000\n"
     ]
    },
    {
     "name": "stderr",
     "output_type": "stream",
     "text": [
      "100%|██████████| 36631/36631 [00:01<00:00, 25406.91it/s]\n"
     ]
    },
    {
     "name": "stdout",
     "output_type": "stream",
     "text": [
      "Training tokenizer\n",
      "\n",
      "\n",
      "\n",
      "Returning tokenizer with vocab_size = 4100\n",
      "Finding lens for 4100\n"
     ]
    },
    {
     "name": "stderr",
     "output_type": "stream",
     "text": [
      "100%|██████████| 36631/36631 [00:01<00:00, 24583.25it/s]\n"
     ]
    },
    {
     "name": "stdout",
     "output_type": "stream",
     "text": [
      "Training tokenizer\n",
      "\n",
      "\n",
      "\n",
      "Returning tokenizer with vocab_size = 4200\n",
      "Finding lens for 4200\n"
     ]
    },
    {
     "name": "stderr",
     "output_type": "stream",
     "text": [
      "100%|██████████| 36631/36631 [00:01<00:00, 23691.06it/s]\n"
     ]
    },
    {
     "name": "stdout",
     "output_type": "stream",
     "text": [
      "Training tokenizer\n",
      "\n",
      "\n",
      "\n",
      "Returning tokenizer with vocab_size = 4300\n",
      "Finding lens for 4300\n"
     ]
    },
    {
     "name": "stderr",
     "output_type": "stream",
     "text": [
      "100%|██████████| 36631/36631 [00:01<00:00, 24810.16it/s]\n"
     ]
    },
    {
     "name": "stdout",
     "output_type": "stream",
     "text": [
      "Training tokenizer\n",
      "\n",
      "\n",
      "\n",
      "Returning tokenizer with vocab_size = 4400\n",
      "Finding lens for 4400\n"
     ]
    },
    {
     "name": "stderr",
     "output_type": "stream",
     "text": [
      "100%|██████████| 36631/36631 [00:01<00:00, 24382.23it/s]\n"
     ]
    },
    {
     "name": "stdout",
     "output_type": "stream",
     "text": [
      "Training tokenizer\n",
      "\n",
      "\n",
      "\n",
      "Returning tokenizer with vocab_size = 4500\n",
      "Finding lens for 4500\n"
     ]
    },
    {
     "name": "stderr",
     "output_type": "stream",
     "text": [
      "100%|██████████| 36631/36631 [00:01<00:00, 24793.08it/s]\n"
     ]
    },
    {
     "name": "stdout",
     "output_type": "stream",
     "text": [
      "Training tokenizer\n",
      "\n",
      "\n",
      "\n",
      "Returning tokenizer with vocab_size = 4600\n",
      "Finding lens for 4600\n"
     ]
    },
    {
     "name": "stderr",
     "output_type": "stream",
     "text": [
      "100%|██████████| 36631/36631 [00:01<00:00, 23708.53it/s]\n"
     ]
    },
    {
     "name": "stdout",
     "output_type": "stream",
     "text": [
      "Training tokenizer\n",
      "\n",
      "\n",
      "\n",
      "Returning tokenizer with vocab_size = 4700\n",
      "Finding lens for 4700\n"
     ]
    },
    {
     "name": "stderr",
     "output_type": "stream",
     "text": [
      "100%|██████████| 36631/36631 [00:01<00:00, 25134.92it/s]\n"
     ]
    },
    {
     "name": "stdout",
     "output_type": "stream",
     "text": [
      "Training tokenizer\n",
      "\n",
      "\n",
      "\n",
      "Returning tokenizer with vocab_size = 4800\n",
      "Finding lens for 4800\n"
     ]
    },
    {
     "name": "stderr",
     "output_type": "stream",
     "text": [
      "100%|██████████| 36631/36631 [00:01<00:00, 24830.73it/s]\n"
     ]
    },
    {
     "name": "stdout",
     "output_type": "stream",
     "text": [
      "Training tokenizer\n",
      "\n",
      "\n",
      "\n",
      "Returning tokenizer with vocab_size = 4900\n",
      "Finding lens for 4900\n"
     ]
    },
    {
     "name": "stderr",
     "output_type": "stream",
     "text": [
      "100%|██████████| 36631/36631 [00:01<00:00, 24642.23it/s]\n"
     ]
    },
    {
     "name": "stdout",
     "output_type": "stream",
     "text": [
      "Training tokenizer\n",
      "\n",
      "\n",
      "\n",
      "Returning tokenizer with vocab_size = 5000\n",
      "Finding lens for 5000\n"
     ]
    },
    {
     "name": "stderr",
     "output_type": "stream",
     "text": [
      "100%|██████████| 36631/36631 [00:01<00:00, 25219.32it/s]\n"
     ]
    },
    {
     "name": "stdout",
     "output_type": "stream",
     "text": [
      "Training tokenizer\n",
      "\n",
      "\n",
      "\n",
      "Returning tokenizer with vocab_size = 5100\n",
      "Finding lens for 5100\n"
     ]
    },
    {
     "name": "stderr",
     "output_type": "stream",
     "text": [
      "100%|██████████| 36631/36631 [00:01<00:00, 25151.04it/s]\n"
     ]
    },
    {
     "name": "stdout",
     "output_type": "stream",
     "text": [
      "Training tokenizer\n",
      "\n",
      "\n",
      "\n",
      "Returning tokenizer with vocab_size = 5200\n",
      "Finding lens for 5200\n"
     ]
    },
    {
     "name": "stderr",
     "output_type": "stream",
     "text": [
      "100%|██████████| 36631/36631 [00:01<00:00, 23971.42it/s]\n"
     ]
    },
    {
     "name": "stdout",
     "output_type": "stream",
     "text": [
      "Training tokenizer\n",
      "\n",
      "\n",
      "\n",
      "Returning tokenizer with vocab_size = 5300\n",
      "Finding lens for 5300\n"
     ]
    },
    {
     "name": "stderr",
     "output_type": "stream",
     "text": [
      "100%|██████████| 36631/36631 [00:01<00:00, 24919.59it/s]\n"
     ]
    },
    {
     "name": "stdout",
     "output_type": "stream",
     "text": [
      "Training tokenizer\n",
      "\n",
      "\n",
      "\n",
      "Returning tokenizer with vocab_size = 5400\n",
      "Finding lens for 5400\n"
     ]
    },
    {
     "name": "stderr",
     "output_type": "stream",
     "text": [
      "100%|██████████| 36631/36631 [00:01<00:00, 25333.96it/s]\n"
     ]
    },
    {
     "name": "stdout",
     "output_type": "stream",
     "text": [
      "Training tokenizer\n",
      "\n",
      "\n",
      "\n",
      "Returning tokenizer with vocab_size = 5500\n",
      "Finding lens for 5500\n"
     ]
    },
    {
     "name": "stderr",
     "output_type": "stream",
     "text": [
      "100%|██████████| 36631/36631 [00:01<00:00, 25050.68it/s]\n"
     ]
    },
    {
     "name": "stdout",
     "output_type": "stream",
     "text": [
      "Training tokenizer\n",
      "\n",
      "\n",
      "\n",
      "Returning tokenizer with vocab_size = 5600\n",
      "Finding lens for 5600\n"
     ]
    },
    {
     "name": "stderr",
     "output_type": "stream",
     "text": [
      "100%|██████████| 36631/36631 [00:01<00:00, 24620.21it/s]\n"
     ]
    },
    {
     "name": "stdout",
     "output_type": "stream",
     "text": [
      "Training tokenizer\n",
      "\n",
      "\n",
      "\n",
      "Returning tokenizer with vocab_size = 5700\n",
      "Finding lens for 5700\n"
     ]
    },
    {
     "name": "stderr",
     "output_type": "stream",
     "text": [
      "100%|██████████| 36631/36631 [00:01<00:00, 25060.50it/s]\n"
     ]
    },
    {
     "name": "stdout",
     "output_type": "stream",
     "text": [
      "Training tokenizer\n",
      "\n",
      "\n",
      "\n",
      "Returning tokenizer with vocab_size = 5800\n",
      "Finding lens for 5800\n"
     ]
    },
    {
     "name": "stderr",
     "output_type": "stream",
     "text": [
      "100%|██████████| 36631/36631 [00:01<00:00, 25002.90it/s]\n"
     ]
    },
    {
     "name": "stdout",
     "output_type": "stream",
     "text": [
      "Training tokenizer\n",
      "\n",
      "\n",
      "\n",
      "Returning tokenizer with vocab_size = 5900\n",
      "Finding lens for 5900\n"
     ]
    },
    {
     "name": "stderr",
     "output_type": "stream",
     "text": [
      "100%|██████████| 36631/36631 [00:01<00:00, 24421.38it/s]\n"
     ]
    },
    {
     "name": "stdout",
     "output_type": "stream",
     "text": [
      "Training tokenizer\n",
      "\n",
      "\n",
      "\n",
      "Returning tokenizer with vocab_size = 6000\n",
      "Finding lens for 6000\n"
     ]
    },
    {
     "name": "stderr",
     "output_type": "stream",
     "text": [
      "100%|██████████| 36631/36631 [00:01<00:00, 23828.86it/s]\n"
     ]
    },
    {
     "name": "stdout",
     "output_type": "stream",
     "text": [
      "Training tokenizer\n",
      "\n",
      "\n",
      "\n",
      "Returning tokenizer with vocab_size = 6100\n",
      "Finding lens for 6100\n"
     ]
    },
    {
     "name": "stderr",
     "output_type": "stream",
     "text": [
      "100%|██████████| 36631/36631 [00:01<00:00, 25082.22it/s]\n"
     ]
    },
    {
     "name": "stdout",
     "output_type": "stream",
     "text": [
      "Training tokenizer\n",
      "\n",
      "\n",
      "\n",
      "Returning tokenizer with vocab_size = 6200\n",
      "Finding lens for 6200\n"
     ]
    },
    {
     "name": "stderr",
     "output_type": "stream",
     "text": [
      "100%|██████████| 36631/36631 [00:01<00:00, 24707.01it/s]\n"
     ]
    },
    {
     "name": "stdout",
     "output_type": "stream",
     "text": [
      "Training tokenizer\n",
      "\n",
      "\n",
      "\n",
      "Returning tokenizer with vocab_size = 6300\n",
      "Finding lens for 6300\n"
     ]
    },
    {
     "name": "stderr",
     "output_type": "stream",
     "text": [
      "100%|██████████| 36631/36631 [00:01<00:00, 24492.96it/s]\n"
     ]
    },
    {
     "name": "stdout",
     "output_type": "stream",
     "text": [
      "Training tokenizer\n",
      "\n",
      "\n",
      "\n",
      "Returning tokenizer with vocab_size = 6400\n",
      "Finding lens for 6400\n"
     ]
    },
    {
     "name": "stderr",
     "output_type": "stream",
     "text": [
      "100%|██████████| 36631/36631 [00:01<00:00, 24612.32it/s]\n"
     ]
    },
    {
     "name": "stdout",
     "output_type": "stream",
     "text": [
      "Training tokenizer\n",
      "\n",
      "\n",
      "\n",
      "Returning tokenizer with vocab_size = 6500\n",
      "Finding lens for 6500\n"
     ]
    },
    {
     "name": "stderr",
     "output_type": "stream",
     "text": [
      "100%|██████████| 36631/36631 [00:01<00:00, 24584.96it/s]\n"
     ]
    },
    {
     "name": "stdout",
     "output_type": "stream",
     "text": [
      "Training tokenizer\n",
      "\n",
      "\n",
      "\n",
      "Returning tokenizer with vocab_size = 6600\n",
      "Finding lens for 6600\n"
     ]
    },
    {
     "name": "stderr",
     "output_type": "stream",
     "text": [
      "100%|██████████| 36631/36631 [00:01<00:00, 24728.66it/s]\n"
     ]
    },
    {
     "name": "stdout",
     "output_type": "stream",
     "text": [
      "Training tokenizer\n",
      "\n",
      "\n",
      "\n",
      "Returning tokenizer with vocab_size = 6700\n",
      "Finding lens for 6700\n"
     ]
    },
    {
     "name": "stderr",
     "output_type": "stream",
     "text": [
      "100%|██████████| 36631/36631 [00:01<00:00, 25020.14it/s]\n"
     ]
    },
    {
     "name": "stdout",
     "output_type": "stream",
     "text": [
      "Training tokenizer\n",
      "\n",
      "\n",
      "\n",
      "Returning tokenizer with vocab_size = 6800\n",
      "Finding lens for 6800\n"
     ]
    },
    {
     "name": "stderr",
     "output_type": "stream",
     "text": [
      "100%|██████████| 36631/36631 [00:01<00:00, 25612.21it/s]\n"
     ]
    },
    {
     "name": "stdout",
     "output_type": "stream",
     "text": [
      "Training tokenizer\n",
      "\n",
      "\n",
      "\n",
      "Returning tokenizer with vocab_size = 6900\n",
      "Finding lens for 6900\n"
     ]
    },
    {
     "name": "stderr",
     "output_type": "stream",
     "text": [
      "100%|██████████| 36631/36631 [00:01<00:00, 24757.54it/s]\n"
     ]
    },
    {
     "name": "stdout",
     "output_type": "stream",
     "text": [
      "Training tokenizer\n",
      "\n",
      "\n",
      "\n",
      "Returning tokenizer with vocab_size = 7000\n",
      "Finding lens for 7000\n"
     ]
    },
    {
     "name": "stderr",
     "output_type": "stream",
     "text": [
      "100%|██████████| 36631/36631 [00:01<00:00, 25362.46it/s]\n"
     ]
    },
    {
     "data": {
      "image/png": "[encoded data removed]",
      "text/plain": [
       "<Figure size 640x480 with 1 Axes>"
      ]
     },
     "metadata": {},
     "output_type": "display_data"
    }
   ],
   "source": [
    "# APE: [20, 40, 60, 80, 100, 200, 300, 400, ... , 3000]\n",
    "\n",
    "ape_vocab_sizes = [20, 40, 60, 80]\n",
    "ape_vocab_sizes.extend(iter(range(100, max_vocab_all + 1, 100)))\n",
    "\n",
    "plot_mean_seq_lens(\n",
    "    sequence_fasta_file=\"/home/couchbucks/Documents/saketh/cpe/data/datasets/mdh_natural_dataset.fasta\", \n",
    "    vocab_sizes=ape_vocab_sizes,\n",
    "    bpe_tokenizer_type=\"ape_tokenizer\",\n",
    "    #save_tokenizer = True, \n",
    "    save_plot_data = True\n",
    ")"
   ]
  },
  {
   "cell_type": "code",
   "execution_count": 35,
   "metadata": {},
   "outputs": [
    {
     "name": "stdout",
     "output_type": "stream",
     "text": [
      "Training tokenizer\n",
      "\n",
      "\n",
      "\n",
      "Returning tokenizer with vocab_size = 11\n",
      "Finding lens for 11\n"
     ]
    },
    {
     "name": "stderr",
     "output_type": "stream",
     "text": [
      "100%|██████████| 36631/36631 [00:02<00:00, 15323.72it/s]\n"
     ]
    },
    {
     "name": "stdout",
     "output_type": "stream",
     "text": [
      "Training tokenizer\n",
      "\n",
      "\n",
      "\n",
      "Returning tokenizer with vocab_size = 11\n",
      "Finding lens for 11\n"
     ]
    },
    {
     "name": "stderr",
     "output_type": "stream",
     "text": [
      "100%|██████████| 36631/36631 [00:02<00:00, 14818.21it/s]\n"
     ]
    },
    {
     "name": "stdout",
     "output_type": "stream",
     "text": [
      "Training tokenizer\n",
      "\n",
      "\n",
      "\n",
      "Returning tokenizer with vocab_size = 12\n",
      "Finding lens for 12\n"
     ]
    },
    {
     "name": "stderr",
     "output_type": "stream",
     "text": [
      "100%|██████████| 36631/36631 [00:02<00:00, 16211.76it/s]\n"
     ]
    },
    {
     "name": "stdout",
     "output_type": "stream",
     "text": [
      "Training tokenizer\n",
      "\n",
      "\n",
      "\n",
      "Returning tokenizer with vocab_size = 16\n",
      "Finding lens for 16\n"
     ]
    },
    {
     "name": "stderr",
     "output_type": "stream",
     "text": [
      "100%|██████████| 36631/36631 [00:02<00:00, 16844.79it/s]\n"
     ]
    },
    {
     "name": "stdout",
     "output_type": "stream",
     "text": [
      "Training tokenizer\n",
      "\n",
      "\n",
      "\n",
      "Returning tokenizer with vocab_size = 20\n",
      "Finding lens for 20\n"
     ]
    },
    {
     "name": "stderr",
     "output_type": "stream",
     "text": [
      "100%|██████████| 36631/36631 [00:01<00:00, 18381.41it/s]\n"
     ]
    },
    {
     "name": "stdout",
     "output_type": "stream",
     "text": [
      "Training tokenizer\n",
      "\n",
      "\n",
      "\n",
      "Returning tokenizer with vocab_size = 40\n",
      "Finding lens for 40\n"
     ]
    },
    {
     "name": "stderr",
     "output_type": "stream",
     "text": [
      "100%|██████████| 36631/36631 [00:02<00:00, 17854.23it/s]\n"
     ]
    },
    {
     "name": "stdout",
     "output_type": "stream",
     "text": [
      "Training tokenizer\n",
      "\n",
      "\n",
      "\n",
      "Returning tokenizer with vocab_size = 60\n",
      "Finding lens for 60\n"
     ]
    },
    {
     "name": "stderr",
     "output_type": "stream",
     "text": [
      "100%|██████████| 36631/36631 [00:01<00:00, 19646.48it/s]\n"
     ]
    },
    {
     "name": "stdout",
     "output_type": "stream",
     "text": [
      "Training tokenizer\n",
      "\n",
      "\n",
      "\n",
      "Returning tokenizer with vocab_size = 80\n",
      "Finding lens for 80\n"
     ]
    },
    {
     "name": "stderr",
     "output_type": "stream",
     "text": [
      "100%|██████████| 36631/36631 [00:01<00:00, 19905.11it/s]\n"
     ]
    },
    {
     "name": "stdout",
     "output_type": "stream",
     "text": [
      "Training tokenizer\n",
      "\n",
      "\n",
      "\n",
      "Returning tokenizer with vocab_size = 100\n",
      "Finding lens for 100\n"
     ]
    },
    {
     "name": "stderr",
     "output_type": "stream",
     "text": [
      "100%|██████████| 36631/36631 [00:01<00:00, 18410.15it/s]\n"
     ]
    },
    {
     "name": "stdout",
     "output_type": "stream",
     "text": [
      "Training tokenizer\n",
      "\n",
      "\n",
      "\n",
      "Returning tokenizer with vocab_size = 200\n",
      "Finding lens for 200\n"
     ]
    },
    {
     "name": "stderr",
     "output_type": "stream",
     "text": [
      "100%|██████████| 36631/36631 [00:01<00:00, 20505.57it/s]\n"
     ]
    },
    {
     "name": "stdout",
     "output_type": "stream",
     "text": [
      "Training tokenizer\n",
      "\n",
      "\n",
      "\n",
      "Returning tokenizer with vocab_size = 300\n",
      "Finding lens for 300\n"
     ]
    },
    {
     "name": "stderr",
     "output_type": "stream",
     "text": [
      "100%|██████████| 36631/36631 [00:01<00:00, 19987.92it/s]\n"
     ]
    },
    {
     "name": "stdout",
     "output_type": "stream",
     "text": [
      "Training tokenizer\n",
      "\n",
      "\n",
      "\n",
      "Returning tokenizer with vocab_size = 400\n",
      "Finding lens for 400\n"
     ]
    },
    {
     "name": "stderr",
     "output_type": "stream",
     "text": [
      "100%|██████████| 36631/36631 [00:01<00:00, 19649.18it/s]\n"
     ]
    },
    {
     "name": "stdout",
     "output_type": "stream",
     "text": [
      "Training tokenizer\n",
      "\n",
      "\n",
      "\n",
      "Returning tokenizer with vocab_size = 500\n",
      "Finding lens for 500\n"
     ]
    },
    {
     "name": "stderr",
     "output_type": "stream",
     "text": [
      "100%|██████████| 36631/36631 [00:01<00:00, 22458.31it/s]\n"
     ]
    },
    {
     "name": "stdout",
     "output_type": "stream",
     "text": [
      "Training tokenizer\n",
      "\n",
      "\n",
      "\n",
      "Returning tokenizer with vocab_size = 600\n",
      "Finding lens for 600\n"
     ]
    },
    {
     "name": "stderr",
     "output_type": "stream",
     "text": [
      "100%|██████████| 36631/36631 [00:01<00:00, 22273.31it/s]\n"
     ]
    },
    {
     "name": "stdout",
     "output_type": "stream",
     "text": [
      "Training tokenizer\n",
      "\n",
      "\n",
      "\n",
      "Returning tokenizer with vocab_size = 700\n",
      "Finding lens for 700\n"
     ]
    },
    {
     "name": "stderr",
     "output_type": "stream",
     "text": [
      "100%|██████████| 36631/36631 [00:01<00:00, 22570.70it/s]\n"
     ]
    },
    {
     "name": "stdout",
     "output_type": "stream",
     "text": [
      "Training tokenizer\n",
      "\n",
      "\n",
      "\n",
      "Returning tokenizer with vocab_size = 800\n",
      "Finding lens for 800\n"
     ]
    },
    {
     "name": "stderr",
     "output_type": "stream",
     "text": [
      "100%|██████████| 36631/36631 [00:01<00:00, 23141.49it/s]\n"
     ]
    },
    {
     "name": "stdout",
     "output_type": "stream",
     "text": [
      "Training tokenizer\n",
      "\n",
      "\n",
      "\n",
      "Returning tokenizer with vocab_size = 900\n",
      "Finding lens for 900\n"
     ]
    },
    {
     "name": "stderr",
     "output_type": "stream",
     "text": [
      "100%|██████████| 36631/36631 [00:01<00:00, 23376.87it/s]\n"
     ]
    },
    {
     "name": "stdout",
     "output_type": "stream",
     "text": [
      "Training tokenizer\n",
      "\n",
      "\n",
      "\n",
      "Returning tokenizer with vocab_size = 1000\n",
      "Finding lens for 1000\n"
     ]
    },
    {
     "name": "stderr",
     "output_type": "stream",
     "text": [
      "100%|██████████| 36631/36631 [00:01<00:00, 22301.03it/s]\n"
     ]
    },
    {
     "name": "stdout",
     "output_type": "stream",
     "text": [
      "Training tokenizer\n",
      "\n",
      "\n",
      "\n",
      "Returning tokenizer with vocab_size = 1100\n",
      "Finding lens for 1100\n"
     ]
    },
    {
     "name": "stderr",
     "output_type": "stream",
     "text": [
      "100%|██████████| 36631/36631 [00:01<00:00, 22182.96it/s]\n"
     ]
    },
    {
     "name": "stdout",
     "output_type": "stream",
     "text": [
      "Training tokenizer\n",
      "\n",
      "\n",
      "\n",
      "Returning tokenizer with vocab_size = 1200\n",
      "Finding lens for 1200\n"
     ]
    },
    {
     "name": "stderr",
     "output_type": "stream",
     "text": [
      "100%|██████████| 36631/36631 [00:01<00:00, 22831.99it/s]\n"
     ]
    },
    {
     "name": "stdout",
     "output_type": "stream",
     "text": [
      "Training tokenizer\n",
      "\n",
      "\n",
      "\n",
      "Returning tokenizer with vocab_size = 1300\n",
      "Finding lens for 1300\n"
     ]
    },
    {
     "name": "stderr",
     "output_type": "stream",
     "text": [
      "100%|██████████| 36631/36631 [00:01<00:00, 22932.08it/s]\n"
     ]
    },
    {
     "name": "stdout",
     "output_type": "stream",
     "text": [
      "Training tokenizer\n",
      "\n",
      "\n",
      "\n",
      "Returning tokenizer with vocab_size = 1400\n",
      "Finding lens for 1400\n"
     ]
    },
    {
     "name": "stderr",
     "output_type": "stream",
     "text": [
      "100%|██████████| 36631/36631 [00:01<00:00, 22127.04it/s]\n"
     ]
    },
    {
     "name": "stdout",
     "output_type": "stream",
     "text": [
      "Training tokenizer\n",
      "\n",
      "\n",
      "\n",
      "Returning tokenizer with vocab_size = 1500\n",
      "Finding lens for 1500\n"
     ]
    },
    {
     "name": "stderr",
     "output_type": "stream",
     "text": [
      "100%|██████████| 36631/36631 [00:01<00:00, 22296.19it/s]\n"
     ]
    },
    {
     "name": "stdout",
     "output_type": "stream",
     "text": [
      "Training tokenizer\n",
      "\n",
      "\n",
      "\n",
      "Returning tokenizer with vocab_size = 1600\n",
      "Finding lens for 1600\n"
     ]
    },
    {
     "name": "stderr",
     "output_type": "stream",
     "text": [
      "100%|██████████| 36631/36631 [00:01<00:00, 23294.59it/s]\n"
     ]
    },
    {
     "name": "stdout",
     "output_type": "stream",
     "text": [
      "Training tokenizer\n",
      "\n",
      "\n",
      "\n",
      "Returning tokenizer with vocab_size = 1700\n",
      "Finding lens for 1700\n"
     ]
    },
    {
     "name": "stderr",
     "output_type": "stream",
     "text": [
      "100%|██████████| 36631/36631 [00:01<00:00, 22503.75it/s]\n"
     ]
    },
    {
     "name": "stdout",
     "output_type": "stream",
     "text": [
      "Training tokenizer\n",
      "\n",
      "\n",
      "\n",
      "Returning tokenizer with vocab_size = 1800\n",
      "Finding lens for 1800\n"
     ]
    },
    {
     "name": "stderr",
     "output_type": "stream",
     "text": [
      "100%|██████████| 36631/36631 [00:01<00:00, 23160.62it/s]\n"
     ]
    },
    {
     "name": "stdout",
     "output_type": "stream",
     "text": [
      "Training tokenizer\n",
      "\n",
      "\n",
      "\n",
      "Returning tokenizer with vocab_size = 1900\n",
      "Finding lens for 1900\n"
     ]
    },
    {
     "name": "stderr",
     "output_type": "stream",
     "text": [
      "100%|██████████| 36631/36631 [00:01<00:00, 23390.85it/s]\n"
     ]
    },
    {
     "name": "stdout",
     "output_type": "stream",
     "text": [
      "Training tokenizer\n",
      "\n",
      "\n",
      "\n",
      "Returning tokenizer with vocab_size = 2000\n",
      "Finding lens for 2000\n"
     ]
    },
    {
     "name": "stderr",
     "output_type": "stream",
     "text": [
      "100%|██████████| 36631/36631 [00:01<00:00, 21530.65it/s]\n"
     ]
    },
    {
     "name": "stdout",
     "output_type": "stream",
     "text": [
      "Training tokenizer\n",
      "\n",
      "\n",
      "\n",
      "Returning tokenizer with vocab_size = 2100\n",
      "Finding lens for 2100\n"
     ]
    },
    {
     "name": "stderr",
     "output_type": "stream",
     "text": [
      "100%|██████████| 36631/36631 [00:01<00:00, 22828.73it/s]\n"
     ]
    },
    {
     "name": "stdout",
     "output_type": "stream",
     "text": [
      "Training tokenizer\n",
      "\n",
      "\n",
      "\n",
      "Returning tokenizer with vocab_size = 2200\n",
      "Finding lens for 2200\n"
     ]
    },
    {
     "name": "stderr",
     "output_type": "stream",
     "text": [
      "100%|██████████| 36631/36631 [00:01<00:00, 22913.64it/s]\n"
     ]
    },
    {
     "name": "stdout",
     "output_type": "stream",
     "text": [
      "Training tokenizer\n",
      "\n",
      "\n",
      "\n",
      "Returning tokenizer with vocab_size = 2300\n",
      "Finding lens for 2300\n"
     ]
    },
    {
     "name": "stderr",
     "output_type": "stream",
     "text": [
      "100%|██████████| 36631/36631 [00:01<00:00, 22021.92it/s]\n"
     ]
    },
    {
     "name": "stdout",
     "output_type": "stream",
     "text": [
      "Training tokenizer\n",
      "\n",
      "\n",
      "\n",
      "Returning tokenizer with vocab_size = 2400\n",
      "Finding lens for 2400\n"
     ]
    },
    {
     "name": "stderr",
     "output_type": "stream",
     "text": [
      "100%|██████████| 36631/36631 [00:01<00:00, 22737.13it/s]\n"
     ]
    },
    {
     "name": "stdout",
     "output_type": "stream",
     "text": [
      "Training tokenizer\n",
      "\n",
      "\n",
      "\n",
      "Returning tokenizer with vocab_size = 2500\n",
      "Finding lens for 2500\n"
     ]
    },
    {
     "name": "stderr",
     "output_type": "stream",
     "text": [
      "100%|██████████| 36631/36631 [00:01<00:00, 22955.62it/s]\n"
     ]
    },
    {
     "name": "stdout",
     "output_type": "stream",
     "text": [
      "Training tokenizer\n",
      "\n",
      "\n",
      "\n",
      "Returning tokenizer with vocab_size = 2600\n",
      "Finding lens for 2600\n"
     ]
    },
    {
     "name": "stderr",
     "output_type": "stream",
     "text": [
      "100%|██████████| 36631/36631 [00:01<00:00, 23309.64it/s]\n"
     ]
    },
    {
     "name": "stdout",
     "output_type": "stream",
     "text": [
      "Training tokenizer\n",
      "\n",
      "\n",
      "\n",
      "Returning tokenizer with vocab_size = 2700\n",
      "Finding lens for 2700\n"
     ]
    },
    {
     "name": "stderr",
     "output_type": "stream",
     "text": [
      "100%|██████████| 36631/36631 [00:01<00:00, 23576.33it/s]\n"
     ]
    },
    {
     "name": "stdout",
     "output_type": "stream",
     "text": [
      "Training tokenizer\n",
      "\n",
      "\n",
      "\n",
      "Returning tokenizer with vocab_size = 2800\n",
      "Finding lens for 2800\n"
     ]
    },
    {
     "name": "stderr",
     "output_type": "stream",
     "text": [
      "100%|██████████| 36631/36631 [00:01<00:00, 23655.51it/s]\n"
     ]
    },
    {
     "name": "stdout",
     "output_type": "stream",
     "text": [
      "Training tokenizer\n",
      "\n",
      "\n",
      "\n",
      "Returning tokenizer with vocab_size = 2900\n",
      "Finding lens for 2900\n"
     ]
    },
    {
     "name": "stderr",
     "output_type": "stream",
     "text": [
      "100%|██████████| 36631/36631 [00:01<00:00, 22886.72it/s]\n"
     ]
    },
    {
     "name": "stdout",
     "output_type": "stream",
     "text": [
      "Training tokenizer\n",
      "\n",
      "\n",
      "\n",
      "Returning tokenizer with vocab_size = 3000\n",
      "Finding lens for 3000\n"
     ]
    },
    {
     "name": "stderr",
     "output_type": "stream",
     "text": [
      "100%|██████████| 36631/36631 [00:01<00:00, 23376.00it/s]\n"
     ]
    },
    {
     "name": "stdout",
     "output_type": "stream",
     "text": [
      "Training tokenizer\n",
      "\n",
      "\n",
      "\n",
      "Returning tokenizer with vocab_size = 3100\n",
      "Finding lens for 3100\n"
     ]
    },
    {
     "name": "stderr",
     "output_type": "stream",
     "text": [
      "100%|██████████| 36631/36631 [00:01<00:00, 22828.73it/s]\n"
     ]
    },
    {
     "name": "stdout",
     "output_type": "stream",
     "text": [
      "Training tokenizer\n",
      "\n",
      "\n",
      "\n",
      "Returning tokenizer with vocab_size = 3200\n",
      "Finding lens for 3200\n"
     ]
    },
    {
     "name": "stderr",
     "output_type": "stream",
     "text": [
      "100%|██████████| 36631/36631 [00:01<00:00, 22946.64it/s]\n"
     ]
    },
    {
     "name": "stdout",
     "output_type": "stream",
     "text": [
      "Training tokenizer\n",
      "\n",
      "\n",
      "\n",
      "Returning tokenizer with vocab_size = 3300\n",
      "Finding lens for 3300\n"
     ]
    },
    {
     "name": "stderr",
     "output_type": "stream",
     "text": [
      "100%|██████████| 36631/36631 [00:01<00:00, 23532.65it/s]\n"
     ]
    },
    {
     "name": "stdout",
     "output_type": "stream",
     "text": [
      "Training tokenizer\n",
      "\n",
      "\n",
      "\n",
      "Returning tokenizer with vocab_size = 3400\n",
      "Finding lens for 3400\n"
     ]
    },
    {
     "name": "stderr",
     "output_type": "stream",
     "text": [
      "100%|██████████| 36631/36631 [00:01<00:00, 22528.41it/s]\n"
     ]
    },
    {
     "name": "stdout",
     "output_type": "stream",
     "text": [
      "Training tokenizer\n",
      "\n",
      "\n",
      "\n",
      "Returning tokenizer with vocab_size = 3500\n",
      "Finding lens for 3500\n"
     ]
    },
    {
     "name": "stderr",
     "output_type": "stream",
     "text": [
      "100%|██████████| 36631/36631 [00:01<00:00, 23007.48it/s]\n"
     ]
    },
    {
     "name": "stdout",
     "output_type": "stream",
     "text": [
      "Training tokenizer\n",
      "\n",
      "\n",
      "\n",
      "Returning tokenizer with vocab_size = 3600\n",
      "Finding lens for 3600\n"
     ]
    },
    {
     "name": "stderr",
     "output_type": "stream",
     "text": [
      "100%|██████████| 36631/36631 [00:01<00:00, 22962.37it/s]\n"
     ]
    },
    {
     "name": "stdout",
     "output_type": "stream",
     "text": [
      "Training tokenizer\n",
      "\n",
      "\n",
      "\n",
      "Returning tokenizer with vocab_size = 3700\n",
      "Finding lens for 3700\n"
     ]
    },
    {
     "name": "stderr",
     "output_type": "stream",
     "text": [
      "100%|██████████| 36631/36631 [00:01<00:00, 23046.60it/s]\n"
     ]
    },
    {
     "name": "stdout",
     "output_type": "stream",
     "text": [
      "Training tokenizer\n",
      "\n",
      "\n",
      "\n",
      "Returning tokenizer with vocab_size = 3800\n",
      "Finding lens for 3800\n"
     ]
    },
    {
     "name": "stderr",
     "output_type": "stream",
     "text": [
      "100%|██████████| 36631/36631 [00:01<00:00, 23448.89it/s]\n"
     ]
    },
    {
     "name": "stdout",
     "output_type": "stream",
     "text": [
      "Training tokenizer\n",
      "\n",
      "\n",
      "\n",
      "Returning tokenizer with vocab_size = 3900\n",
      "Finding lens for 3900\n"
     ]
    },
    {
     "name": "stderr",
     "output_type": "stream",
     "text": [
      "100%|██████████| 36631/36631 [00:01<00:00, 23409.45it/s]\n"
     ]
    },
    {
     "name": "stdout",
     "output_type": "stream",
     "text": [
      "Training tokenizer\n",
      "\n",
      "\n",
      "\n",
      "Returning tokenizer with vocab_size = 4000\n",
      "Finding lens for 4000\n"
     ]
    },
    {
     "name": "stderr",
     "output_type": "stream",
     "text": [
      "100%|██████████| 36631/36631 [00:01<00:00, 23706.04it/s]\n"
     ]
    },
    {
     "name": "stdout",
     "output_type": "stream",
     "text": [
      "Training tokenizer\n",
      "\n",
      "\n",
      "\n",
      "Returning tokenizer with vocab_size = 4100\n",
      "Finding lens for 4100\n"
     ]
    },
    {
     "name": "stderr",
     "output_type": "stream",
     "text": [
      "100%|██████████| 36631/36631 [00:01<00:00, 22892.05it/s]\n"
     ]
    },
    {
     "name": "stdout",
     "output_type": "stream",
     "text": [
      "Training tokenizer\n",
      "\n",
      "\n",
      "\n",
      "Returning tokenizer with vocab_size = 4200\n",
      "Finding lens for 4200\n"
     ]
    },
    {
     "name": "stderr",
     "output_type": "stream",
     "text": [
      "100%|██████████| 36631/36631 [00:01<00:00, 23630.62it/s]\n"
     ]
    },
    {
     "name": "stdout",
     "output_type": "stream",
     "text": [
      "Training tokenizer\n",
      "\n",
      "\n",
      "\n",
      "Returning tokenizer with vocab_size = 4300\n",
      "Finding lens for 4300\n"
     ]
    },
    {
     "name": "stderr",
     "output_type": "stream",
     "text": [
      "100%|██████████| 36631/36631 [00:01<00:00, 23163.48it/s]\n"
     ]
    },
    {
     "name": "stdout",
     "output_type": "stream",
     "text": [
      "Training tokenizer\n",
      "\n",
      "\n",
      "\n",
      "Returning tokenizer with vocab_size = 4400\n",
      "Finding lens for 4400\n"
     ]
    },
    {
     "name": "stderr",
     "output_type": "stream",
     "text": [
      "100%|██████████| 36631/36631 [00:01<00:00, 23332.63it/s]\n"
     ]
    },
    {
     "name": "stdout",
     "output_type": "stream",
     "text": [
      "Training tokenizer\n",
      "\n",
      "\n",
      "\n",
      "Returning tokenizer with vocab_size = 4500\n",
      "Finding lens for 4500\n"
     ]
    },
    {
     "name": "stderr",
     "output_type": "stream",
     "text": [
      "100%|██████████| 36631/36631 [00:01<00:00, 23810.94it/s]\n"
     ]
    },
    {
     "name": "stdout",
     "output_type": "stream",
     "text": [
      "Training tokenizer\n",
      "\n",
      "\n",
      "\n",
      "Returning tokenizer with vocab_size = 4600\n",
      "Finding lens for 4600\n"
     ]
    },
    {
     "name": "stderr",
     "output_type": "stream",
     "text": [
      "100%|██████████| 36631/36631 [00:01<00:00, 23860.48it/s]\n"
     ]
    },
    {
     "name": "stdout",
     "output_type": "stream",
     "text": [
      "Training tokenizer\n",
      "\n",
      "\n",
      "\n",
      "Returning tokenizer with vocab_size = 4700\n",
      "Finding lens for 4700\n"
     ]
    },
    {
     "name": "stderr",
     "output_type": "stream",
     "text": [
      "100%|██████████| 36631/36631 [00:01<00:00, 23534.14it/s]\n"
     ]
    },
    {
     "name": "stdout",
     "output_type": "stream",
     "text": [
      "Training tokenizer\n",
      "\n",
      "\n",
      "\n",
      "Returning tokenizer with vocab_size = 4800\n",
      "Finding lens for 4800\n"
     ]
    },
    {
     "name": "stderr",
     "output_type": "stream",
     "text": [
      "100%|██████████| 36631/36631 [00:01<00:00, 23455.53it/s]\n"
     ]
    },
    {
     "name": "stdout",
     "output_type": "stream",
     "text": [
      "Training tokenizer\n",
      "\n",
      "\n",
      "\n",
      "Returning tokenizer with vocab_size = 4900\n",
      "Finding lens for 4900\n"
     ]
    },
    {
     "name": "stderr",
     "output_type": "stream",
     "text": [
      "100%|██████████| 36631/36631 [00:01<00:00, 22810.39it/s]\n"
     ]
    },
    {
     "name": "stdout",
     "output_type": "stream",
     "text": [
      "Training tokenizer\n",
      "\n",
      "\n",
      "\n",
      "Returning tokenizer with vocab_size = 5000\n",
      "Finding lens for 5000\n"
     ]
    },
    {
     "name": "stderr",
     "output_type": "stream",
     "text": [
      "100%|██████████| 36631/36631 [00:01<00:00, 23693.27it/s]\n"
     ]
    },
    {
     "name": "stdout",
     "output_type": "stream",
     "text": [
      "Training tokenizer\n",
      "\n",
      "\n",
      "\n",
      "Returning tokenizer with vocab_size = 5100\n",
      "Finding lens for 5100\n"
     ]
    },
    {
     "name": "stderr",
     "output_type": "stream",
     "text": [
      "100%|██████████| 36631/36631 [00:01<00:00, 23240.09it/s]\n"
     ]
    },
    {
     "name": "stdout",
     "output_type": "stream",
     "text": [
      "Training tokenizer\n",
      "\n",
      "\n",
      "\n",
      "Returning tokenizer with vocab_size = 5200\n",
      "Finding lens for 5200\n"
     ]
    },
    {
     "name": "stderr",
     "output_type": "stream",
     "text": [
      "100%|██████████| 36631/36631 [00:01<00:00, 23489.13it/s]\n"
     ]
    },
    {
     "name": "stdout",
     "output_type": "stream",
     "text": [
      "Training tokenizer\n",
      "\n",
      "\n",
      "\n",
      "Returning tokenizer with vocab_size = 5300\n",
      "Finding lens for 5300\n"
     ]
    },
    {
     "name": "stderr",
     "output_type": "stream",
     "text": [
      "100%|██████████| 36631/36631 [00:01<00:00, 23376.47it/s]\n"
     ]
    },
    {
     "name": "stdout",
     "output_type": "stream",
     "text": [
      "Training tokenizer\n",
      "\n",
      "\n",
      "\n",
      "Returning tokenizer with vocab_size = 5400\n",
      "Finding lens for 5400\n"
     ]
    },
    {
     "name": "stderr",
     "output_type": "stream",
     "text": [
      "100%|██████████| 36631/36631 [00:01<00:00, 23719.97it/s]\n"
     ]
    },
    {
     "name": "stdout",
     "output_type": "stream",
     "text": [
      "Training tokenizer\n",
      "\n",
      "\n",
      "\n",
      "Returning tokenizer with vocab_size = 5500\n",
      "Finding lens for 5500\n"
     ]
    },
    {
     "name": "stderr",
     "output_type": "stream",
     "text": [
      "100%|██████████| 36631/36631 [00:01<00:00, 23493.04it/s]\n"
     ]
    },
    {
     "name": "stdout",
     "output_type": "stream",
     "text": [
      "Training tokenizer\n",
      "\n",
      "\n",
      "\n",
      "Returning tokenizer with vocab_size = 5600\n",
      "Finding lens for 5600\n"
     ]
    },
    {
     "name": "stderr",
     "output_type": "stream",
     "text": [
      "100%|██████████| 36631/36631 [00:01<00:00, 23350.32it/s]\n"
     ]
    },
    {
     "name": "stdout",
     "output_type": "stream",
     "text": [
      "Training tokenizer\n",
      "\n",
      "\n",
      "\n",
      "Returning tokenizer with vocab_size = 5700\n",
      "Finding lens for 5700\n"
     ]
    },
    {
     "name": "stderr",
     "output_type": "stream",
     "text": [
      "100%|██████████| 36631/36631 [00:01<00:00, 23408.16it/s]\n"
     ]
    },
    {
     "name": "stdout",
     "output_type": "stream",
     "text": [
      "Training tokenizer\n",
      "\n",
      "\n",
      "\n",
      "Returning tokenizer with vocab_size = 5800\n",
      "Finding lens for 5800\n"
     ]
    },
    {
     "name": "stderr",
     "output_type": "stream",
     "text": [
      "100%|██████████| 36631/36631 [00:01<00:00, 23636.32it/s]\n"
     ]
    },
    {
     "name": "stdout",
     "output_type": "stream",
     "text": [
      "Training tokenizer\n",
      "\n",
      "\n",
      "\n",
      "Returning tokenizer with vocab_size = 5900\n",
      "Finding lens for 5900\n"
     ]
    },
    {
     "name": "stderr",
     "output_type": "stream",
     "text": [
      "100%|██████████| 36631/36631 [00:01<00:00, 23434.53it/s]\n"
     ]
    },
    {
     "name": "stdout",
     "output_type": "stream",
     "text": [
      "Training tokenizer\n",
      "\n",
      "\n",
      "\n",
      "Returning tokenizer with vocab_size = 6000\n",
      "Finding lens for 6000\n"
     ]
    },
    {
     "name": "stderr",
     "output_type": "stream",
     "text": [
      "100%|██████████| 36631/36631 [00:01<00:00, 23122.75it/s]\n"
     ]
    },
    {
     "name": "stdout",
     "output_type": "stream",
     "text": [
      "Training tokenizer\n",
      "\n",
      "\n",
      "\n",
      "Returning tokenizer with vocab_size = 6100\n",
      "Finding lens for 6100\n"
     ]
    },
    {
     "name": "stderr",
     "output_type": "stream",
     "text": [
      "100%|██████████| 36631/36631 [00:01<00:00, 23624.67it/s]\n"
     ]
    },
    {
     "name": "stdout",
     "output_type": "stream",
     "text": [
      "Training tokenizer\n",
      "\n",
      "\n",
      "\n",
      "Returning tokenizer with vocab_size = 6200\n",
      "Finding lens for 6200\n"
     ]
    },
    {
     "name": "stderr",
     "output_type": "stream",
     "text": [
      "100%|██████████| 36631/36631 [00:01<00:00, 23447.35it/s]\n"
     ]
    },
    {
     "name": "stdout",
     "output_type": "stream",
     "text": [
      "Training tokenizer\n",
      "\n",
      "\n",
      "\n",
      "Returning tokenizer with vocab_size = 6300\n",
      "Finding lens for 6300\n"
     ]
    },
    {
     "name": "stderr",
     "output_type": "stream",
     "text": [
      "100%|██████████| 36631/36631 [00:01<00:00, 23247.32it/s]\n"
     ]
    },
    {
     "name": "stdout",
     "output_type": "stream",
     "text": [
      "Training tokenizer\n",
      "\n",
      "\n",
      "\n",
      "Returning tokenizer with vocab_size = 6400\n",
      "Finding lens for 6400\n"
     ]
    },
    {
     "name": "stderr",
     "output_type": "stream",
     "text": [
      "100%|██████████| 36631/36631 [00:01<00:00, 23697.24it/s]\n"
     ]
    },
    {
     "name": "stdout",
     "output_type": "stream",
     "text": [
      "Training tokenizer\n",
      "\n",
      "\n",
      "\n",
      "Returning tokenizer with vocab_size = 6500\n",
      "Finding lens for 6500\n"
     ]
    },
    {
     "name": "stderr",
     "output_type": "stream",
     "text": [
      "100%|██████████| 36631/36631 [00:01<00:00, 23919.16it/s]\n"
     ]
    },
    {
     "name": "stdout",
     "output_type": "stream",
     "text": [
      "Training tokenizer\n",
      "\n",
      "\n",
      "\n",
      "Returning tokenizer with vocab_size = 6600\n",
      "Finding lens for 6600\n"
     ]
    },
    {
     "name": "stderr",
     "output_type": "stream",
     "text": [
      "100%|██████████| 36631/36631 [00:01<00:00, 23201.98it/s]\n"
     ]
    },
    {
     "name": "stdout",
     "output_type": "stream",
     "text": [
      "Training tokenizer\n",
      "\n",
      "\n",
      "\n",
      "Returning tokenizer with vocab_size = 6700\n",
      "Finding lens for 6700\n"
     ]
    },
    {
     "name": "stderr",
     "output_type": "stream",
     "text": [
      "100%|██████████| 36631/36631 [00:01<00:00, 23835.42it/s]\n"
     ]
    },
    {
     "name": "stdout",
     "output_type": "stream",
     "text": [
      "Training tokenizer\n",
      "\n",
      "\n",
      "\n",
      "Returning tokenizer with vocab_size = 6800\n",
      "Finding lens for 6800\n"
     ]
    },
    {
     "name": "stderr",
     "output_type": "stream",
     "text": [
      "100%|██████████| 36631/36631 [00:01<00:00, 23847.63it/s]\n"
     ]
    },
    {
     "name": "stdout",
     "output_type": "stream",
     "text": [
      "Training tokenizer\n",
      "\n",
      "\n",
      "\n",
      "Returning tokenizer with vocab_size = 6900\n",
      "Finding lens for 6900\n"
     ]
    },
    {
     "name": "stderr",
     "output_type": "stream",
     "text": [
      "100%|██████████| 36631/36631 [00:01<00:00, 23416.57it/s]\n"
     ]
    },
    {
     "name": "stdout",
     "output_type": "stream",
     "text": [
      "Training tokenizer\n",
      "\n",
      "\n",
      "\n",
      "Returning tokenizer with vocab_size = 7000\n",
      "Finding lens for 7000\n"
     ]
    },
    {
     "name": "stderr",
     "output_type": "stream",
     "text": [
      "100%|██████████| 36631/36631 [00:01<00:00, 23224.76it/s]\n"
     ]
    },
    {
     "data": {
      "image/png": "[encoded data removed]",
      "text/plain": [
       "<Figure size 640x480 with 1 Axes>"
      ]
     },
     "metadata": {},
     "output_type": "display_data"
    }
   ],
   "source": [
    "# NPE: [4, 8, 12, 16, 20, 40, 60, 80, 100, 200, 300, 400, ... , 3000]\n",
    "\n",
    "npe_vocab_sizes = [4, 8, 12, 16, 20, 40, 60, 80]\n",
    "npe_vocab_sizes.extend(iter(range(100, max_vocab_all + 1, 100)))\n",
    "\n",
    "plot_mean_seq_lens(\n",
    "    sequence_fasta_file=\"/home/couchbucks/Documents/saketh/cpe/data/datasets/mdh_natural_dataset.fasta\", \n",
    "    vocab_sizes=npe_vocab_sizes,\n",
    "    bpe_tokenizer_type=\"npe_tokenizer\",\n",
    "    #save_tokenizer = True, \n",
    "    save_plot_data = True\n",
    ")"
   ]
  },
  {
   "cell_type": "markdown",
   "metadata": {},
   "source": [
    "Proper vocab sizes:\n",
    "1. CPE: 1500\n",
    "2. APE: 400\n",
    "3. NPE: "
   ]
  },
  {
   "cell_type": "code",
   "execution_count": null,
   "metadata": {},
   "outputs": [
    {
     "data": {
      "text/plain": [
       "'\\n\\nCPE:\\nnum_tokens_in_vocab = {100: 64, 200: 85, 300: 97, 400: 106, 500: 112, 600: 117, 700: 121, 800: 124, 900: 127, 1000: 129, 1100: 131, 1200: 133, 1300: 134, 1400: 135, 1500: 136, 1600: 136, 1700: 137, 1800: 138, 1900: 138, 2000: 138, 2100: 139, 2200: 139, 2300: 139, 2400: 139, 2500: 139, 2600: 139, 2700: 139, 2800: 140, 2900: 140}\\nper_vocab_in_vocab = {100: 0.64, 200: 0.425, 300: 0.3233333333333333, 400: 0.265, 500: 0.224, 600: 0.195, 700: 0.17285714285714285, 800: 0.155, 900: 0.1411111111111111, 1000: 0.129, 1100: 0.1190909090909091, 1200: 0.11083333333333334, 1300: 0.10307692307692308, 1400: 0.09642857142857143, 1500: 0.09066666666666667, 1600: 0.085, 1700: 0.08058823529411764, 1800: 0.07666666666666666, 1900: 0.07263157894736842, 2000: 0.069, 2100: 0.06619047619047619, 2200: 0.06318181818181819, 2300: 0.06043478260869565, 2400: 0.057916666666666665, 2500: 0.0556, 2600: 0.05346153846153846, 2700: 0.05148148148148148, 2800: 0.05, 2900: 0.04827586206896552}\\n\\nAPE: \\nnum_tokens_in_vocab = {20: 24, 120: 82, 220: 101, 320: 107, 420: 109, 520: 109, 620: 110, 720: 109, 820: 109, 920: 108, 1020: 107, 1120: 107, 1220: 106, 1320: 105, 1420: 105, 1520: 104, 1620: 104, 1720: 103, 1820: 102, 1920: 101}\\nper_vocab_in_vocab = {20: 0.8571428571428571, 120: 0.6833333333333333, 220: 0.4590909090909091, 320: 0.334375, 420: 0.25952380952380955, 520: 0.20961538461538462, 620: 0.1774193548387097, 720: 0.15138888888888888, 820: 0.1329268292682927, 920: 0.11739130434782609, 1020: 0.10490196078431373, 1120: 0.09553571428571428, 1220: 0.08688524590163935, 1320: 0.07954545454545454, 1420: 0.07394366197183098, 1520: 0.06842105263157895, 1620: 0.06419753086419754, 1720: 0.05988372093023256, 1820: 0.056043956043956046, 1920: 0.05260416666666667}\\n\\nNPE: \\nnum_tokens_in_vocab = {1000: 152, 1250: 154, 1500: 156, 1750: 157, 2000: 157, 2250: 158, 2500: 158, 2750: 158, 3000: 158, 3250: 158, 3500: 158, 3750: 158, 4000: 158, 4250: 158, 4500: 158, 4750: 157}\\nper_vocab_in_vocab = {1000: 0.152, 1250: 0.1232, 1500: 0.104, 1750: 0.08971428571428572, 2000: 0.0785, 2250: 0.07022222222222223, 2500: 0.0632, 2750: 0.05745454545454545, 3000: 0.05266666666666667, 3250: 0.048615384615384616, 3500: 0.045142857142857144, 3750: 0.042133333333333335, 4000: 0.0395, 4250: 0.0371764705882353, 4500: 0.035111111111111114, 4750: 0.03305263157894737}\\n\\n'"
      ]
     },
     "execution_count": 45,
     "metadata": {},
     "output_type": "execute_result"
    }
   ],
   "source": [
    "\"\"\"\n",
    "\n",
    "CPE:\n",
    "num_tokens_in_vocab = {100: 64, 200: 85, 300: 97, 400: 106, 500: 112, 600: 117, 700: 121, 800: 124, 900: 127, 1000: 129, 1100: 131, 1200: 133, 1300: 134, 1400: 135, 1500: 136, 1600: 136, 1700: 137, 1800: 138, 1900: 138, 2000: 138, 2100: 139, 2200: 139, 2300: 139, 2400: 139, 2500: 139, 2600: 139, 2700: 139, 2800: 140, 2900: 140}\n",
    "per_vocab_in_vocab = {100: 0.64, 200: 0.425, 300: 0.3233333333333333, 400: 0.265, 500: 0.224, 600: 0.195, 700: 0.17285714285714285, 800: 0.155, 900: 0.1411111111111111, 1000: 0.129, 1100: 0.1190909090909091, 1200: 0.11083333333333334, 1300: 0.10307692307692308, 1400: 0.09642857142857143, 1500: 0.09066666666666667, 1600: 0.085, 1700: 0.08058823529411764, 1800: 0.07666666666666666, 1900: 0.07263157894736842, 2000: 0.069, 2100: 0.06619047619047619, 2200: 0.06318181818181819, 2300: 0.06043478260869565, 2400: 0.057916666666666665, 2500: 0.0556, 2600: 0.05346153846153846, 2700: 0.05148148148148148, 2800: 0.05, 2900: 0.04827586206896552}\n",
    "\n",
    "APE: \n",
    "num_tokens_in_vocab = {20: 24, 120: 82, 220: 101, 320: 107, 420: 109, 520: 109, 620: 110, 720: 109, 820: 109, 920: 108, 1020: 107, 1120: 107, 1220: 106, 1320: 105, 1420: 105, 1520: 104, 1620: 104, 1720: 103, 1820: 102, 1920: 101}\n",
    "per_vocab_in_vocab = {20: 0.8571428571428571, 120: 0.6833333333333333, 220: 0.4590909090909091, 320: 0.334375, 420: 0.25952380952380955, 520: 0.20961538461538462, 620: 0.1774193548387097, 720: 0.15138888888888888, 820: 0.1329268292682927, 920: 0.11739130434782609, 1020: 0.10490196078431373, 1120: 0.09553571428571428, 1220: 0.08688524590163935, 1320: 0.07954545454545454, 1420: 0.07394366197183098, 1520: 0.06842105263157895, 1620: 0.06419753086419754, 1720: 0.05988372093023256, 1820: 0.056043956043956046, 1920: 0.05260416666666667}\n",
    "\n",
    "NPE: \n",
    "num_tokens_in_vocab = {1000: 152, 1250: 154, 1500: 156, 1750: 157, 2000: 157, 2250: 158, 2500: 158, 2750: 158, 3000: 158, 3250: 158, 3500: 158, 3750: 158, 4000: 158, 4250: 158, 4500: 158, 4750: 157}\n",
    "per_vocab_in_vocab = {1000: 0.152, 1250: 0.1232, 1500: 0.104, 1750: 0.08971428571428572, 2000: 0.0785, 2250: 0.07022222222222223, 2500: 0.0632, 2750: 0.05745454545454545, 3000: 0.05266666666666667, 3250: 0.048615384615384616, 3500: 0.045142857142857144, 3750: 0.042133333333333335, 4000: 0.0395, 4250: 0.0371764705882353, 4500: 0.035111111111111114, 4750: 0.03305263157894737}\n",
    "\n",
    "\"\"\""
   ]
  },
  {
   "cell_type": "code",
   "execution_count": null,
   "metadata": {},
   "outputs": [
    {
     "name": "stdout",
     "output_type": "stream",
     "text": [
      "[{'vocab_size': 100, 'median_tokens': 64, 'relative_tokens': 0.64}, {'vocab_size': 200, 'median_tokens': 85, 'relative_tokens': 0.425}, {'vocab_size': 300, 'median_tokens': 97, 'relative_tokens': 0.3233333333333333}, {'vocab_size': 400, 'median_tokens': 106, 'relative_tokens': 0.265}, {'vocab_size': 500, 'median_tokens': 112, 'relative_tokens': 0.224}, {'vocab_size': 600, 'median_tokens': 117, 'relative_tokens': 0.195}, {'vocab_size': 700, 'median_tokens': 121, 'relative_tokens': 0.17285714285714285}, {'vocab_size': 800, 'median_tokens': 124, 'relative_tokens': 0.155}, {'vocab_size': 900, 'median_tokens': 127, 'relative_tokens': 0.1411111111111111}, {'vocab_size': 1000, 'median_tokens': 129, 'relative_tokens': 0.129}, {'vocab_size': 1100, 'median_tokens': 131, 'relative_tokens': 0.1190909090909091}, {'vocab_size': 1200, 'median_tokens': 133, 'relative_tokens': 0.11083333333333334}, {'vocab_size': 1300, 'median_tokens': 134, 'relative_tokens': 0.10307692307692308}, {'vocab_size': 1400, 'median_tokens': 135, 'relative_tokens': 0.09642857142857143}, {'vocab_size': 1500, 'median_tokens': 136, 'relative_tokens': 0.09066666666666667}, {'vocab_size': 1600, 'median_tokens': 136, 'relative_tokens': 0.085}, {'vocab_size': 1700, 'median_tokens': 137, 'relative_tokens': 0.08058823529411764}, {'vocab_size': 1800, 'median_tokens': 138, 'relative_tokens': 0.07666666666666666}, {'vocab_size': 1900, 'median_tokens': 138, 'relative_tokens': 0.07263157894736842}, {'vocab_size': 2000, 'median_tokens': 138, 'relative_tokens': 0.069}, {'vocab_size': 2100, 'median_tokens': 139, 'relative_tokens': 0.06619047619047619}, {'vocab_size': 2200, 'median_tokens': 139, 'relative_tokens': 0.06318181818181819}, {'vocab_size': 2300, 'median_tokens': 139, 'relative_tokens': 0.06043478260869565}, {'vocab_size': 2400, 'median_tokens': 139, 'relative_tokens': 0.057916666666666665}, {'vocab_size': 2500, 'median_tokens': 139, 'relative_tokens': 0.0556}, {'vocab_size': 2600, 'median_tokens': 139, 'relative_tokens': 0.05346153846153846}, {'vocab_size': 2700, 'median_tokens': 139, 'relative_tokens': 0.05148148148148148}, {'vocab_size': 2800, 'median_tokens': 140, 'relative_tokens': 0.05}, {'vocab_size': 2900, 'median_tokens': 140, 'relative_tokens': 0.04827586206896552}]\n"
     ]
    }
   ],
   "source": [
    "num_tokens_in_vocab = {\n",
    "    100: 64,\n",
    "    200: 85,\n",
    "    300: 97,\n",
    "    400: 106,\n",
    "    500: 112,\n",
    "    600: 117,\n",
    "    700: 121,\n",
    "    800: 124,\n",
    "    900: 127,\n",
    "    1000: 129,\n",
    "    1100: 131,\n",
    "    1200: 133,\n",
    "    1300: 134,\n",
    "    1400: 135,\n",
    "    1500: 136,\n",
    "    1600: 136,\n",
    "    1700: 137,\n",
    "    1800: 138,\n",
    "    1900: 138,\n",
    "    2000: 138,\n",
    "    2100: 139,\n",
    "    2200: 139,\n",
    "    2300: 139,\n",
    "    2400: 139,\n",
    "    2500: 139,\n",
    "    2600: 139,\n",
    "    2700: 139,\n",
    "    2800: 140,\n",
    "    2900: 140,\n",
    "}\n",
    "per_vocab_in_vocab = {\n",
    "    100: 0.64,\n",
    "    200: 0.425,\n",
    "    300: 0.3233333333333333,\n",
    "    400: 0.265,\n",
    "    500: 0.224,\n",
    "    600: 0.195,\n",
    "    700: 0.17285714285714285,\n",
    "    800: 0.155,\n",
    "    900: 0.1411111111111111,\n",
    "    1000: 0.129,\n",
    "    1100: 0.1190909090909091,\n",
    "    1200: 0.11083333333333334,\n",
    "    1300: 0.10307692307692308,\n",
    "    1400: 0.09642857142857143,\n",
    "    1500: 0.09066666666666667,\n",
    "    1600: 0.085,\n",
    "    1700: 0.08058823529411764,\n",
    "    1800: 0.07666666666666666,\n",
    "    1900: 0.07263157894736842,\n",
    "    2000: 0.069,\n",
    "    2100: 0.06619047619047619,\n",
    "    2200: 0.06318181818181819,\n",
    "    2300: 0.06043478260869565,\n",
    "    2400: 0.057916666666666665,\n",
    "    2500: 0.0556,\n",
    "    2600: 0.05346153846153846,\n",
    "    2700: 0.05148148148148148,\n",
    "    2800: 0.05,\n",
    "    2900: 0.04827586206896552,\n",
    "}\n",
    "\n",
    "data = []\n",
    "\n",
    "for vocab_size, per_tokens in per_vocab_in_vocab.items():\n",
    "    abs_tokens = num_tokens_in_vocab[vocab_size]\n",
    "    data.append(\n",
    "        {\n",
    "            \"vocab_size\": vocab_size,\n",
    "            \"median_tokens\": abs_tokens,\n",
    "            \"relative_tokens\": per_tokens,\n",
    "        }\n",
    "    )\n",
    "\n",
    "print(data)"
   ]
  }
 ],
 "metadata": {
  "kernelspec": {
   "display_name": "Python 3.10.12 ('env': venv)",
   "language": "python",
   "name": "python3"
  },
  "language_info": {
   "codemirror_mode": {
    "name": "ipython",
    "version": 3
   },
   "file_extension": ".py",
   "mimetype": "text/x-python",
   "name": "python",
   "nbconvert_exporter": "python",
   "pygments_lexer": "ipython3",
   "version": "3.10.12"
  },
  "orig_nbformat": 4,
  "vscode": {
   "interpreter": {
    "hash": "d1d2b8a7f7e8b4294e58905fa61be7044a6603711006b6ad534d224b83be168b"
   }
  }
 },
 "nbformat": 4,
 "nbformat_minor": 2
}
