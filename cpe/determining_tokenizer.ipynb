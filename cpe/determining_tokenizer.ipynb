{
 "cells": [
  {
   "cell_type": "code",
   "execution_count": 39,
   "metadata": {},
   "outputs": [],
   "source": [
    "import time\n",
    "import queue\n",
    "import pandas as pd\n",
    "import threading\n",
    "from typing import Union, List\n",
    "from tqdm import tqdm\n",
    "from pathlib import Path\n",
    "import numpy as np\n",
    "from datasets import Dataset\n",
    "from transformers import PreTrainedTokenizerFast\n",
    "from tokenizers.processors import TemplateProcessing\n",
    "from tokenizers import (\n",
    "    decoders,\n",
    "    models,\n",
    "    normalizers,\n",
    "    pre_tokenizers,\n",
    "    processors,\n",
    "    trainers,\n",
    "    Tokenizer,\n",
    ")\n",
    "from tokenizers.models import BPE\n",
    "from statistics import mean, median\n",
    "from tokenizers.pre_tokenizers import Digits, Whitespace, Sequence\n",
    "import matplotlib.pyplot as plt\n",
    "from Bio.Seq import translate\n",
    "\n",
    "PathLike = Union[str, Path]\n",
    "import re\n",
    "import os\n",
    "import torch\n",
    "from utils import any_file_fasta_reader, group_and_contextualize\n",
    "import json\n",
    "\n",
    "# from genslm.utils import read_fasta_only_seq, read_fasta, Sequence\n",
    "\n",
    "# Assign a unique character to each codon so that we can use it as an\n",
    "# input token to a BPE tokenizer. This implements a codon-pair encoding.\n",
    "CODON_CHAR = {\n",
    "    \"TCG\": \"A\",\n",
    "    \"GCA\": \"B\",\n",
    "    \"CTT\": \"C\",\n",
    "    \"ATT\": \"D\",\n",
    "    \"TTA\": \"E\",\n",
    "    \"GGG\": \"F\",\n",
    "    \"CGT\": \"G\",\n",
    "    \"TAA\": \"H\",\n",
    "    \"AAA\": \"I\",\n",
    "    \"CTC\": \"J\",\n",
    "    \"AGT\": \"K\",\n",
    "    \"CCA\": \"L\",\n",
    "    \"TGT\": \"M\",\n",
    "    \"GCC\": \"N\",\n",
    "    \"GTT\": \"O\",\n",
    "    \"ATA\": \"P\",\n",
    "    \"TAC\": \"Q\",\n",
    "    \"TTT\": \"R\",\n",
    "    \"TGC\": \"S\",\n",
    "    \"CAC\": \"T\",\n",
    "    \"ACG\": \"U\",\n",
    "    \"CCC\": \"V\",\n",
    "    \"ATC\": \"W\",\n",
    "    \"CAT\": \"X\",\n",
    "    \"AGA\": \"Y\",\n",
    "    \"GAG\": \"Z\",\n",
    "    \"GTG\": \"a\",\n",
    "    \"GGT\": \"b\",\n",
    "    \"GCT\": \"c\",\n",
    "    \"TTC\": \"d\",\n",
    "    \"AAC\": \"e\",\n",
    "    \"TAT\": \"f\",\n",
    "    \"GTA\": \"g\",\n",
    "    \"CCG\": \"h\",\n",
    "    \"ACA\": \"i\",\n",
    "    \"CGA\": \"j\",\n",
    "    \"TAG\": \"k\",\n",
    "    \"CTG\": \"l\",\n",
    "    \"GGA\": \"m\",\n",
    "    \"ATG\": \"n\",\n",
    "    \"TCT\": \"o\",\n",
    "    \"CGG\": \"p\",\n",
    "    \"GAT\": \"q\",\n",
    "    \"ACC\": \"r\",\n",
    "    \"GAC\": \"s\",\n",
    "    \"GTC\": \"t\",\n",
    "    \"TGG\": \"u\",\n",
    "    \"CCT\": \"v\",\n",
    "    \"GAA\": \"w\",\n",
    "    \"TCA\": \"x\",\n",
    "    \"CAA\": \"y\",\n",
    "    \"AAT\": \"z\",\n",
    "    \"ACT\": \"0\",\n",
    "    \"GCG\": \"1\",\n",
    "    \"GGC\": \"2\",\n",
    "    \"CTA\": \"3\",\n",
    "    \"AAG\": \"4\",\n",
    "    \"AGG\": \"5\",\n",
    "    \"CAG\": \"6\",\n",
    "    \"AGC\": \"7\",\n",
    "    \"CGC\": \"8\",\n",
    "    \"TTG\": \"9\",\n",
    "    \"TCC\": \"!\",\n",
    "    \"TGA\": \"@\",\n",
    "    \"XXX\": \"*\",\n",
    "}\n",
    "\n",
    "\n",
    "def build_tokenizer(\n",
    "    corpus_iterator,\n",
    "    vocab_size,\n",
    "    tokenizer_type: str,\n",
    "    add_bos_eos: bool = True,\n",
    "    max_length: int = 1024,\n",
    "    save: bool = False,\n",
    "    initial_alphabet: list[str] = None,\n",
    "):\n",
    "    special_tokens = {\n",
    "        \"unk_token\": \"[UNK]\",\n",
    "        \"cls_token\": \"[CLS]\",\n",
    "        \"sep_token\": \"[SEP]\",\n",
    "        \"pad_token\": \"[PAD]\",\n",
    "        \"mask_token\": \"[MASK]\",\n",
    "        \"bos_token\": \"[BOS]\",\n",
    "        \"eos_token\": \"[EOS]\",\n",
    "    }\n",
    "\n",
    "    bos_index = 5\n",
    "    eos_index = 6\n",
    "\n",
    "    # Define tokenizer\n",
    "    tokenizer = Tokenizer(BPE(unk_token=special_tokens[\"unk_token\"]))\n",
    "\n",
    "    if tokenizer_type == \"cpe_tokenizer\":\n",
    "        tokenizer.pre_tokenizer = Digits(individual_digits=False)\n",
    "\n",
    "    else:\n",
    "        tokenizer.pre_tokenizer = Whitespace()\n",
    "\n",
    "    trainer = trainers.BpeTrainer(\n",
    "        vocab_size=vocab_size,\n",
    "        special_tokens=list(special_tokens.values()),\n",
    "        # initial_alphabet=initial_alphabet\n",
    "    )\n",
    "\n",
    "    print(\"Training tokenizer\")\n",
    "\n",
    "    tokenizer.train_from_iterator(corpus_iterator, trainer=trainer)\n",
    "    # Add post-processor\n",
    "    # trim_offsets=True will ignore spaces, false will leave them in\n",
    "    tokenizer.post_processor = processors.ByteLevel(trim_offsets=True)\n",
    "    if add_bos_eos:\n",
    "        tokenizer.post_processor = TemplateProcessing(\n",
    "            single=\"[BOS] $A [EOS]\",\n",
    "            special_tokens=[(\"[BOS]\", bos_index), (\"[EOS]\", eos_index)],\n",
    "        )\n",
    "\n",
    "    # Add a decoder\n",
    "    tokenizer.decoder = decoders.ByteLevel()\n",
    "\n",
    "    # save the tokenizer\n",
    "    wrapped_tokenizer = PreTrainedTokenizerFast(\n",
    "        tokenizer_object=tokenizer, **special_tokens\n",
    "    )\n",
    "    if save:\n",
    "        wrapped_tokenizer.save_pretrained(\n",
    "            f\"data/experiment_tokenizers_saved/{tokenizer_type}s/{tokenizer_type}_{tokenizer.get_vocab_size()}\"\n",
    "        )\n",
    "\n",
    "    print(f\"Returning tokenizer with vocab_size = {tokenizer.get_vocab_size()}\")\n",
    "\n",
    "    return wrapped_tokenizer\n",
    "\n",
    "\n",
    "# ImportError: cannot import name 'group_and_contextualize_cpe_training' from 'utils' (/home/couchbucks/Documents/saketh/cpe/cpe/utils.py)\n",
    "def group_and_contextualize_cpe_training(seq: str, k: int = 3):\n",
    "    return \"\".join(CODON_CHAR.get(seq[i : i + k]) for i in range(0, len(seq), k))"
   ]
  },
  {
   "cell_type": "code",
   "execution_count": 40,
   "metadata": {},
   "outputs": [],
   "source": [
    "def plot_vocab_lens(\n",
    "    sequence_fasta_file: str, vocab_sizes: list[int], bpe_tokenizer_type: str, save_tokenizer: bool = False, save_plot_data: bool = True\n",
    "):\n",
    "    \"\"\"_summary_\n",
    "\n",
    "    Args:\n",
    "        sequences [str]: _description_\n",
    "        max_vocab_len (int): _description_\n",
    "        increment (int): _description_\n",
    "        bpe_tokenizer_type (str): choices: [\"ape_tokenizer\", \"cpe_tokenizer\", \"npe_tokenizer\"]\n",
    "    \"\"\"\n",
    "\n",
    "    dna_sequences = any_file_fasta_reader(sequence_fasta_file)\n",
    "\n",
    "    # data preprocessing dependent on tokenizer_type\n",
    "    if bpe_tokenizer_type == \"ape_tokenizer\":\n",
    "        sequences = [translate(seq.upper()) for seq in dna_sequences]\n",
    "        # initial_alphabet = ['R', 'H', 'K', 'D', 'E', 'S', 'T', 'N', 'Q', 'A', 'V', 'I', 'L', 'M', 'F', 'Y', 'W', 'C', 'G', 'P', '_', 'X']\n",
    "\n",
    "    elif bpe_tokenizer_type == \"cpe_tokenizer\":\n",
    "        # print(dna_sequences[0])\n",
    "        sequences = [group_and_contextualize_cpe_training(seq) for seq in dna_sequences]\n",
    "        # initial_alphabet = list(CODON_CHAR.values())\n",
    "\n",
    "    elif bpe_tokenizer_type == \"npe_tokenizer\":\n",
    "        sequences = [seq.upper() for seq in dna_sequences]\n",
    "        # initial_alphabet = [\"A\", \"C\", \"T\", \"G\"]\n",
    "\n",
    "    else:\n",
    "        raise ValueError(\"Please enter a valid bpe_tokenizer_type :)\")\n",
    "\n",
    "    num_tokens_in_vocab = {}\n",
    "    per_vocab_in_vocab = {}\n",
    "\n",
    "    for vocab_size in vocab_sizes:\n",
    "        # Build the tokenizer\n",
    "        if save_tokenizer:\n",
    "            tokenizer = build_tokenizer(sequences, vocab_size, bpe_tokenizer_type, save = True)\n",
    "        else: \n",
    "            tokenizer = build_tokenizer(sequences, vocab_size, bpe_tokenizer_type)\n",
    "\n",
    "        #print(sequences)\n",
    "        \n",
    "        # List of the number of unique token ids for each tokenized sequence\n",
    "        unique_lens = []\n",
    "\n",
    "        print(f\"Finding lens for {tokenizer.vocab_size}\")\n",
    "\n",
    "        for seq in tqdm(sequences):\n",
    "            # print(tokenizer.vocab)\n",
    "\n",
    "            tokenized_seq = tokenizer(\n",
    "                seq,\n",
    "                max_length=1024,\n",
    "                padding=\"max_length\",\n",
    "                truncation=True,\n",
    "                return_tensors=\"pt\",\n",
    "            )\n",
    "            # torch.unique finds all the individual tokens we USED to tokenize the sequence\n",
    "            # len finds how many individual tokens we need to tokenize the sequence\n",
    "            unique_lens.append(len(torch.unique(tokenized_seq[\"input_ids\"])))\n",
    "\n",
    "            # basic sanity check for right now\n",
    "            if len(torch.flatten(tokenized_seq[\"input_ids\"])) != 1024:\n",
    "                raise ValueError(\"input_ids length mismatch\")\n",
    "\n",
    "        # print(unique_lens)\n",
    "\n",
    "        # print(set(unique_lens))\n",
    "\n",
    "        avg_num_unique_tokens = median(unique_lens)\n",
    "\n",
    "        num_tokens_in_vocab[vocab_size] = avg_num_unique_tokens\n",
    "\n",
    "        per_vocab_in_vocab[vocab_size] = avg_num_unique_tokens / len(tokenizer.vocab)\n",
    "        # print(per_vocab_in_vocab)\n",
    "\n",
    "        del tokenizer, unique_lens, avg_num_unique_tokens\n",
    "\n",
    "    data = []\n",
    "\n",
    "    for vocab_size, per_tokens in per_vocab_in_vocab.items():\n",
    "        abs_tokens = num_tokens_in_vocab[vocab_size]\n",
    "        data.append(\n",
    "            {\n",
    "                \"vocab_size\": vocab_size,\n",
    "                \"median_tokens\": abs_tokens,\n",
    "                \"relative_tokens\": per_tokens,\n",
    "            }\n",
    "        )\n",
    "    if save_plot_data:\n",
    "        file_path = bpe_tokenizer_type + \"_experiment.json\"\n",
    "        with open(file_path, \"w\") as json_file:\n",
    "            json.dump(data, json_file, indent=2)\n",
    "\n",
    "    # fig = plt.figure()\n",
    "    # ax = fig.add_subplot(111)\n",
    "    plt.scatter(num_tokens_in_vocab.keys(), num_tokens_in_vocab.values())\n",
    "    plt.title(bpe_tokenizer_type + \" absolute median num unique tokens\")\n",
    "    plt.xlabel(\"Vocab Size\")\n",
    "    plt.ylabel(\"Num Unique Tokens Used\")\n",
    "    # for xy in zip(num_tokens_in_vocab.keys(), num_tokens_in_vocab.values()):\n",
    "    #   plt.annotate('(%.2f, %.2f)' % xy, xy=xy)\n",
    "    plt.show()\n",
    "\n",
    "    plt.scatter(per_vocab_in_vocab.keys(), per_vocab_in_vocab.values())\n",
    "    plt.title(bpe_tokenizer_type + \" relative median num unique tokens\")\n",
    "    plt.xlabel(\"Vocab Size\")\n",
    "    plt.ylabel(\"Percentage of Vocab Size Used\")\n",
    "    # for xy in zip(per_vocab_in_vocab.keys(), per_vocab_in_vocab.values()):\n",
    "    #   plt.annotate('(%.2f, %.2f)' % xy, xy=xy)\n",
    "    plt.show()"
   ]
  },
  {
   "cell_type": "code",
   "execution_count": 41,
   "metadata": {},
   "outputs": [],
   "source": [
    "max_vocab_all = 7_000"
   ]
  },
  {
   "cell_type": "code",
   "execution_count": 42,
   "metadata": {},
   "outputs": [
    {
     "name": "stdout",
     "output_type": "stream",
     "text": [
      "Training tokenizer\n",
      "\n",
      "\n",
      "\n",
      "Returning tokenizer with vocab_size = 71\n",
      "Finding lens for 71\n"
     ]
    },
    {
     "name": "stderr",
     "output_type": "stream",
     "text": [
      "100%|██████████| 36631/36631 [00:45<00:00, 804.09it/s] \n"
     ]
    },
    {
     "name": "stdout",
     "output_type": "stream",
     "text": [
      "Training tokenizer\n",
      "\n",
      "\n",
      "\n",
      "Returning tokenizer with vocab_size = 80\n",
      "Finding lens for 80\n"
     ]
    },
    {
     "name": "stderr",
     "output_type": "stream",
     "text": [
      "100%|██████████| 36631/36631 [00:39<00:00, 917.09it/s] \n"
     ]
    },
    {
     "name": "stdout",
     "output_type": "stream",
     "text": [
      "Training tokenizer\n",
      "\n",
      "\n",
      "\n",
      "Returning tokenizer with vocab_size = 100\n",
      "Finding lens for 100\n"
     ]
    },
    {
     "name": "stderr",
     "output_type": "stream",
     "text": [
      "100%|██████████| 36631/36631 [00:41<00:00, 885.97it/s] \n"
     ]
    },
    {
     "name": "stdout",
     "output_type": "stream",
     "text": [
      "Training tokenizer\n",
      "\n",
      "\n",
      "\n",
      "Returning tokenizer with vocab_size = 200\n",
      "Finding lens for 200\n"
     ]
    },
    {
     "name": "stderr",
     "output_type": "stream",
     "text": [
      "100%|██████████| 36631/36631 [00:43<00:00, 844.69it/s] \n"
     ]
    },
    {
     "name": "stdout",
     "output_type": "stream",
     "text": [
      "Training tokenizer\n",
      "\n",
      "\n",
      "\n",
      "Returning tokenizer with vocab_size = 300\n",
      "Finding lens for 300\n"
     ]
    },
    {
     "name": "stderr",
     "output_type": "stream",
     "text": [
      "100%|██████████| 36631/36631 [00:41<00:00, 891.36it/s] \n"
     ]
    },
    {
     "name": "stdout",
     "output_type": "stream",
     "text": [
      "Training tokenizer\n",
      "\n",
      "\n",
      "\n",
      "Returning tokenizer with vocab_size = 400\n",
      "Finding lens for 400\n"
     ]
    },
    {
     "name": "stderr",
     "output_type": "stream",
     "text": [
      "100%|██████████| 36631/36631 [00:44<00:00, 820.71it/s] \n"
     ]
    },
    {
     "name": "stdout",
     "output_type": "stream",
     "text": [
      "Training tokenizer\n",
      "\n",
      "\n",
      "\n",
      "Returning tokenizer with vocab_size = 500\n",
      "Finding lens for 500\n"
     ]
    },
    {
     "name": "stderr",
     "output_type": "stream",
     "text": [
      "100%|██████████| 36631/36631 [00:42<00:00, 863.88it/s] \n"
     ]
    },
    {
     "name": "stdout",
     "output_type": "stream",
     "text": [
      "Training tokenizer\n",
      "\n",
      "\n",
      "\n",
      "Returning tokenizer with vocab_size = 600\n",
      "Finding lens for 600\n"
     ]
    },
    {
     "name": "stderr",
     "output_type": "stream",
     "text": [
      "100%|██████████| 36631/36631 [00:41<00:00, 885.89it/s] \n"
     ]
    },
    {
     "name": "stdout",
     "output_type": "stream",
     "text": [
      "Training tokenizer\n",
      "\n",
      "\n",
      "\n",
      "Returning tokenizer with vocab_size = 700\n",
      "Finding lens for 700\n"
     ]
    },
    {
     "name": "stderr",
     "output_type": "stream",
     "text": [
      "100%|██████████| 36631/36631 [00:45<00:00, 807.27it/s] \n"
     ]
    },
    {
     "name": "stdout",
     "output_type": "stream",
     "text": [
      "Training tokenizer\n",
      "\n",
      "\n",
      "\n",
      "Returning tokenizer with vocab_size = 800\n",
      "Finding lens for 800\n"
     ]
    },
    {
     "name": "stderr",
     "output_type": "stream",
     "text": [
      "100%|██████████| 36631/36631 [02:22<00:00, 256.27it/s] \n"
     ]
    },
    {
     "name": "stdout",
     "output_type": "stream",
     "text": [
      "Training tokenizer\n",
      "\n",
      "\n",
      "\n",
      "Returning tokenizer with vocab_size = 900\n",
      "Finding lens for 900\n"
     ]
    },
    {
     "name": "stderr",
     "output_type": "stream",
     "text": [
      "100%|██████████| 36631/36631 [00:44<00:00, 820.15it/s] \n"
     ]
    },
    {
     "name": "stdout",
     "output_type": "stream",
     "text": [
      "Training tokenizer\n",
      "\n",
      "\n",
      "\n",
      "Returning tokenizer with vocab_size = 1000\n",
      "Finding lens for 1000\n"
     ]
    },
    {
     "name": "stderr",
     "output_type": "stream",
     "text": [
      "100%|██████████| 36631/36631 [00:48<00:00, 761.28it/s] \n"
     ]
    },
    {
     "name": "stdout",
     "output_type": "stream",
     "text": [
      "Training tokenizer\n",
      "\n",
      "\n",
      "\n",
      "Returning tokenizer with vocab_size = 1100\n",
      "Finding lens for 1100\n"
     ]
    },
    {
     "name": "stderr",
     "output_type": "stream",
     "text": [
      "100%|██████████| 36631/36631 [00:47<00:00, 770.99it/s] \n"
     ]
    },
    {
     "name": "stdout",
     "output_type": "stream",
     "text": [
      "Training tokenizer\n",
      "\n",
      "\n",
      "\n",
      "Returning tokenizer with vocab_size = 1200\n",
      "Finding lens for 1200\n"
     ]
    },
    {
     "name": "stderr",
     "output_type": "stream",
     "text": [
      "100%|██████████| 36631/36631 [00:46<00:00, 789.50it/s] \n"
     ]
    },
    {
     "name": "stdout",
     "output_type": "stream",
     "text": [
      "Training tokenizer\n",
      "\n",
      "\n",
      "\n",
      "Returning tokenizer with vocab_size = 1300\n",
      "Finding lens for 1300\n"
     ]
    },
    {
     "name": "stderr",
     "output_type": "stream",
     "text": [
      "100%|██████████| 36631/36631 [00:47<00:00, 774.93it/s] \n"
     ]
    },
    {
     "name": "stdout",
     "output_type": "stream",
     "text": [
      "Training tokenizer\n",
      "\n",
      "\n",
      "\n",
      "Returning tokenizer with vocab_size = 1400\n",
      "Finding lens for 1400\n"
     ]
    },
    {
     "name": "stderr",
     "output_type": "stream",
     "text": [
      "100%|██████████| 36631/36631 [00:41<00:00, 874.51it/s] \n"
     ]
    },
    {
     "name": "stdout",
     "output_type": "stream",
     "text": [
      "Training tokenizer\n",
      "\n",
      "\n",
      "\n",
      "Returning tokenizer with vocab_size = 1500\n",
      "Finding lens for 1500\n"
     ]
    },
    {
     "name": "stderr",
     "output_type": "stream",
     "text": [
      "100%|██████████| 36631/36631 [00:48<00:00, 749.08it/s] \n"
     ]
    },
    {
     "name": "stdout",
     "output_type": "stream",
     "text": [
      "Training tokenizer\n",
      "\n",
      "\n",
      "\n",
      "Returning tokenizer with vocab_size = 1600\n",
      "Finding lens for 1600\n"
     ]
    },
    {
     "name": "stderr",
     "output_type": "stream",
     "text": [
      "100%|██████████| 36631/36631 [00:44<00:00, 825.26it/s] \n"
     ]
    },
    {
     "name": "stdout",
     "output_type": "stream",
     "text": [
      "Training tokenizer\n",
      "\n",
      "\n",
      "\n",
      "Returning tokenizer with vocab_size = 1700\n",
      "Finding lens for 1700\n"
     ]
    },
    {
     "name": "stderr",
     "output_type": "stream",
     "text": [
      "100%|██████████| 36631/36631 [00:44<00:00, 830.50it/s] \n"
     ]
    },
    {
     "name": "stdout",
     "output_type": "stream",
     "text": [
      "Training tokenizer\n",
      "\n",
      "\n",
      "\n",
      "Returning tokenizer with vocab_size = 1800\n",
      "Finding lens for 1800\n"
     ]
    },
    {
     "name": "stderr",
     "output_type": "stream",
     "text": [
      "100%|██████████| 36631/36631 [00:46<00:00, 782.26it/s] \n"
     ]
    },
    {
     "name": "stdout",
     "output_type": "stream",
     "text": [
      "Training tokenizer\n",
      "\n",
      "\n",
      "\n",
      "Returning tokenizer with vocab_size = 1900\n",
      "Finding lens for 1900\n"
     ]
    },
    {
     "name": "stderr",
     "output_type": "stream",
     "text": [
      "100%|██████████| 36631/36631 [00:44<00:00, 826.27it/s] \n"
     ]
    },
    {
     "name": "stdout",
     "output_type": "stream",
     "text": [
      "Training tokenizer\n",
      "\n",
      "\n",
      "\n",
      "Returning tokenizer with vocab_size = 2000\n",
      "Finding lens for 2000\n"
     ]
    },
    {
     "name": "stderr",
     "output_type": "stream",
     "text": [
      "100%|██████████| 36631/36631 [00:47<00:00, 778.68it/s] \n"
     ]
    },
    {
     "name": "stdout",
     "output_type": "stream",
     "text": [
      "Training tokenizer\n",
      "\n",
      "\n",
      "\n",
      "Returning tokenizer with vocab_size = 2100\n",
      "Finding lens for 2100\n"
     ]
    },
    {
     "name": "stderr",
     "output_type": "stream",
     "text": [
      "100%|██████████| 36631/36631 [00:46<00:00, 792.25it/s] \n"
     ]
    },
    {
     "name": "stdout",
     "output_type": "stream",
     "text": [
      "Training tokenizer\n",
      "\n",
      "\n",
      "\n",
      "Returning tokenizer with vocab_size = 2200\n",
      "Finding lens for 2200\n"
     ]
    },
    {
     "name": "stderr",
     "output_type": "stream",
     "text": [
      "100%|██████████| 36631/36631 [00:49<00:00, 740.42it/s] \n"
     ]
    },
    {
     "name": "stdout",
     "output_type": "stream",
     "text": [
      "Training tokenizer\n",
      "\n",
      "\n",
      "\n",
      "Returning tokenizer with vocab_size = 2300\n",
      "Finding lens for 2300\n"
     ]
    },
    {
     "name": "stderr",
     "output_type": "stream",
     "text": [
      "100%|██████████| 36631/36631 [00:44<00:00, 822.16it/s] \n"
     ]
    },
    {
     "name": "stdout",
     "output_type": "stream",
     "text": [
      "Training tokenizer\n",
      "\n",
      "\n",
      "\n",
      "Returning tokenizer with vocab_size = 2400\n",
      "Finding lens for 2400\n"
     ]
    },
    {
     "name": "stderr",
     "output_type": "stream",
     "text": [
      "100%|██████████| 36631/36631 [00:45<00:00, 799.55it/s] \n"
     ]
    },
    {
     "name": "stdout",
     "output_type": "stream",
     "text": [
      "Training tokenizer\n",
      "\n",
      "\n",
      "\n",
      "Returning tokenizer with vocab_size = 2500\n",
      "Finding lens for 2500\n"
     ]
    },
    {
     "name": "stderr",
     "output_type": "stream",
     "text": [
      "100%|██████████| 36631/36631 [00:47<00:00, 768.89it/s] \n"
     ]
    },
    {
     "name": "stdout",
     "output_type": "stream",
     "text": [
      "Training tokenizer\n",
      "\n",
      "\n",
      "\n",
      "Returning tokenizer with vocab_size = 2600\n",
      "Finding lens for 2600\n"
     ]
    },
    {
     "name": "stderr",
     "output_type": "stream",
     "text": [
      "100%|██████████| 36631/36631 [00:46<00:00, 783.40it/s] \n"
     ]
    },
    {
     "name": "stdout",
     "output_type": "stream",
     "text": [
      "Training tokenizer\n",
      "\n",
      "\n",
      "\n",
      "Returning tokenizer with vocab_size = 2700\n",
      "Finding lens for 2700\n"
     ]
    },
    {
     "name": "stderr",
     "output_type": "stream",
     "text": [
      "100%|██████████| 36631/36631 [00:47<00:00, 772.45it/s] \n"
     ]
    },
    {
     "name": "stdout",
     "output_type": "stream",
     "text": [
      "Training tokenizer\n",
      "\n",
      "\n",
      "\n",
      "Returning tokenizer with vocab_size = 2800\n",
      "Finding lens for 2800\n"
     ]
    },
    {
     "name": "stderr",
     "output_type": "stream",
     "text": [
      "100%|██████████| 36631/36631 [00:50<00:00, 720.57it/s] \n"
     ]
    },
    {
     "name": "stdout",
     "output_type": "stream",
     "text": [
      "Training tokenizer\n",
      "\n",
      "\n",
      "\n",
      "Returning tokenizer with vocab_size = 2900\n",
      "Finding lens for 2900\n"
     ]
    },
    {
     "name": "stderr",
     "output_type": "stream",
     "text": [
      "100%|██████████| 36631/36631 [00:46<00:00, 784.12it/s] \n"
     ]
    },
    {
     "name": "stdout",
     "output_type": "stream",
     "text": [
      "Training tokenizer\n",
      "\n",
      "\n",
      "\n",
      "Returning tokenizer with vocab_size = 3000\n",
      "Finding lens for 3000\n"
     ]
    },
    {
     "name": "stderr",
     "output_type": "stream",
     "text": [
      "100%|██████████| 36631/36631 [00:47<00:00, 778.81it/s] \n"
     ]
    },
    {
     "name": "stdout",
     "output_type": "stream",
     "text": [
      "Training tokenizer\n",
      "\n",
      "\n",
      "\n",
      "Returning tokenizer with vocab_size = 3100\n",
      "Finding lens for 3100\n"
     ]
    },
    {
     "name": "stderr",
     "output_type": "stream",
     "text": [
      "100%|██████████| 36631/36631 [00:45<00:00, 812.14it/s] \n"
     ]
    },
    {
     "name": "stdout",
     "output_type": "stream",
     "text": [
      "Training tokenizer\n",
      "\n",
      "\n",
      "\n",
      "Returning tokenizer with vocab_size = 3200\n",
      "Finding lens for 3200\n"
     ]
    },
    {
     "name": "stderr",
     "output_type": "stream",
     "text": [
      "100%|██████████| 36631/36631 [00:46<00:00, 779.87it/s] \n"
     ]
    },
    {
     "name": "stdout",
     "output_type": "stream",
     "text": [
      "Training tokenizer\n",
      "\n",
      "\n",
      "\n",
      "Returning tokenizer with vocab_size = 3300\n",
      "Finding lens for 3300\n"
     ]
    },
    {
     "name": "stderr",
     "output_type": "stream",
     "text": [
      "100%|██████████| 36631/36631 [00:43<00:00, 833.95it/s] \n"
     ]
    },
    {
     "name": "stdout",
     "output_type": "stream",
     "text": [
      "Training tokenizer\n",
      "\n",
      "\n",
      "\n",
      "Returning tokenizer with vocab_size = 3400\n",
      "Finding lens for 3400\n"
     ]
    },
    {
     "name": "stderr",
     "output_type": "stream",
     "text": [
      "100%|██████████| 36631/36631 [00:46<00:00, 791.65it/s] \n"
     ]
    },
    {
     "name": "stdout",
     "output_type": "stream",
     "text": [
      "Training tokenizer\n",
      "\n",
      "\n",
      "\n",
      "Returning tokenizer with vocab_size = 3500\n",
      "Finding lens for 3500\n"
     ]
    },
    {
     "name": "stderr",
     "output_type": "stream",
     "text": [
      "100%|██████████| 36631/36631 [00:46<00:00, 781.10it/s] \n"
     ]
    },
    {
     "name": "stdout",
     "output_type": "stream",
     "text": [
      "Training tokenizer\n",
      "\n",
      "\n",
      "\n",
      "Returning tokenizer with vocab_size = 3600\n",
      "Finding lens for 3600\n"
     ]
    },
    {
     "name": "stderr",
     "output_type": "stream",
     "text": [
      "100%|██████████| 36631/36631 [00:45<00:00, 802.87it/s] \n"
     ]
    },
    {
     "name": "stdout",
     "output_type": "stream",
     "text": [
      "Training tokenizer\n",
      "\n",
      "\n",
      "\n",
      "Returning tokenizer with vocab_size = 3700\n",
      "Finding lens for 3700\n"
     ]
    },
    {
     "name": "stderr",
     "output_type": "stream",
     "text": [
      "100%|██████████| 36631/36631 [00:49<00:00, 738.18it/s] \n"
     ]
    },
    {
     "name": "stdout",
     "output_type": "stream",
     "text": [
      "Training tokenizer\n",
      "\n",
      "\n",
      "\n",
      "Returning tokenizer with vocab_size = 3800\n",
      "Finding lens for 3800\n"
     ]
    },
    {
     "name": "stderr",
     "output_type": "stream",
     "text": [
      "100%|██████████| 36631/36631 [00:45<00:00, 809.50it/s] \n"
     ]
    },
    {
     "name": "stdout",
     "output_type": "stream",
     "text": [
      "Training tokenizer\n",
      "\n",
      "\n",
      "\n",
      "Returning tokenizer with vocab_size = 3900\n",
      "Finding lens for 3900\n"
     ]
    },
    {
     "name": "stderr",
     "output_type": "stream",
     "text": [
      "100%|██████████| 36631/36631 [00:45<00:00, 811.70it/s] \n"
     ]
    },
    {
     "name": "stdout",
     "output_type": "stream",
     "text": [
      "Training tokenizer\n",
      "\n",
      "\n",
      "\n",
      "Returning tokenizer with vocab_size = 4000\n",
      "Finding lens for 4000\n"
     ]
    },
    {
     "name": "stderr",
     "output_type": "stream",
     "text": [
      "100%|██████████| 36631/36631 [00:47<00:00, 776.00it/s] \n"
     ]
    },
    {
     "name": "stdout",
     "output_type": "stream",
     "text": [
      "Training tokenizer\n",
      "\n",
      "\n",
      "\n",
      "Returning tokenizer with vocab_size = 4100\n",
      "Finding lens for 4100\n"
     ]
    },
    {
     "name": "stderr",
     "output_type": "stream",
     "text": [
      "100%|██████████| 36631/36631 [00:43<00:00, 834.73it/s] \n"
     ]
    },
    {
     "name": "stdout",
     "output_type": "stream",
     "text": [
      "Training tokenizer\n",
      "\n",
      "\n",
      "\n",
      "Returning tokenizer with vocab_size = 4200\n",
      "Finding lens for 4200\n"
     ]
    },
    {
     "name": "stderr",
     "output_type": "stream",
     "text": [
      "100%|██████████| 36631/36631 [00:48<00:00, 748.39it/s] \n"
     ]
    },
    {
     "name": "stdout",
     "output_type": "stream",
     "text": [
      "Training tokenizer\n",
      "\n",
      "\n",
      "\n",
      "Returning tokenizer with vocab_size = 4300\n",
      "Finding lens for 4300\n"
     ]
    },
    {
     "name": "stderr",
     "output_type": "stream",
     "text": [
      "100%|██████████| 36631/36631 [00:49<00:00, 746.09it/s] \n"
     ]
    },
    {
     "name": "stdout",
     "output_type": "stream",
     "text": [
      "Training tokenizer\n",
      "\n",
      "\n",
      "\n",
      "Returning tokenizer with vocab_size = 4400\n",
      "Finding lens for 4400\n"
     ]
    },
    {
     "name": "stderr",
     "output_type": "stream",
     "text": [
      "100%|██████████| 36631/36631 [00:47<00:00, 773.77it/s] \n"
     ]
    },
    {
     "name": "stdout",
     "output_type": "stream",
     "text": [
      "Training tokenizer\n",
      "\n",
      "\n",
      "\n",
      "Returning tokenizer with vocab_size = 4500\n",
      "Finding lens for 4500\n"
     ]
    },
    {
     "name": "stderr",
     "output_type": "stream",
     "text": [
      "100%|██████████| 36631/36631 [00:46<00:00, 780.77it/s] \n"
     ]
    },
    {
     "name": "stdout",
     "output_type": "stream",
     "text": [
      "Training tokenizer\n",
      "\n",
      "\n",
      "\n",
      "Returning tokenizer with vocab_size = 4600\n",
      "Finding lens for 4600\n"
     ]
    },
    {
     "name": "stderr",
     "output_type": "stream",
     "text": [
      "100%|██████████| 36631/36631 [00:47<00:00, 774.94it/s] \n"
     ]
    },
    {
     "name": "stdout",
     "output_type": "stream",
     "text": [
      "Training tokenizer\n",
      "\n",
      "\n",
      "\n",
      "Returning tokenizer with vocab_size = 4700\n",
      "Finding lens for 4700\n"
     ]
    },
    {
     "name": "stderr",
     "output_type": "stream",
     "text": [
      "100%|██████████| 36631/36631 [00:47<00:00, 776.89it/s] \n"
     ]
    },
    {
     "name": "stdout",
     "output_type": "stream",
     "text": [
      "Training tokenizer\n",
      "\n",
      "\n",
      "\n",
      "Returning tokenizer with vocab_size = 4800\n",
      "Finding lens for 4800\n"
     ]
    },
    {
     "name": "stderr",
     "output_type": "stream",
     "text": [
      "100%|██████████| 36631/36631 [00:47<00:00, 775.57it/s] \n"
     ]
    },
    {
     "name": "stdout",
     "output_type": "stream",
     "text": [
      "Training tokenizer\n",
      "\n",
      "\n",
      "\n",
      "Returning tokenizer with vocab_size = 4900\n",
      "Finding lens for 4900\n"
     ]
    },
    {
     "name": "stderr",
     "output_type": "stream",
     "text": [
      "100%|██████████| 36631/36631 [00:45<00:00, 804.42it/s] \n"
     ]
    },
    {
     "name": "stdout",
     "output_type": "stream",
     "text": [
      "Training tokenizer\n",
      "\n",
      "\n",
      "\n",
      "Returning tokenizer with vocab_size = 5000\n",
      "Finding lens for 5000\n"
     ]
    },
    {
     "name": "stderr",
     "output_type": "stream",
     "text": [
      "100%|██████████| 36631/36631 [00:46<00:00, 793.29it/s] \n"
     ]
    },
    {
     "name": "stdout",
     "output_type": "stream",
     "text": [
      "Training tokenizer\n",
      "\n",
      "\n",
      "\n",
      "Returning tokenizer with vocab_size = 5100\n",
      "Finding lens for 5100\n"
     ]
    },
    {
     "name": "stderr",
     "output_type": "stream",
     "text": [
      "100%|██████████| 36631/36631 [00:44<00:00, 818.11it/s] \n"
     ]
    },
    {
     "name": "stdout",
     "output_type": "stream",
     "text": [
      "Training tokenizer\n",
      "\n",
      "\n",
      "\n",
      "Returning tokenizer with vocab_size = 5200\n",
      "Finding lens for 5200\n"
     ]
    },
    {
     "name": "stderr",
     "output_type": "stream",
     "text": [
      "100%|██████████| 36631/36631 [00:47<00:00, 778.83it/s] \n"
     ]
    },
    {
     "name": "stdout",
     "output_type": "stream",
     "text": [
      "Training tokenizer\n",
      "\n",
      "\n",
      "\n",
      "Returning tokenizer with vocab_size = 5300\n",
      "Finding lens for 5300\n"
     ]
    },
    {
     "name": "stderr",
     "output_type": "stream",
     "text": [
      "100%|██████████| 36631/36631 [00:48<00:00, 759.34it/s] \n"
     ]
    },
    {
     "name": "stdout",
     "output_type": "stream",
     "text": [
      "Training tokenizer\n",
      "\n",
      "\n",
      "\n",
      "Returning tokenizer with vocab_size = 5400\n",
      "Finding lens for 5400\n"
     ]
    },
    {
     "name": "stderr",
     "output_type": "stream",
     "text": [
      "100%|██████████| 36631/36631 [00:48<00:00, 751.11it/s] \n"
     ]
    },
    {
     "name": "stdout",
     "output_type": "stream",
     "text": [
      "Training tokenizer\n",
      "\n",
      "\n",
      "\n",
      "Returning tokenizer with vocab_size = 5500\n",
      "Finding lens for 5500\n"
     ]
    },
    {
     "name": "stderr",
     "output_type": "stream",
     "text": [
      "100%|██████████| 36631/36631 [00:46<00:00, 784.39it/s] \n"
     ]
    },
    {
     "name": "stdout",
     "output_type": "stream",
     "text": [
      "Training tokenizer\n",
      "\n",
      "\n",
      "\n",
      "Returning tokenizer with vocab_size = 5600\n",
      "Finding lens for 5600\n"
     ]
    },
    {
     "name": "stderr",
     "output_type": "stream",
     "text": [
      "100%|██████████| 36631/36631 [00:47<00:00, 765.27it/s] \n"
     ]
    },
    {
     "name": "stdout",
     "output_type": "stream",
     "text": [
      "Training tokenizer\n",
      "\n",
      "\n",
      "\n",
      "Returning tokenizer with vocab_size = 5700\n",
      "Finding lens for 5700\n"
     ]
    },
    {
     "name": "stderr",
     "output_type": "stream",
     "text": [
      "100%|██████████| 36631/36631 [00:47<00:00, 777.31it/s] \n"
     ]
    },
    {
     "name": "stdout",
     "output_type": "stream",
     "text": [
      "Training tokenizer\n",
      "\n",
      "\n",
      "\n",
      "Returning tokenizer with vocab_size = 5800\n",
      "Finding lens for 5800\n"
     ]
    },
    {
     "name": "stderr",
     "output_type": "stream",
     "text": [
      "100%|██████████| 36631/36631 [00:47<00:00, 777.25it/s] \n"
     ]
    },
    {
     "name": "stdout",
     "output_type": "stream",
     "text": [
      "Training tokenizer\n",
      "\n",
      "\n",
      "\n",
      "Returning tokenizer with vocab_size = 5900\n",
      "Finding lens for 5900\n"
     ]
    },
    {
     "name": "stderr",
     "output_type": "stream",
     "text": [
      "100%|██████████| 36631/36631 [00:45<00:00, 811.41it/s] \n"
     ]
    },
    {
     "name": "stdout",
     "output_type": "stream",
     "text": [
      "Training tokenizer\n",
      "\n",
      "\n",
      "\n",
      "Returning tokenizer with vocab_size = 6000\n",
      "Finding lens for 6000\n"
     ]
    },
    {
     "name": "stderr",
     "output_type": "stream",
     "text": [
      "100%|██████████| 36631/36631 [00:47<00:00, 771.75it/s] \n"
     ]
    },
    {
     "name": "stdout",
     "output_type": "stream",
     "text": [
      "Training tokenizer\n",
      "\n",
      "\n",
      "\n",
      "Returning tokenizer with vocab_size = 6100\n",
      "Finding lens for 6100\n"
     ]
    },
    {
     "name": "stderr",
     "output_type": "stream",
     "text": [
      "100%|██████████| 36631/36631 [00:44<00:00, 817.05it/s] \n"
     ]
    },
    {
     "name": "stdout",
     "output_type": "stream",
     "text": [
      "Training tokenizer\n",
      "\n",
      "\n",
      "\n",
      "Returning tokenizer with vocab_size = 6200\n",
      "Finding lens for 6200\n"
     ]
    },
    {
     "name": "stderr",
     "output_type": "stream",
     "text": [
      "100%|██████████| 36631/36631 [00:49<00:00, 742.17it/s] \n"
     ]
    },
    {
     "name": "stdout",
     "output_type": "stream",
     "text": [
      "Training tokenizer\n",
      "\n",
      "\n",
      "\n",
      "Returning tokenizer with vocab_size = 6300\n",
      "Finding lens for 6300\n"
     ]
    },
    {
     "name": "stderr",
     "output_type": "stream",
     "text": [
      "100%|██████████| 36631/36631 [00:46<00:00, 781.19it/s] \n"
     ]
    },
    {
     "name": "stdout",
     "output_type": "stream",
     "text": [
      "Training tokenizer\n",
      "\n",
      "\n",
      "\n",
      "Returning tokenizer with vocab_size = 6400\n",
      "Finding lens for 6400\n"
     ]
    },
    {
     "name": "stderr",
     "output_type": "stream",
     "text": [
      "100%|██████████| 36631/36631 [00:44<00:00, 817.00it/s] \n"
     ]
    },
    {
     "name": "stdout",
     "output_type": "stream",
     "text": [
      "Training tokenizer\n",
      "\n",
      "\n",
      "\n",
      "Returning tokenizer with vocab_size = 6500\n",
      "Finding lens for 6500\n"
     ]
    },
    {
     "name": "stderr",
     "output_type": "stream",
     "text": [
      "100%|██████████| 36631/36631 [00:46<00:00, 779.98it/s] \n"
     ]
    },
    {
     "name": "stdout",
     "output_type": "stream",
     "text": [
      "Training tokenizer\n",
      "\n",
      "\n",
      "\n",
      "Returning tokenizer with vocab_size = 6600\n",
      "Finding lens for 6600\n"
     ]
    },
    {
     "name": "stderr",
     "output_type": "stream",
     "text": [
      "100%|██████████| 36631/36631 [00:49<00:00, 735.00it/s] \n"
     ]
    },
    {
     "name": "stdout",
     "output_type": "stream",
     "text": [
      "Training tokenizer\n",
      "\n",
      "\n",
      "\n",
      "Returning tokenizer with vocab_size = 6700\n",
      "Finding lens for 6700\n"
     ]
    },
    {
     "name": "stderr",
     "output_type": "stream",
     "text": [
      "100%|██████████| 36631/36631 [00:47<00:00, 779.26it/s] \n"
     ]
    },
    {
     "name": "stdout",
     "output_type": "stream",
     "text": [
      "Training tokenizer\n",
      "\n",
      "\n",
      "\n",
      "Returning tokenizer with vocab_size = 6800\n",
      "Finding lens for 6800\n"
     ]
    },
    {
     "name": "stderr",
     "output_type": "stream",
     "text": [
      "100%|██████████| 36631/36631 [00:47<00:00, 774.15it/s] \n"
     ]
    },
    {
     "name": "stdout",
     "output_type": "stream",
     "text": [
      "Training tokenizer\n",
      "\n",
      "\n",
      "\n",
      "Returning tokenizer with vocab_size = 6900\n",
      "Finding lens for 6900\n"
     ]
    },
    {
     "name": "stderr",
     "output_type": "stream",
     "text": [
      "100%|██████████| 36631/36631 [00:50<00:00, 728.58it/s] \n"
     ]
    },
    {
     "name": "stdout",
     "output_type": "stream",
     "text": [
      "Training tokenizer\n",
      "\n",
      "\n",
      "\n",
      "Returning tokenizer with vocab_size = 7000\n",
      "Finding lens for 7000\n"
     ]
    },
    {
     "name": "stderr",
     "output_type": "stream",
     "text": [
      "100%|██████████| 36631/36631 [00:45<00:00, 812.22it/s] \n"
     ]
    },
    {
     "data": {
      "image/png": "[encoded data removed]",
      "text/plain": [
       "<Figure size 640x480 with 1 Axes>"
      ]
     },
     "metadata": {},
     "output_type": "display_data"
    },
    {
     "data": {
      "image/png": "[encoded data removed]",
      "text/plain": [
       "<Figure size 640x480 with 1 Axes>"
      ]
     },
     "metadata": {},
     "output_type": "display_data"
    }
   ],
   "source": [
    "# CPE: [64, 80, 100, 200, 300, 400, ... , 3000]\n",
    "cpe_vocab_sizes = [71, 80]\n",
    "cpe_vocab_sizes.extend(iter(range(100, max_vocab_all + 1, 100)))\n",
    "\n",
    "plot_vocab_lens(\n",
    "    sequence_fasta_file=\"/home/couchbucks/Documents/saketh/cpe/cpe/data/datasets/mdh_natural_dataset.fasta\", \n",
    "    vocab_sizes=cpe_vocab_sizes,\n",
    "    bpe_tokenizer_type=\"cpe_tokenizer\",\n",
    "    save_tokenizer = True, \n",
    "    save_plot_data = False\n",
    ")"
   ]
  },
  {
   "cell_type": "code",
   "execution_count": 43,
   "metadata": {},
   "outputs": [
    {
     "name": "stdout",
     "output_type": "stream",
     "text": [
      "Training tokenizer\n",
      "\n",
      "\n",
      "\n",
      "Returning tokenizer with vocab_size = 71\n",
      "Finding lens for 71\n"
     ]
    },
    {
     "name": "stderr",
     "output_type": "stream",
     "text": [
      "100%|██████████| 36631/36631 [00:44<00:00, 827.25it/s] \n"
     ]
    },
    {
     "name": "stdout",
     "output_type": "stream",
     "text": [
      "Training tokenizer\n",
      "\n",
      "\n",
      "\n",
      "Returning tokenizer with vocab_size = 80\n",
      "Finding lens for 80\n"
     ]
    },
    {
     "name": "stderr",
     "output_type": "stream",
     "text": [
      "100%|██████████| 36631/36631 [00:42<00:00, 870.46it/s] \n"
     ]
    },
    {
     "name": "stdout",
     "output_type": "stream",
     "text": [
      "Training tokenizer\n",
      "\n",
      "\n",
      "\n",
      "Returning tokenizer with vocab_size = 100\n",
      "Finding lens for 100\n"
     ]
    },
    {
     "name": "stderr",
     "output_type": "stream",
     "text": [
      "100%|██████████| 36631/36631 [00:44<00:00, 823.54it/s] \n"
     ]
    },
    {
     "name": "stdout",
     "output_type": "stream",
     "text": [
      "Training tokenizer\n",
      "\n",
      "\n",
      "\n",
      "Returning tokenizer with vocab_size = 200\n",
      "Finding lens for 200\n"
     ]
    },
    {
     "name": "stderr",
     "output_type": "stream",
     "text": [
      "100%|██████████| 36631/36631 [00:43<00:00, 849.84it/s] \n"
     ]
    },
    {
     "name": "stdout",
     "output_type": "stream",
     "text": [
      "Training tokenizer\n",
      "\n",
      "\n",
      "\n",
      "Returning tokenizer with vocab_size = 300\n",
      "Finding lens for 300\n"
     ]
    },
    {
     "name": "stderr",
     "output_type": "stream",
     "text": [
      "100%|██████████| 36631/36631 [00:46<00:00, 794.42it/s] \n"
     ]
    },
    {
     "name": "stdout",
     "output_type": "stream",
     "text": [
      "Training tokenizer\n",
      "\n",
      "\n",
      "\n",
      "Returning tokenizer with vocab_size = 400\n",
      "Finding lens for 400\n"
     ]
    },
    {
     "name": "stderr",
     "output_type": "stream",
     "text": [
      "100%|██████████| 36631/36631 [00:43<00:00, 834.37it/s] \n"
     ]
    },
    {
     "name": "stdout",
     "output_type": "stream",
     "text": [
      "Training tokenizer\n",
      "\n",
      "\n",
      "\n",
      "Returning tokenizer with vocab_size = 500\n",
      "Finding lens for 500\n"
     ]
    },
    {
     "name": "stderr",
     "output_type": "stream",
     "text": [
      "100%|██████████| 36631/36631 [00:42<00:00, 862.91it/s] \n"
     ]
    },
    {
     "name": "stdout",
     "output_type": "stream",
     "text": [
      "Training tokenizer\n",
      "\n",
      "\n",
      "\n",
      "Returning tokenizer with vocab_size = 600\n",
      "Finding lens for 600\n"
     ]
    },
    {
     "name": "stderr",
     "output_type": "stream",
     "text": [
      "100%|██████████| 36631/36631 [00:44<00:00, 815.21it/s] \n"
     ]
    },
    {
     "name": "stdout",
     "output_type": "stream",
     "text": [
      "Training tokenizer\n",
      "\n",
      "\n",
      "\n",
      "Returning tokenizer with vocab_size = 700\n",
      "Finding lens for 700\n"
     ]
    },
    {
     "name": "stderr",
     "output_type": "stream",
     "text": [
      "100%|██████████| 36631/36631 [00:41<00:00, 872.40it/s] \n"
     ]
    },
    {
     "name": "stdout",
     "output_type": "stream",
     "text": [
      "Training tokenizer\n",
      "\n",
      "\n",
      "\n",
      "Returning tokenizer with vocab_size = 800\n",
      "Finding lens for 800\n"
     ]
    },
    {
     "name": "stderr",
     "output_type": "stream",
     "text": [
      "100%|██████████| 36631/36631 [00:43<00:00, 832.85it/s] \n"
     ]
    },
    {
     "name": "stdout",
     "output_type": "stream",
     "text": [
      "Training tokenizer\n",
      "\n",
      "\n",
      "\n",
      "Returning tokenizer with vocab_size = 900\n",
      "Finding lens for 900\n"
     ]
    },
    {
     "name": "stderr",
     "output_type": "stream",
     "text": [
      "100%|██████████| 36631/36631 [00:42<00:00, 864.76it/s] \n"
     ]
    },
    {
     "name": "stdout",
     "output_type": "stream",
     "text": [
      "Training tokenizer\n",
      "\n",
      "\n",
      "\n",
      "Returning tokenizer with vocab_size = 1000\n",
      "Finding lens for 1000\n"
     ]
    },
    {
     "name": "stderr",
     "output_type": "stream",
     "text": [
      "100%|██████████| 36631/36631 [00:42<00:00, 852.14it/s] \n"
     ]
    },
    {
     "name": "stdout",
     "output_type": "stream",
     "text": [
      "Training tokenizer\n",
      "\n",
      "\n",
      "\n",
      "Returning tokenizer with vocab_size = 1100\n",
      "Finding lens for 1100\n"
     ]
    },
    {
     "name": "stderr",
     "output_type": "stream",
     "text": [
      "100%|██████████| 36631/36631 [00:43<00:00, 850.19it/s] \n"
     ]
    },
    {
     "name": "stdout",
     "output_type": "stream",
     "text": [
      "Training tokenizer\n",
      "\n",
      "\n",
      "\n",
      "Returning tokenizer with vocab_size = 1200\n",
      "Finding lens for 1200\n"
     ]
    },
    {
     "name": "stderr",
     "output_type": "stream",
     "text": [
      "100%|██████████| 36631/36631 [00:44<00:00, 829.39it/s] \n"
     ]
    },
    {
     "name": "stdout",
     "output_type": "stream",
     "text": [
      "Training tokenizer\n",
      "\n",
      "\n",
      "\n",
      "Returning tokenizer with vocab_size = 1300\n",
      "Finding lens for 1300\n"
     ]
    },
    {
     "name": "stderr",
     "output_type": "stream",
     "text": [
      "100%|██████████| 36631/36631 [00:44<00:00, 831.70it/s] \n"
     ]
    },
    {
     "name": "stdout",
     "output_type": "stream",
     "text": [
      "Training tokenizer\n",
      "\n",
      "\n",
      "\n",
      "Returning tokenizer with vocab_size = 1400\n",
      "Finding lens for 1400\n"
     ]
    },
    {
     "name": "stderr",
     "output_type": "stream",
     "text": [
      "100%|██████████| 36631/36631 [00:47<00:00, 778.03it/s] \n"
     ]
    },
    {
     "name": "stdout",
     "output_type": "stream",
     "text": [
      "Training tokenizer\n",
      "\n",
      "\n",
      "\n",
      "Returning tokenizer with vocab_size = 1500\n",
      "Finding lens for 1500\n"
     ]
    },
    {
     "name": "stderr",
     "output_type": "stream",
     "text": [
      "100%|██████████| 36631/36631 [00:44<00:00, 824.95it/s] \n"
     ]
    },
    {
     "name": "stdout",
     "output_type": "stream",
     "text": [
      "Training tokenizer\n",
      "\n",
      "\n",
      "\n",
      "Returning tokenizer with vocab_size = 1600\n",
      "Finding lens for 1600\n"
     ]
    },
    {
     "name": "stderr",
     "output_type": "stream",
     "text": [
      "100%|██████████| 36631/36631 [00:46<00:00, 779.98it/s] \n"
     ]
    },
    {
     "name": "stdout",
     "output_type": "stream",
     "text": [
      "Training tokenizer\n",
      "\n",
      "\n",
      "\n",
      "Returning tokenizer with vocab_size = 1700\n",
      "Finding lens for 1700\n"
     ]
    },
    {
     "name": "stderr",
     "output_type": "stream",
     "text": [
      "100%|██████████| 36631/36631 [00:45<00:00, 811.43it/s] \n"
     ]
    },
    {
     "name": "stdout",
     "output_type": "stream",
     "text": [
      "Training tokenizer\n",
      "\n",
      "\n",
      "\n",
      "Returning tokenizer with vocab_size = 1800\n",
      "Finding lens for 1800\n"
     ]
    },
    {
     "name": "stderr",
     "output_type": "stream",
     "text": [
      "100%|██████████| 36631/36631 [00:43<00:00, 832.73it/s] \n"
     ]
    },
    {
     "name": "stdout",
     "output_type": "stream",
     "text": [
      "Training tokenizer\n",
      "\n",
      "\n",
      "\n",
      "Returning tokenizer with vocab_size = 1900\n",
      "Finding lens for 1900\n"
     ]
    },
    {
     "name": "stderr",
     "output_type": "stream",
     "text": [
      "100%|██████████| 36631/36631 [00:42<00:00, 856.96it/s] \n"
     ]
    },
    {
     "name": "stdout",
     "output_type": "stream",
     "text": [
      "Training tokenizer\n",
      "\n",
      "\n",
      "\n",
      "Returning tokenizer with vocab_size = 2000\n",
      "Finding lens for 2000\n"
     ]
    },
    {
     "name": "stderr",
     "output_type": "stream",
     "text": [
      "100%|██████████| 36631/36631 [00:45<00:00, 808.71it/s] \n"
     ]
    },
    {
     "name": "stdout",
     "output_type": "stream",
     "text": [
      "Training tokenizer\n",
      "\n",
      "\n",
      "\n",
      "Returning tokenizer with vocab_size = 2100\n",
      "Finding lens for 2100\n"
     ]
    },
    {
     "name": "stderr",
     "output_type": "stream",
     "text": [
      "100%|██████████| 36631/36631 [00:42<00:00, 871.61it/s] \n"
     ]
    },
    {
     "name": "stdout",
     "output_type": "stream",
     "text": [
      "Training tokenizer\n",
      "\n",
      "\n",
      "\n",
      "Returning tokenizer with vocab_size = 2200\n",
      "Finding lens for 2200\n"
     ]
    },
    {
     "name": "stderr",
     "output_type": "stream",
     "text": [
      "100%|██████████| 36631/36631 [00:44<00:00, 816.36it/s] \n"
     ]
    },
    {
     "name": "stdout",
     "output_type": "stream",
     "text": [
      "Training tokenizer\n",
      "\n",
      "\n",
      "\n",
      "Returning tokenizer with vocab_size = 2300\n",
      "Finding lens for 2300\n"
     ]
    },
    {
     "name": "stderr",
     "output_type": "stream",
     "text": [
      "100%|██████████| 36631/36631 [00:47<00:00, 772.81it/s] \n"
     ]
    },
    {
     "name": "stdout",
     "output_type": "stream",
     "text": [
      "Training tokenizer\n",
      "\n",
      "\n",
      "\n",
      "Returning tokenizer with vocab_size = 2400\n",
      "Finding lens for 2400\n"
     ]
    },
    {
     "name": "stderr",
     "output_type": "stream",
     "text": [
      "100%|██████████| 36631/36631 [00:47<00:00, 767.72it/s] \n"
     ]
    },
    {
     "name": "stdout",
     "output_type": "stream",
     "text": [
      "Training tokenizer\n",
      "\n",
      "\n",
      "\n",
      "Returning tokenizer with vocab_size = 2500\n",
      "Finding lens for 2500\n"
     ]
    },
    {
     "name": "stderr",
     "output_type": "stream",
     "text": [
      "100%|██████████| 36631/36631 [00:45<00:00, 801.06it/s] \n"
     ]
    },
    {
     "name": "stdout",
     "output_type": "stream",
     "text": [
      "Training tokenizer\n",
      "\n",
      "\n",
      "\n",
      "Returning tokenizer with vocab_size = 2600\n",
      "Finding lens for 2600\n"
     ]
    },
    {
     "name": "stderr",
     "output_type": "stream",
     "text": [
      "100%|██████████| 36631/36631 [00:45<00:00, 804.24it/s] \n"
     ]
    },
    {
     "name": "stdout",
     "output_type": "stream",
     "text": [
      "Training tokenizer\n",
      "\n",
      "\n",
      "\n",
      "Returning tokenizer with vocab_size = 2700\n",
      "Finding lens for 2700\n"
     ]
    },
    {
     "name": "stderr",
     "output_type": "stream",
     "text": [
      "100%|██████████| 36631/36631 [00:45<00:00, 801.69it/s] \n"
     ]
    },
    {
     "name": "stdout",
     "output_type": "stream",
     "text": [
      "Training tokenizer\n",
      "\n",
      "\n",
      "\n",
      "Returning tokenizer with vocab_size = 2800\n",
      "Finding lens for 2800\n"
     ]
    },
    {
     "name": "stderr",
     "output_type": "stream",
     "text": [
      "100%|██████████| 36631/36631 [00:47<00:00, 764.66it/s] \n"
     ]
    },
    {
     "name": "stdout",
     "output_type": "stream",
     "text": [
      "Training tokenizer\n",
      "\n",
      "\n",
      "\n",
      "Returning tokenizer with vocab_size = 2900\n",
      "Finding lens for 2900\n"
     ]
    },
    {
     "name": "stderr",
     "output_type": "stream",
     "text": [
      "100%|██████████| 36631/36631 [00:43<00:00, 843.34it/s] \n"
     ]
    },
    {
     "name": "stdout",
     "output_type": "stream",
     "text": [
      "Training tokenizer\n",
      "\n",
      "\n",
      "\n",
      "Returning tokenizer with vocab_size = 3000\n",
      "Finding lens for 3000\n"
     ]
    },
    {
     "name": "stderr",
     "output_type": "stream",
     "text": [
      "100%|██████████| 36631/36631 [00:46<00:00, 789.43it/s] \n"
     ]
    },
    {
     "name": "stdout",
     "output_type": "stream",
     "text": [
      "Training tokenizer\n",
      "\n",
      "\n",
      "\n",
      "Returning tokenizer with vocab_size = 3100\n",
      "Finding lens for 3100\n"
     ]
    },
    {
     "name": "stderr",
     "output_type": "stream",
     "text": [
      "100%|██████████| 36631/36631 [00:45<00:00, 805.29it/s] \n"
     ]
    },
    {
     "name": "stdout",
     "output_type": "stream",
     "text": [
      "Training tokenizer\n",
      "\n",
      "\n",
      "\n",
      "Returning tokenizer with vocab_size = 3200\n",
      "Finding lens for 3200\n"
     ]
    },
    {
     "name": "stderr",
     "output_type": "stream",
     "text": [
      "100%|██████████| 36631/36631 [00:44<00:00, 821.91it/s] \n"
     ]
    },
    {
     "name": "stdout",
     "output_type": "stream",
     "text": [
      "Training tokenizer\n",
      "\n",
      "\n",
      "\n",
      "Returning tokenizer with vocab_size = 3300\n",
      "Finding lens for 3300\n"
     ]
    },
    {
     "name": "stderr",
     "output_type": "stream",
     "text": [
      "100%|██████████| 36631/36631 [00:43<00:00, 832.67it/s] \n"
     ]
    },
    {
     "name": "stdout",
     "output_type": "stream",
     "text": [
      "Training tokenizer\n",
      "\n",
      "\n",
      "\n",
      "Returning tokenizer with vocab_size = 3400\n",
      "Finding lens for 3400\n"
     ]
    },
    {
     "name": "stderr",
     "output_type": "stream",
     "text": [
      "100%|██████████| 36631/36631 [00:46<00:00, 785.56it/s] \n"
     ]
    },
    {
     "name": "stdout",
     "output_type": "stream",
     "text": [
      "Training tokenizer\n",
      "\n",
      "\n",
      "\n",
      "Returning tokenizer with vocab_size = 3500\n",
      "Finding lens for 3500\n"
     ]
    },
    {
     "name": "stderr",
     "output_type": "stream",
     "text": [
      "100%|██████████| 36631/36631 [00:44<00:00, 818.33it/s] \n"
     ]
    },
    {
     "name": "stdout",
     "output_type": "stream",
     "text": [
      "Training tokenizer\n",
      "\n",
      "\n",
      "\n",
      "Returning tokenizer with vocab_size = 3600\n",
      "Finding lens for 3600\n"
     ]
    },
    {
     "name": "stderr",
     "output_type": "stream",
     "text": [
      "100%|██████████| 36631/36631 [00:45<00:00, 802.94it/s] \n"
     ]
    },
    {
     "name": "stdout",
     "output_type": "stream",
     "text": [
      "Training tokenizer\n",
      "\n",
      "\n",
      "\n",
      "Returning tokenizer with vocab_size = 3700\n",
      "Finding lens for 3700\n"
     ]
    },
    {
     "name": "stderr",
     "output_type": "stream",
     "text": [
      "100%|██████████| 36631/36631 [00:42<00:00, 854.85it/s] \n"
     ]
    },
    {
     "name": "stdout",
     "output_type": "stream",
     "text": [
      "Training tokenizer\n",
      "\n",
      "\n",
      "\n",
      "Returning tokenizer with vocab_size = 3800\n",
      "Finding lens for 3800\n"
     ]
    },
    {
     "name": "stderr",
     "output_type": "stream",
     "text": [
      "100%|██████████| 36631/36631 [00:43<00:00, 838.21it/s] \n"
     ]
    },
    {
     "name": "stdout",
     "output_type": "stream",
     "text": [
      "Training tokenizer\n",
      "\n",
      "\n",
      "\n",
      "Returning tokenizer with vocab_size = 3900\n",
      "Finding lens for 3900\n"
     ]
    },
    {
     "name": "stderr",
     "output_type": "stream",
     "text": [
      "100%|██████████| 36631/36631 [00:47<00:00, 766.91it/s] \n"
     ]
    },
    {
     "name": "stdout",
     "output_type": "stream",
     "text": [
      "Training tokenizer\n",
      "\n",
      "\n",
      "\n",
      "Returning tokenizer with vocab_size = 4000\n",
      "Finding lens for 4000\n"
     ]
    },
    {
     "name": "stderr",
     "output_type": "stream",
     "text": [
      "100%|██████████| 36631/36631 [00:45<00:00, 802.13it/s] \n"
     ]
    },
    {
     "name": "stdout",
     "output_type": "stream",
     "text": [
      "Training tokenizer\n",
      "\n",
      "\n",
      "\n",
      "Returning tokenizer with vocab_size = 4100\n",
      "Finding lens for 4100\n"
     ]
    },
    {
     "name": "stderr",
     "output_type": "stream",
     "text": [
      "100%|██████████| 36631/36631 [00:44<00:00, 824.91it/s] \n"
     ]
    },
    {
     "name": "stdout",
     "output_type": "stream",
     "text": [
      "Training tokenizer\n",
      "\n",
      "\n",
      "\n",
      "Returning tokenizer with vocab_size = 4200\n",
      "Finding lens for 4200\n"
     ]
    },
    {
     "name": "stderr",
     "output_type": "stream",
     "text": [
      "100%|██████████| 36631/36631 [00:48<00:00, 760.44it/s] \n"
     ]
    },
    {
     "name": "stdout",
     "output_type": "stream",
     "text": [
      "Training tokenizer\n",
      "\n",
      "\n",
      "\n",
      "Returning tokenizer with vocab_size = 4300\n",
      "Finding lens for 4300\n"
     ]
    },
    {
     "name": "stderr",
     "output_type": "stream",
     "text": [
      "100%|██████████| 36631/36631 [00:45<00:00, 800.35it/s] \n"
     ]
    },
    {
     "name": "stdout",
     "output_type": "stream",
     "text": [
      "Training tokenizer\n",
      "\n",
      "\n",
      "\n",
      "Returning tokenizer with vocab_size = 4400\n",
      "Finding lens for 4400\n"
     ]
    },
    {
     "name": "stderr",
     "output_type": "stream",
     "text": [
      "100%|██████████| 36631/36631 [00:45<00:00, 807.41it/s] \n"
     ]
    },
    {
     "name": "stdout",
     "output_type": "stream",
     "text": [
      "Training tokenizer\n",
      "\n",
      "\n",
      "\n",
      "Returning tokenizer with vocab_size = 4500\n",
      "Finding lens for 4500\n"
     ]
    },
    {
     "name": "stderr",
     "output_type": "stream",
     "text": [
      "100%|██████████| 36631/36631 [00:46<00:00, 794.40it/s] \n"
     ]
    },
    {
     "name": "stdout",
     "output_type": "stream",
     "text": [
      "Training tokenizer\n",
      "\n",
      "\n",
      "\n",
      "Returning tokenizer with vocab_size = 4600\n",
      "Finding lens for 4600\n"
     ]
    },
    {
     "name": "stderr",
     "output_type": "stream",
     "text": [
      "100%|██████████| 36631/36631 [00:47<00:00, 773.58it/s] \n"
     ]
    },
    {
     "name": "stdout",
     "output_type": "stream",
     "text": [
      "Training tokenizer\n",
      "\n",
      "\n",
      "\n",
      "Returning tokenizer with vocab_size = 4700\n",
      "Finding lens for 4700\n"
     ]
    },
    {
     "name": "stderr",
     "output_type": "stream",
     "text": [
      "100%|██████████| 36631/36631 [00:44<00:00, 814.62it/s] \n"
     ]
    },
    {
     "name": "stdout",
     "output_type": "stream",
     "text": [
      "Training tokenizer\n",
      "\n",
      "\n",
      "\n",
      "Returning tokenizer with vocab_size = 4800\n",
      "Finding lens for 4800\n"
     ]
    },
    {
     "name": "stderr",
     "output_type": "stream",
     "text": [
      "100%|██████████| 36631/36631 [00:46<00:00, 791.27it/s] \n"
     ]
    },
    {
     "name": "stdout",
     "output_type": "stream",
     "text": [
      "Training tokenizer\n",
      "\n",
      "\n",
      "\n",
      "Returning tokenizer with vocab_size = 4900\n",
      "Finding lens for 4900\n"
     ]
    },
    {
     "name": "stderr",
     "output_type": "stream",
     "text": [
      "100%|██████████| 36631/36631 [00:44<00:00, 817.55it/s] \n"
     ]
    },
    {
     "name": "stdout",
     "output_type": "stream",
     "text": [
      "Training tokenizer\n",
      "\n",
      "\n",
      "\n",
      "Returning tokenizer with vocab_size = 5000\n",
      "Finding lens for 5000\n"
     ]
    },
    {
     "name": "stderr",
     "output_type": "stream",
     "text": [
      "100%|██████████| 36631/36631 [00:45<00:00, 804.09it/s] \n"
     ]
    },
    {
     "name": "stdout",
     "output_type": "stream",
     "text": [
      "Training tokenizer\n",
      "\n",
      "\n",
      "\n",
      "Returning tokenizer with vocab_size = 5100\n",
      "Finding lens for 5100\n"
     ]
    },
    {
     "name": "stderr",
     "output_type": "stream",
     "text": [
      "100%|██████████| 36631/36631 [00:45<00:00, 809.10it/s] \n"
     ]
    },
    {
     "name": "stdout",
     "output_type": "stream",
     "text": [
      "Training tokenizer\n",
      "\n",
      "\n",
      "\n",
      "Returning tokenizer with vocab_size = 5200\n",
      "Finding lens for 5200\n"
     ]
    },
    {
     "name": "stderr",
     "output_type": "stream",
     "text": [
      "100%|██████████| 36631/36631 [00:45<00:00, 799.26it/s] \n"
     ]
    },
    {
     "name": "stdout",
     "output_type": "stream",
     "text": [
      "Training tokenizer\n",
      "\n",
      "\n",
      "\n",
      "Returning tokenizer with vocab_size = 5300\n",
      "Finding lens for 5300\n"
     ]
    },
    {
     "name": "stderr",
     "output_type": "stream",
     "text": [
      "100%|██████████| 36631/36631 [00:47<00:00, 771.78it/s] \n"
     ]
    },
    {
     "name": "stdout",
     "output_type": "stream",
     "text": [
      "Training tokenizer\n",
      "\n",
      "\n",
      "\n",
      "Returning tokenizer with vocab_size = 5400\n",
      "Finding lens for 5400\n"
     ]
    },
    {
     "name": "stderr",
     "output_type": "stream",
     "text": [
      "100%|██████████| 36631/36631 [00:44<00:00, 819.78it/s] \n"
     ]
    },
    {
     "name": "stdout",
     "output_type": "stream",
     "text": [
      "Training tokenizer\n",
      "\n",
      "\n",
      "\n",
      "Returning tokenizer with vocab_size = 5500\n",
      "Finding lens for 5500\n"
     ]
    },
    {
     "name": "stderr",
     "output_type": "stream",
     "text": [
      "100%|██████████| 36631/36631 [00:47<00:00, 764.78it/s] \n"
     ]
    },
    {
     "name": "stdout",
     "output_type": "stream",
     "text": [
      "Training tokenizer\n",
      "\n",
      "\n",
      "\n",
      "Returning tokenizer with vocab_size = 5600\n",
      "Finding lens for 5600\n"
     ]
    },
    {
     "name": "stderr",
     "output_type": "stream",
     "text": [
      "100%|██████████| 36631/36631 [00:45<00:00, 812.77it/s] \n"
     ]
    },
    {
     "name": "stdout",
     "output_type": "stream",
     "text": [
      "Training tokenizer\n",
      "\n",
      "\n",
      "\n",
      "Returning tokenizer with vocab_size = 5700\n",
      "Finding lens for 5700\n"
     ]
    },
    {
     "name": "stderr",
     "output_type": "stream",
     "text": [
      "100%|██████████| 36631/36631 [00:47<00:00, 773.08it/s] \n"
     ]
    },
    {
     "name": "stdout",
     "output_type": "stream",
     "text": [
      "Training tokenizer\n",
      "\n",
      "\n",
      "\n",
      "Returning tokenizer with vocab_size = 5800\n",
      "Finding lens for 5800\n"
     ]
    },
    {
     "name": "stderr",
     "output_type": "stream",
     "text": [
      "100%|██████████| 36631/36631 [00:44<00:00, 817.26it/s] \n"
     ]
    },
    {
     "name": "stdout",
     "output_type": "stream",
     "text": [
      "Training tokenizer\n",
      "\n",
      "\n",
      "\n",
      "Returning tokenizer with vocab_size = 5900\n",
      "Finding lens for 5900\n"
     ]
    },
    {
     "name": "stderr",
     "output_type": "stream",
     "text": [
      "100%|██████████| 36631/36631 [00:45<00:00, 796.56it/s] \n"
     ]
    },
    {
     "name": "stdout",
     "output_type": "stream",
     "text": [
      "Training tokenizer\n",
      "\n",
      "\n",
      "\n",
      "Returning tokenizer with vocab_size = 6000\n",
      "Finding lens for 6000\n"
     ]
    },
    {
     "name": "stderr",
     "output_type": "stream",
     "text": [
      "100%|██████████| 36631/36631 [00:47<00:00, 777.22it/s] \n"
     ]
    },
    {
     "name": "stdout",
     "output_type": "stream",
     "text": [
      "Training tokenizer\n",
      "\n",
      "\n",
      "\n",
      "Returning tokenizer with vocab_size = 6100\n",
      "Finding lens for 6100\n"
     ]
    },
    {
     "name": "stderr",
     "output_type": "stream",
     "text": [
      "100%|██████████| 36631/36631 [00:45<00:00, 808.41it/s] \n"
     ]
    },
    {
     "name": "stdout",
     "output_type": "stream",
     "text": [
      "Training tokenizer\n",
      "\n",
      "\n",
      "\n",
      "Returning tokenizer with vocab_size = 6200\n",
      "Finding lens for 6200\n"
     ]
    },
    {
     "name": "stderr",
     "output_type": "stream",
     "text": [
      "100%|██████████| 36631/36631 [00:46<00:00, 793.79it/s] \n"
     ]
    },
    {
     "name": "stdout",
     "output_type": "stream",
     "text": [
      "Training tokenizer\n",
      "\n",
      "\n",
      "\n",
      "Returning tokenizer with vocab_size = 6300\n",
      "Finding lens for 6300\n"
     ]
    },
    {
     "name": "stderr",
     "output_type": "stream",
     "text": [
      "100%|██████████| 36631/36631 [00:54<00:00, 669.33it/s]\n"
     ]
    },
    {
     "name": "stdout",
     "output_type": "stream",
     "text": [
      "Training tokenizer\n",
      "\n",
      "\n",
      "\n",
      "Returning tokenizer with vocab_size = 6400\n",
      "Finding lens for 6400\n"
     ]
    },
    {
     "name": "stderr",
     "output_type": "stream",
     "text": [
      "100%|██████████| 36631/36631 [00:56<00:00, 652.84it/s]\n"
     ]
    },
    {
     "name": "stdout",
     "output_type": "stream",
     "text": [
      "Training tokenizer\n",
      "\n",
      "\n",
      "\n",
      "Returning tokenizer with vocab_size = 6500\n",
      "Finding lens for 6500\n"
     ]
    },
    {
     "name": "stderr",
     "output_type": "stream",
     "text": [
      "100%|██████████| 36631/36631 [00:55<00:00, 658.05it/s]\n"
     ]
    },
    {
     "name": "stdout",
     "output_type": "stream",
     "text": [
      "Training tokenizer\n",
      "\n",
      "\n",
      "\n",
      "Returning tokenizer with vocab_size = 6600\n",
      "Finding lens for 6600\n"
     ]
    },
    {
     "name": "stderr",
     "output_type": "stream",
     "text": [
      "100%|██████████| 36631/36631 [00:56<00:00, 647.78it/s]\n"
     ]
    },
    {
     "name": "stdout",
     "output_type": "stream",
     "text": [
      "Training tokenizer\n",
      "\n",
      "\n",
      "\n",
      "Returning tokenizer with vocab_size = 6700\n",
      "Finding lens for 6700\n"
     ]
    },
    {
     "name": "stderr",
     "output_type": "stream",
     "text": [
      "100%|██████████| 36631/36631 [00:55<00:00, 655.77it/s]\n"
     ]
    },
    {
     "name": "stdout",
     "output_type": "stream",
     "text": [
      "Training tokenizer\n",
      "\n",
      "\n",
      "\n",
      "Returning tokenizer with vocab_size = 6800\n",
      "Finding lens for 6800\n"
     ]
    },
    {
     "name": "stderr",
     "output_type": "stream",
     "text": [
      "100%|██████████| 36631/36631 [00:56<00:00, 650.19it/s]\n"
     ]
    },
    {
     "name": "stdout",
     "output_type": "stream",
     "text": [
      "Training tokenizer\n",
      "\n",
      "\n",
      "\n",
      "Returning tokenizer with vocab_size = 6900\n",
      "Finding lens for 6900\n"
     ]
    },
    {
     "name": "stderr",
     "output_type": "stream",
     "text": [
      "100%|██████████| 36631/36631 [00:55<00:00, 662.95it/s]\n"
     ]
    },
    {
     "name": "stdout",
     "output_type": "stream",
     "text": [
      "Training tokenizer\n",
      "\n",
      "\n",
      "\n",
      "Returning tokenizer with vocab_size = 7000\n",
      "Finding lens for 7000\n"
     ]
    },
    {
     "name": "stderr",
     "output_type": "stream",
     "text": [
      "100%|██████████| 36631/36631 [00:55<00:00, 664.41it/s]\n"
     ]
    },
    {
     "data": {
      "image/png": "[encoded data removed]",
      "text/plain": [
       "<Figure size 640x480 with 1 Axes>"
      ]
     },
     "metadata": {},
     "output_type": "display_data"
    },
    {
     "data": {
      "image/png": "[encoded data removed]",
      "text/plain": [
       "<Figure size 640x480 with 1 Axes>"
      ]
     },
     "metadata": {},
     "output_type": "display_data"
    }
   ],
   "source": [
    "# APE: [20, 40, 60, 80, 100, 200, 300, 400, ... , 3000]\n",
    "\n",
    "ape_vocab_sizes = [20, 40, 60, 80]\n",
    "ape_vocab_sizes.extend(iter(range(100, max_vocab_all + 1, 100)))\n",
    "\n",
    "plot_vocab_lens(\n",
    "    sequence_fasta_file=\"/home/couchbucks/Documents/saketh/cpe/cpe/data/datasets/mdh_natural_dataset.fasta\", \n",
    "    vocab_sizes=cpe_vocab_sizes,\n",
    "    bpe_tokenizer_type=\"ape_tokenizer\",\n",
    "    save_tokenizer = True, \n",
    "    save_plot_data = False\n",
    ")"
   ]
  },
  {
   "cell_type": "code",
   "execution_count": 44,
   "metadata": {},
   "outputs": [
    {
     "name": "stdout",
     "output_type": "stream",
     "text": [
      "Training tokenizer\n",
      "\n",
      "\n",
      "\n",
      "Returning tokenizer with vocab_size = 71\n",
      "Finding lens for 71\n"
     ]
    },
    {
     "name": "stderr",
     "output_type": "stream",
     "text": [
      "100%|██████████| 36631/36631 [01:10<00:00, 518.82it/s]\n"
     ]
    },
    {
     "name": "stdout",
     "output_type": "stream",
     "text": [
      "Training tokenizer\n",
      "\n",
      "\n",
      "\n",
      "Returning tokenizer with vocab_size = 80\n",
      "Finding lens for 80\n"
     ]
    },
    {
     "name": "stderr",
     "output_type": "stream",
     "text": [
      "100%|██████████| 36631/36631 [01:09<00:00, 526.38it/s]\n"
     ]
    },
    {
     "name": "stdout",
     "output_type": "stream",
     "text": [
      "Training tokenizer\n",
      "\n",
      "\n",
      "\n",
      "Returning tokenizer with vocab_size = 100\n",
      "Finding lens for 100\n"
     ]
    },
    {
     "name": "stderr",
     "output_type": "stream",
     "text": [
      "100%|██████████| 36631/36631 [01:09<00:00, 524.36it/s]\n"
     ]
    },
    {
     "name": "stdout",
     "output_type": "stream",
     "text": [
      "Training tokenizer\n",
      "\n",
      "\n",
      "\n",
      "Returning tokenizer with vocab_size = 200\n",
      "Finding lens for 200\n"
     ]
    },
    {
     "name": "stderr",
     "output_type": "stream",
     "text": [
      "100%|██████████| 36631/36631 [01:10<00:00, 517.83it/s]\n"
     ]
    },
    {
     "name": "stdout",
     "output_type": "stream",
     "text": [
      "Training tokenizer\n",
      "\n",
      "\n",
      "\n",
      "Returning tokenizer with vocab_size = 300\n",
      "Finding lens for 300\n"
     ]
    },
    {
     "name": "stderr",
     "output_type": "stream",
     "text": [
      "100%|██████████| 36631/36631 [01:10<00:00, 520.97it/s]\n"
     ]
    },
    {
     "name": "stdout",
     "output_type": "stream",
     "text": [
      "Training tokenizer\n",
      "\n",
      "\n",
      "\n",
      "Returning tokenizer with vocab_size = 400\n",
      "Finding lens for 400\n"
     ]
    },
    {
     "name": "stderr",
     "output_type": "stream",
     "text": [
      "100%|██████████| 36631/36631 [01:10<00:00, 516.15it/s]\n"
     ]
    },
    {
     "name": "stdout",
     "output_type": "stream",
     "text": [
      "Training tokenizer\n",
      "\n",
      "\n",
      "\n",
      "Returning tokenizer with vocab_size = 500\n",
      "Finding lens for 500\n"
     ]
    },
    {
     "name": "stderr",
     "output_type": "stream",
     "text": [
      "100%|██████████| 36631/36631 [01:09<00:00, 524.64it/s]\n"
     ]
    },
    {
     "name": "stdout",
     "output_type": "stream",
     "text": [
      "Training tokenizer\n",
      "\n",
      "\n",
      "\n",
      "Returning tokenizer with vocab_size = 600\n",
      "Finding lens for 600\n"
     ]
    },
    {
     "name": "stderr",
     "output_type": "stream",
     "text": [
      "100%|██████████| 36631/36631 [01:10<00:00, 516.80it/s]\n"
     ]
    },
    {
     "name": "stdout",
     "output_type": "stream",
     "text": [
      "Training tokenizer\n",
      "\n",
      "\n",
      "\n",
      "Returning tokenizer with vocab_size = 700\n",
      "Finding lens for 700\n"
     ]
    },
    {
     "name": "stderr",
     "output_type": "stream",
     "text": [
      "100%|██████████| 36631/36631 [01:09<00:00, 525.11it/s]\n"
     ]
    },
    {
     "name": "stdout",
     "output_type": "stream",
     "text": [
      "Training tokenizer\n",
      "\n",
      "\n",
      "\n",
      "Returning tokenizer with vocab_size = 800\n",
      "Finding lens for 800\n"
     ]
    },
    {
     "name": "stderr",
     "output_type": "stream",
     "text": [
      "100%|██████████| 36631/36631 [01:11<00:00, 513.91it/s]\n"
     ]
    },
    {
     "name": "stdout",
     "output_type": "stream",
     "text": [
      "Training tokenizer\n",
      "\n",
      "\n",
      "\n",
      "Returning tokenizer with vocab_size = 900\n",
      "Finding lens for 900\n"
     ]
    },
    {
     "name": "stderr",
     "output_type": "stream",
     "text": [
      "100%|██████████| 36631/36631 [01:12<00:00, 504.02it/s]\n"
     ]
    },
    {
     "name": "stdout",
     "output_type": "stream",
     "text": [
      "Training tokenizer\n",
      "\n",
      "\n",
      "\n",
      "Returning tokenizer with vocab_size = 1000\n",
      "Finding lens for 1000\n"
     ]
    },
    {
     "name": "stderr",
     "output_type": "stream",
     "text": [
      "100%|██████████| 36631/36631 [01:10<00:00, 517.84it/s]\n"
     ]
    },
    {
     "name": "stdout",
     "output_type": "stream",
     "text": [
      "Training tokenizer\n",
      "\n",
      "\n",
      "\n",
      "Returning tokenizer with vocab_size = 1100\n",
      "Finding lens for 1100\n"
     ]
    },
    {
     "name": "stderr",
     "output_type": "stream",
     "text": [
      "100%|██████████| 36631/36631 [01:10<00:00, 519.92it/s]\n"
     ]
    },
    {
     "name": "stdout",
     "output_type": "stream",
     "text": [
      "Training tokenizer\n",
      "\n",
      "\n",
      "\n",
      "Returning tokenizer with vocab_size = 1200\n",
      "Finding lens for 1200\n"
     ]
    },
    {
     "name": "stderr",
     "output_type": "stream",
     "text": [
      "100%|██████████| 36631/36631 [01:10<00:00, 517.73it/s]\n"
     ]
    },
    {
     "name": "stdout",
     "output_type": "stream",
     "text": [
      "Training tokenizer\n",
      "\n",
      "\n",
      "\n",
      "Returning tokenizer with vocab_size = 1300\n",
      "Finding lens for 1300\n"
     ]
    },
    {
     "name": "stderr",
     "output_type": "stream",
     "text": [
      "100%|██████████| 36631/36631 [01:11<00:00, 510.91it/s]\n"
     ]
    },
    {
     "name": "stdout",
     "output_type": "stream",
     "text": [
      "Training tokenizer\n",
      "\n",
      "\n",
      "\n",
      "Returning tokenizer with vocab_size = 1400\n",
      "Finding lens for 1400\n"
     ]
    },
    {
     "name": "stderr",
     "output_type": "stream",
     "text": [
      "100%|██████████| 36631/36631 [01:09<00:00, 523.51it/s]\n"
     ]
    },
    {
     "name": "stdout",
     "output_type": "stream",
     "text": [
      "Training tokenizer\n",
      "\n",
      "\n",
      "\n",
      "Returning tokenizer with vocab_size = 1500\n",
      "Finding lens for 1500\n"
     ]
    },
    {
     "name": "stderr",
     "output_type": "stream",
     "text": [
      "100%|██████████| 36631/36631 [01:11<00:00, 510.28it/s]\n"
     ]
    },
    {
     "name": "stdout",
     "output_type": "stream",
     "text": [
      "Training tokenizer\n",
      "\n",
      "\n",
      "\n",
      "Returning tokenizer with vocab_size = 1600\n",
      "Finding lens for 1600\n"
     ]
    },
    {
     "name": "stderr",
     "output_type": "stream",
     "text": [
      "100%|██████████| 36631/36631 [01:12<00:00, 505.93it/s]\n"
     ]
    },
    {
     "name": "stdout",
     "output_type": "stream",
     "text": [
      "Training tokenizer\n",
      "\n",
      "\n",
      "\n",
      "Returning tokenizer with vocab_size = 1700\n",
      "Finding lens for 1700\n"
     ]
    },
    {
     "name": "stderr",
     "output_type": "stream",
     "text": [
      "100%|██████████| 36631/36631 [01:12<00:00, 508.25it/s]\n"
     ]
    },
    {
     "name": "stdout",
     "output_type": "stream",
     "text": [
      "Training tokenizer\n",
      "\n",
      "\n",
      "\n",
      "Returning tokenizer with vocab_size = 1800\n",
      "Finding lens for 1800\n"
     ]
    },
    {
     "name": "stderr",
     "output_type": "stream",
     "text": [
      "100%|██████████| 36631/36631 [01:12<00:00, 504.72it/s]\n"
     ]
    },
    {
     "name": "stdout",
     "output_type": "stream",
     "text": [
      "Training tokenizer\n",
      "\n",
      "\n",
      "\n",
      "Returning tokenizer with vocab_size = 1900\n",
      "Finding lens for 1900\n"
     ]
    },
    {
     "name": "stderr",
     "output_type": "stream",
     "text": [
      "100%|██████████| 36631/36631 [01:12<00:00, 507.15it/s]\n"
     ]
    },
    {
     "name": "stdout",
     "output_type": "stream",
     "text": [
      "Training tokenizer\n",
      "\n",
      "\n",
      "\n",
      "Returning tokenizer with vocab_size = 2000\n",
      "Finding lens for 2000\n"
     ]
    },
    {
     "name": "stderr",
     "output_type": "stream",
     "text": [
      "100%|██████████| 36631/36631 [01:13<00:00, 499.25it/s]\n"
     ]
    },
    {
     "name": "stdout",
     "output_type": "stream",
     "text": [
      "Training tokenizer\n",
      "\n",
      "\n",
      "\n",
      "Returning tokenizer with vocab_size = 2100\n",
      "Finding lens for 2100\n"
     ]
    },
    {
     "name": "stderr",
     "output_type": "stream",
     "text": [
      "100%|██████████| 36631/36631 [01:11<00:00, 510.03it/s]\n"
     ]
    },
    {
     "name": "stdout",
     "output_type": "stream",
     "text": [
      "Training tokenizer\n",
      "\n",
      "\n",
      "\n",
      "Returning tokenizer with vocab_size = 2200\n",
      "Finding lens for 2200\n"
     ]
    },
    {
     "name": "stderr",
     "output_type": "stream",
     "text": [
      "100%|██████████| 36631/36631 [01:13<00:00, 499.15it/s]\n"
     ]
    },
    {
     "name": "stdout",
     "output_type": "stream",
     "text": [
      "Training tokenizer\n",
      "\n",
      "\n",
      "\n",
      "Returning tokenizer with vocab_size = 2300\n",
      "Finding lens for 2300\n"
     ]
    },
    {
     "name": "stderr",
     "output_type": "stream",
     "text": [
      "100%|██████████| 36631/36631 [01:11<00:00, 511.17it/s]\n"
     ]
    },
    {
     "name": "stdout",
     "output_type": "stream",
     "text": [
      "Training tokenizer\n",
      "\n",
      "\n",
      "\n",
      "Returning tokenizer with vocab_size = 2400\n",
      "Finding lens for 2400\n"
     ]
    },
    {
     "name": "stderr",
     "output_type": "stream",
     "text": [
      "100%|██████████| 36631/36631 [01:13<00:00, 501.66it/s]\n"
     ]
    },
    {
     "name": "stdout",
     "output_type": "stream",
     "text": [
      "Training tokenizer\n",
      "\n",
      "\n",
      "\n",
      "Returning tokenizer with vocab_size = 2500\n",
      "Finding lens for 2500\n"
     ]
    },
    {
     "name": "stderr",
     "output_type": "stream",
     "text": [
      "100%|██████████| 36631/36631 [01:14<00:00, 494.42it/s]\n"
     ]
    },
    {
     "name": "stdout",
     "output_type": "stream",
     "text": [
      "Training tokenizer\n",
      "\n",
      "\n",
      "\n",
      "Returning tokenizer with vocab_size = 2600\n",
      "Finding lens for 2600\n"
     ]
    },
    {
     "name": "stderr",
     "output_type": "stream",
     "text": [
      "100%|██████████| 36631/36631 [01:14<00:00, 488.62it/s]\n"
     ]
    },
    {
     "name": "stdout",
     "output_type": "stream",
     "text": [
      "Training tokenizer\n",
      "\n",
      "\n",
      "\n",
      "Returning tokenizer with vocab_size = 2700\n",
      "Finding lens for 2700\n"
     ]
    },
    {
     "name": "stderr",
     "output_type": "stream",
     "text": [
      "100%|██████████| 36631/36631 [01:14<00:00, 492.83it/s]\n"
     ]
    },
    {
     "name": "stdout",
     "output_type": "stream",
     "text": [
      "Training tokenizer\n",
      "\n",
      "\n",
      "\n",
      "Returning tokenizer with vocab_size = 2800\n",
      "Finding lens for 2800\n"
     ]
    },
    {
     "name": "stderr",
     "output_type": "stream",
     "text": [
      "100%|██████████| 36631/36631 [01:14<00:00, 489.97it/s]\n"
     ]
    },
    {
     "name": "stdout",
     "output_type": "stream",
     "text": [
      "Training tokenizer\n",
      "\n",
      "\n",
      "\n",
      "Returning tokenizer with vocab_size = 2900\n",
      "Finding lens for 2900\n"
     ]
    },
    {
     "name": "stderr",
     "output_type": "stream",
     "text": [
      "100%|██████████| 36631/36631 [01:14<00:00, 488.77it/s]\n"
     ]
    },
    {
     "name": "stdout",
     "output_type": "stream",
     "text": [
      "Training tokenizer\n",
      "\n",
      "\n",
      "\n",
      "Returning tokenizer with vocab_size = 3000\n",
      "Finding lens for 3000\n"
     ]
    },
    {
     "name": "stderr",
     "output_type": "stream",
     "text": [
      "100%|██████████| 36631/36631 [01:14<00:00, 495.01it/s]\n"
     ]
    },
    {
     "name": "stdout",
     "output_type": "stream",
     "text": [
      "Training tokenizer\n",
      "\n",
      "\n",
      "\n",
      "Returning tokenizer with vocab_size = 3100\n",
      "Finding lens for 3100\n"
     ]
    },
    {
     "name": "stderr",
     "output_type": "stream",
     "text": [
      "100%|██████████| 36631/36631 [01:14<00:00, 489.75it/s]\n"
     ]
    },
    {
     "name": "stdout",
     "output_type": "stream",
     "text": [
      "Training tokenizer\n",
      "\n",
      "\n",
      "\n",
      "Returning tokenizer with vocab_size = 3200\n",
      "Finding lens for 3200\n"
     ]
    },
    {
     "name": "stderr",
     "output_type": "stream",
     "text": [
      "100%|██████████| 36631/36631 [01:15<00:00, 484.52it/s]\n"
     ]
    },
    {
     "name": "stdout",
     "output_type": "stream",
     "text": [
      "Training tokenizer\n",
      "\n",
      "\n",
      "\n",
      "Returning tokenizer with vocab_size = 3300\n",
      "Finding lens for 3300\n"
     ]
    },
    {
     "name": "stderr",
     "output_type": "stream",
     "text": [
      "100%|██████████| 36631/36631 [01:12<00:00, 504.99it/s]\n"
     ]
    },
    {
     "name": "stdout",
     "output_type": "stream",
     "text": [
      "Training tokenizer\n",
      "\n",
      "\n",
      "\n",
      "Returning tokenizer with vocab_size = 3400\n",
      "Finding lens for 3400\n"
     ]
    },
    {
     "name": "stderr",
     "output_type": "stream",
     "text": [
      "100%|██████████| 36631/36631 [01:14<00:00, 491.54it/s]\n"
     ]
    },
    {
     "name": "stdout",
     "output_type": "stream",
     "text": [
      "Training tokenizer\n",
      "\n",
      "\n",
      "\n",
      "Returning tokenizer with vocab_size = 3500\n",
      "Finding lens for 3500\n"
     ]
    },
    {
     "name": "stderr",
     "output_type": "stream",
     "text": [
      "100%|██████████| 36631/36631 [01:15<00:00, 482.93it/s]\n"
     ]
    },
    {
     "name": "stdout",
     "output_type": "stream",
     "text": [
      "Training tokenizer\n",
      "\n",
      "\n",
      "\n",
      "Returning tokenizer with vocab_size = 3600\n",
      "Finding lens for 3600\n"
     ]
    },
    {
     "name": "stderr",
     "output_type": "stream",
     "text": [
      "100%|██████████| 36631/36631 [01:14<00:00, 491.39it/s]\n"
     ]
    },
    {
     "name": "stdout",
     "output_type": "stream",
     "text": [
      "Training tokenizer\n",
      "\n",
      "\n",
      "\n",
      "Returning tokenizer with vocab_size = 3700\n",
      "Finding lens for 3700\n"
     ]
    },
    {
     "name": "stderr",
     "output_type": "stream",
     "text": [
      "100%|██████████| 36631/36631 [01:15<00:00, 486.58it/s]\n"
     ]
    },
    {
     "name": "stdout",
     "output_type": "stream",
     "text": [
      "Training tokenizer\n",
      "\n",
      "\n",
      "\n",
      "Returning tokenizer with vocab_size = 3800\n",
      "Finding lens for 3800\n"
     ]
    },
    {
     "name": "stderr",
     "output_type": "stream",
     "text": [
      "100%|██████████| 36631/36631 [01:15<00:00, 487.80it/s]\n"
     ]
    },
    {
     "name": "stdout",
     "output_type": "stream",
     "text": [
      "Training tokenizer\n",
      "\n",
      "\n",
      "\n",
      "Returning tokenizer with vocab_size = 3900\n",
      "Finding lens for 3900\n"
     ]
    },
    {
     "name": "stderr",
     "output_type": "stream",
     "text": [
      "100%|██████████| 36631/36631 [01:14<00:00, 494.35it/s]\n"
     ]
    },
    {
     "name": "stdout",
     "output_type": "stream",
     "text": [
      "Training tokenizer\n",
      "\n",
      "\n",
      "\n",
      "Returning tokenizer with vocab_size = 4000\n",
      "Finding lens for 4000\n"
     ]
    },
    {
     "name": "stderr",
     "output_type": "stream",
     "text": [
      "100%|██████████| 36631/36631 [01:14<00:00, 488.53it/s]\n"
     ]
    },
    {
     "name": "stdout",
     "output_type": "stream",
     "text": [
      "Training tokenizer\n",
      "\n",
      "\n",
      "\n",
      "Returning tokenizer with vocab_size = 4100\n",
      "Finding lens for 4100\n"
     ]
    },
    {
     "name": "stderr",
     "output_type": "stream",
     "text": [
      "100%|██████████| 36631/36631 [01:14<00:00, 488.53it/s]\n"
     ]
    },
    {
     "name": "stdout",
     "output_type": "stream",
     "text": [
      "Training tokenizer\n",
      "\n",
      "\n",
      "\n",
      "Returning tokenizer with vocab_size = 4200\n",
      "Finding lens for 4200\n"
     ]
    },
    {
     "name": "stderr",
     "output_type": "stream",
     "text": [
      "100%|██████████| 36631/36631 [01:15<00:00, 487.67it/s]\n"
     ]
    },
    {
     "name": "stdout",
     "output_type": "stream",
     "text": [
      "Training tokenizer\n",
      "\n",
      "\n",
      "\n",
      "Returning tokenizer with vocab_size = 4300\n",
      "Finding lens for 4300\n"
     ]
    },
    {
     "name": "stderr",
     "output_type": "stream",
     "text": [
      "100%|██████████| 36631/36631 [01:15<00:00, 486.54it/s]\n"
     ]
    },
    {
     "name": "stdout",
     "output_type": "stream",
     "text": [
      "Training tokenizer\n",
      "\n",
      "\n",
      "\n",
      "Returning tokenizer with vocab_size = 4400\n",
      "Finding lens for 4400\n"
     ]
    },
    {
     "name": "stderr",
     "output_type": "stream",
     "text": [
      "100%|██████████| 36631/36631 [01:14<00:00, 488.94it/s]\n"
     ]
    },
    {
     "name": "stdout",
     "output_type": "stream",
     "text": [
      "Training tokenizer\n",
      "\n",
      "\n",
      "\n",
      "Returning tokenizer with vocab_size = 4500\n",
      "Finding lens for 4500\n"
     ]
    },
    {
     "name": "stderr",
     "output_type": "stream",
     "text": [
      "100%|██████████| 36631/36631 [01:15<00:00, 486.45it/s]\n"
     ]
    },
    {
     "name": "stdout",
     "output_type": "stream",
     "text": [
      "Training tokenizer\n",
      "\n",
      "\n",
      "\n",
      "Returning tokenizer with vocab_size = 4600\n",
      "Finding lens for 4600\n"
     ]
    },
    {
     "name": "stderr",
     "output_type": "stream",
     "text": [
      "100%|██████████| 36631/36631 [01:13<00:00, 495.72it/s]\n"
     ]
    },
    {
     "name": "stdout",
     "output_type": "stream",
     "text": [
      "Training tokenizer\n",
      "\n",
      "\n",
      "\n",
      "Returning tokenizer with vocab_size = 4700\n",
      "Finding lens for 4700\n"
     ]
    },
    {
     "name": "stderr",
     "output_type": "stream",
     "text": [
      "100%|██████████| 36631/36631 [01:13<00:00, 497.16it/s]\n"
     ]
    },
    {
     "name": "stdout",
     "output_type": "stream",
     "text": [
      "Training tokenizer\n",
      "\n",
      "\n",
      "\n",
      "Returning tokenizer with vocab_size = 4800\n",
      "Finding lens for 4800\n"
     ]
    },
    {
     "name": "stderr",
     "output_type": "stream",
     "text": [
      "100%|██████████| 36631/36631 [01:15<00:00, 482.95it/s]\n"
     ]
    },
    {
     "name": "stdout",
     "output_type": "stream",
     "text": [
      "Training tokenizer\n",
      "\n",
      "\n",
      "\n",
      "Returning tokenizer with vocab_size = 4900\n",
      "Finding lens for 4900\n"
     ]
    },
    {
     "name": "stderr",
     "output_type": "stream",
     "text": [
      "100%|██████████| 36631/36631 [01:13<00:00, 496.25it/s]\n"
     ]
    },
    {
     "name": "stdout",
     "output_type": "stream",
     "text": [
      "Training tokenizer\n",
      "\n",
      "\n",
      "\n",
      "Returning tokenizer with vocab_size = 5000\n",
      "Finding lens for 5000\n"
     ]
    },
    {
     "name": "stderr",
     "output_type": "stream",
     "text": [
      "100%|██████████| 36631/36631 [01:13<00:00, 496.11it/s]\n"
     ]
    },
    {
     "name": "stdout",
     "output_type": "stream",
     "text": [
      "Training tokenizer\n",
      "\n",
      "\n",
      "\n",
      "Returning tokenizer with vocab_size = 5100\n",
      "Finding lens for 5100\n"
     ]
    },
    {
     "name": "stderr",
     "output_type": "stream",
     "text": [
      "100%|██████████| 36631/36631 [01:15<00:00, 485.57it/s]\n"
     ]
    },
    {
     "name": "stdout",
     "output_type": "stream",
     "text": [
      "Training tokenizer\n",
      "\n",
      "\n",
      "\n",
      "Returning tokenizer with vocab_size = 5200\n",
      "Finding lens for 5200\n"
     ]
    },
    {
     "name": "stderr",
     "output_type": "stream",
     "text": [
      "100%|██████████| 36631/36631 [01:14<00:00, 491.91it/s]\n"
     ]
    },
    {
     "name": "stdout",
     "output_type": "stream",
     "text": [
      "Training tokenizer\n",
      "\n",
      "\n",
      "\n",
      "Returning tokenizer with vocab_size = 5300\n",
      "Finding lens for 5300\n"
     ]
    },
    {
     "name": "stderr",
     "output_type": "stream",
     "text": [
      "100%|██████████| 36631/36631 [01:15<00:00, 487.98it/s]\n"
     ]
    },
    {
     "name": "stdout",
     "output_type": "stream",
     "text": [
      "Training tokenizer\n",
      "\n",
      "\n",
      "\n",
      "Returning tokenizer with vocab_size = 5400\n",
      "Finding lens for 5400\n"
     ]
    },
    {
     "name": "stderr",
     "output_type": "stream",
     "text": [
      "100%|██████████| 36631/36631 [01:14<00:00, 490.53it/s]\n"
     ]
    },
    {
     "name": "stdout",
     "output_type": "stream",
     "text": [
      "Training tokenizer\n",
      "\n",
      "\n",
      "\n",
      "Returning tokenizer with vocab_size = 5500\n",
      "Finding lens for 5500\n"
     ]
    },
    {
     "name": "stderr",
     "output_type": "stream",
     "text": [
      "100%|██████████| 36631/36631 [01:15<00:00, 485.74it/s]\n"
     ]
    },
    {
     "name": "stdout",
     "output_type": "stream",
     "text": [
      "Training tokenizer\n",
      "\n",
      "\n",
      "\n",
      "Returning tokenizer with vocab_size = 5600\n",
      "Finding lens for 5600\n"
     ]
    },
    {
     "name": "stderr",
     "output_type": "stream",
     "text": [
      "100%|██████████| 36631/36631 [01:14<00:00, 489.32it/s]\n"
     ]
    },
    {
     "name": "stdout",
     "output_type": "stream",
     "text": [
      "Training tokenizer\n",
      "\n",
      "\n",
      "\n",
      "Returning tokenizer with vocab_size = 5700\n",
      "Finding lens for 5700\n"
     ]
    },
    {
     "name": "stderr",
     "output_type": "stream",
     "text": [
      "100%|██████████| 36631/36631 [01:14<00:00, 493.74it/s]\n"
     ]
    },
    {
     "name": "stdout",
     "output_type": "stream",
     "text": [
      "Training tokenizer\n",
      "\n",
      "\n",
      "\n",
      "Returning tokenizer with vocab_size = 5800\n",
      "Finding lens for 5800\n"
     ]
    },
    {
     "name": "stderr",
     "output_type": "stream",
     "text": [
      "100%|██████████| 36631/36631 [01:14<00:00, 488.52it/s]\n"
     ]
    },
    {
     "name": "stdout",
     "output_type": "stream",
     "text": [
      "Training tokenizer\n",
      "\n",
      "\n",
      "\n",
      "Returning tokenizer with vocab_size = 5900\n",
      "Finding lens for 5900\n"
     ]
    },
    {
     "name": "stderr",
     "output_type": "stream",
     "text": [
      "100%|██████████| 36631/36631 [01:16<00:00, 480.92it/s]\n"
     ]
    },
    {
     "name": "stdout",
     "output_type": "stream",
     "text": [
      "Training tokenizer\n",
      "\n",
      "\n",
      "\n",
      "Returning tokenizer with vocab_size = 6000\n",
      "Finding lens for 6000\n"
     ]
    },
    {
     "name": "stderr",
     "output_type": "stream",
     "text": [
      "100%|██████████| 36631/36631 [01:14<00:00, 491.82it/s]\n"
     ]
    },
    {
     "name": "stdout",
     "output_type": "stream",
     "text": [
      "Training tokenizer\n",
      "\n",
      "\n",
      "\n",
      "Returning tokenizer with vocab_size = 6100\n",
      "Finding lens for 6100\n"
     ]
    },
    {
     "name": "stderr",
     "output_type": "stream",
     "text": [
      "100%|██████████| 36631/36631 [01:14<00:00, 491.49it/s]\n"
     ]
    },
    {
     "name": "stdout",
     "output_type": "stream",
     "text": [
      "Training tokenizer\n",
      "\n",
      "\n",
      "\n",
      "Returning tokenizer with vocab_size = 6200\n",
      "Finding lens for 6200\n"
     ]
    },
    {
     "name": "stderr",
     "output_type": "stream",
     "text": [
      "100%|██████████| 36631/36631 [01:14<00:00, 488.72it/s]\n"
     ]
    },
    {
     "name": "stdout",
     "output_type": "stream",
     "text": [
      "Training tokenizer\n",
      "\n",
      "\n",
      "\n",
      "Returning tokenizer with vocab_size = 6300\n",
      "Finding lens for 6300\n"
     ]
    },
    {
     "name": "stderr",
     "output_type": "stream",
     "text": [
      "100%|██████████| 36631/36631 [01:13<00:00, 497.58it/s]\n"
     ]
    },
    {
     "name": "stdout",
     "output_type": "stream",
     "text": [
      "Training tokenizer\n",
      "\n",
      "\n",
      "\n",
      "Returning tokenizer with vocab_size = 6400\n",
      "Finding lens for 6400\n"
     ]
    },
    {
     "name": "stderr",
     "output_type": "stream",
     "text": [
      "100%|██████████| 36631/36631 [01:15<00:00, 484.75it/s]\n"
     ]
    },
    {
     "name": "stdout",
     "output_type": "stream",
     "text": [
      "Training tokenizer\n",
      "\n",
      "\n",
      "\n",
      "Returning tokenizer with vocab_size = 6500\n",
      "Finding lens for 6500\n"
     ]
    },
    {
     "name": "stderr",
     "output_type": "stream",
     "text": [
      "100%|██████████| 36631/36631 [01:13<00:00, 495.22it/s]\n"
     ]
    },
    {
     "name": "stdout",
     "output_type": "stream",
     "text": [
      "Training tokenizer\n",
      "\n",
      "\n",
      "\n",
      "Returning tokenizer with vocab_size = 6600\n",
      "Finding lens for 6600\n"
     ]
    },
    {
     "name": "stderr",
     "output_type": "stream",
     "text": [
      "100%|██████████| 36631/36631 [01:13<00:00, 496.25it/s]\n"
     ]
    },
    {
     "name": "stdout",
     "output_type": "stream",
     "text": [
      "Training tokenizer\n",
      "\n",
      "\n",
      "\n",
      "Returning tokenizer with vocab_size = 6700\n",
      "Finding lens for 6700\n"
     ]
    },
    {
     "name": "stderr",
     "output_type": "stream",
     "text": [
      "100%|██████████| 36631/36631 [01:14<00:00, 494.19it/s]\n"
     ]
    },
    {
     "name": "stdout",
     "output_type": "stream",
     "text": [
      "Training tokenizer\n",
      "\n",
      "\n",
      "\n",
      "Returning tokenizer with vocab_size = 6800\n",
      "Finding lens for 6800\n"
     ]
    },
    {
     "name": "stderr",
     "output_type": "stream",
     "text": [
      "100%|██████████| 36631/36631 [01:15<00:00, 485.80it/s]\n"
     ]
    },
    {
     "name": "stdout",
     "output_type": "stream",
     "text": [
      "Training tokenizer\n",
      "\n",
      "\n",
      "\n",
      "Returning tokenizer with vocab_size = 6900\n",
      "Finding lens for 6900\n"
     ]
    },
    {
     "name": "stderr",
     "output_type": "stream",
     "text": [
      "100%|██████████| 36631/36631 [01:15<00:00, 483.99it/s]\n"
     ]
    },
    {
     "name": "stdout",
     "output_type": "stream",
     "text": [
      "Training tokenizer\n",
      "\n",
      "\n",
      "\n",
      "Returning tokenizer with vocab_size = 7000\n",
      "Finding lens for 7000\n"
     ]
    },
    {
     "name": "stderr",
     "output_type": "stream",
     "text": [
      "100%|██████████| 36631/36631 [01:15<00:00, 485.66it/s]\n"
     ]
    },
    {
     "data": {
      "image/png": "[encoded data removed]",
      "text/plain": [
       "<Figure size 640x480 with 1 Axes>"
      ]
     },
     "metadata": {},
     "output_type": "display_data"
    },
    {
     "data": {
      "image/png": "[encoded data removed]",
      "text/plain": [
       "<Figure size 640x480 with 1 Axes>"
      ]
     },
     "metadata": {},
     "output_type": "display_data"
    }
   ],
   "source": [
    "# NPE: [4, 8, 12, 16, 20, 40, 60, 80, 100, 200, 300, 400, ... , 3000]\n",
    "\n",
    "npe_vocab_sizes = [4, 8, 12, 16, 20, 40, 60, 80]\n",
    "npe_vocab_sizes.extend(iter(range(100, max_vocab_all + 1, 100)))\n",
    "\n",
    "plot_vocab_lens(\n",
    "    sequence_fasta_file=\"/home/couchbucks/Documents/saketh/cpe/cpe/data/datasets/mdh_natural_dataset.fasta\", \n",
    "    vocab_sizes=cpe_vocab_sizes,\n",
    "    bpe_tokenizer_type=\"npe_tokenizer\",\n",
    "    save_tokenizer = True, \n",
    "    save_plot_data = False\n",
    ")"
   ]
  },
  {
   "cell_type": "markdown",
   "metadata": {},
   "source": [
    "Proper vocab sizes:\n",
    "1. CPE: 1500\n",
    "2. APE: 400\n",
    "3. NPE: "
   ]
  },
  {
   "cell_type": "code",
   "execution_count": 45,
   "metadata": {},
   "outputs": [
    {
     "data": {
      "text/plain": [
       "'\\n\\nCPE:\\nnum_tokens_in_vocab = {100: 64, 200: 85, 300: 97, 400: 106, 500: 112, 600: 117, 700: 121, 800: 124, 900: 127, 1000: 129, 1100: 131, 1200: 133, 1300: 134, 1400: 135, 1500: 136, 1600: 136, 1700: 137, 1800: 138, 1900: 138, 2000: 138, 2100: 139, 2200: 139, 2300: 139, 2400: 139, 2500: 139, 2600: 139, 2700: 139, 2800: 140, 2900: 140}\\nper_vocab_in_vocab = {100: 0.64, 200: 0.425, 300: 0.3233333333333333, 400: 0.265, 500: 0.224, 600: 0.195, 700: 0.17285714285714285, 800: 0.155, 900: 0.1411111111111111, 1000: 0.129, 1100: 0.1190909090909091, 1200: 0.11083333333333334, 1300: 0.10307692307692308, 1400: 0.09642857142857143, 1500: 0.09066666666666667, 1600: 0.085, 1700: 0.08058823529411764, 1800: 0.07666666666666666, 1900: 0.07263157894736842, 2000: 0.069, 2100: 0.06619047619047619, 2200: 0.06318181818181819, 2300: 0.06043478260869565, 2400: 0.057916666666666665, 2500: 0.0556, 2600: 0.05346153846153846, 2700: 0.05148148148148148, 2800: 0.05, 2900: 0.04827586206896552}\\n\\nAPE: \\nnum_tokens_in_vocab = {20: 24, 120: 82, 220: 101, 320: 107, 420: 109, 520: 109, 620: 110, 720: 109, 820: 109, 920: 108, 1020: 107, 1120: 107, 1220: 106, 1320: 105, 1420: 105, 1520: 104, 1620: 104, 1720: 103, 1820: 102, 1920: 101}\\nper_vocab_in_vocab = {20: 0.8571428571428571, 120: 0.6833333333333333, 220: 0.4590909090909091, 320: 0.334375, 420: 0.25952380952380955, 520: 0.20961538461538462, 620: 0.1774193548387097, 720: 0.15138888888888888, 820: 0.1329268292682927, 920: 0.11739130434782609, 1020: 0.10490196078431373, 1120: 0.09553571428571428, 1220: 0.08688524590163935, 1320: 0.07954545454545454, 1420: 0.07394366197183098, 1520: 0.06842105263157895, 1620: 0.06419753086419754, 1720: 0.05988372093023256, 1820: 0.056043956043956046, 1920: 0.05260416666666667}\\n\\nNPE: \\nnum_tokens_in_vocab = {1000: 152, 1250: 154, 1500: 156, 1750: 157, 2000: 157, 2250: 158, 2500: 158, 2750: 158, 3000: 158, 3250: 158, 3500: 158, 3750: 158, 4000: 158, 4250: 158, 4500: 158, 4750: 157}\\nper_vocab_in_vocab = {1000: 0.152, 1250: 0.1232, 1500: 0.104, 1750: 0.08971428571428572, 2000: 0.0785, 2250: 0.07022222222222223, 2500: 0.0632, 2750: 0.05745454545454545, 3000: 0.05266666666666667, 3250: 0.048615384615384616, 3500: 0.045142857142857144, 3750: 0.042133333333333335, 4000: 0.0395, 4250: 0.0371764705882353, 4500: 0.035111111111111114, 4750: 0.03305263157894737}\\n\\n'"
      ]
     },
     "execution_count": 45,
     "metadata": {},
     "output_type": "execute_result"
    }
   ],
   "source": [
    "\"\"\"\n",
    "\n",
    "CPE:\n",
    "num_tokens_in_vocab = {100: 64, 200: 85, 300: 97, 400: 106, 500: 112, 600: 117, 700: 121, 800: 124, 900: 127, 1000: 129, 1100: 131, 1200: 133, 1300: 134, 1400: 135, 1500: 136, 1600: 136, 1700: 137, 1800: 138, 1900: 138, 2000: 138, 2100: 139, 2200: 139, 2300: 139, 2400: 139, 2500: 139, 2600: 139, 2700: 139, 2800: 140, 2900: 140}\n",
    "per_vocab_in_vocab = {100: 0.64, 200: 0.425, 300: 0.3233333333333333, 400: 0.265, 500: 0.224, 600: 0.195, 700: 0.17285714285714285, 800: 0.155, 900: 0.1411111111111111, 1000: 0.129, 1100: 0.1190909090909091, 1200: 0.11083333333333334, 1300: 0.10307692307692308, 1400: 0.09642857142857143, 1500: 0.09066666666666667, 1600: 0.085, 1700: 0.08058823529411764, 1800: 0.07666666666666666, 1900: 0.07263157894736842, 2000: 0.069, 2100: 0.06619047619047619, 2200: 0.06318181818181819, 2300: 0.06043478260869565, 2400: 0.057916666666666665, 2500: 0.0556, 2600: 0.05346153846153846, 2700: 0.05148148148148148, 2800: 0.05, 2900: 0.04827586206896552}\n",
    "\n",
    "APE: \n",
    "num_tokens_in_vocab = {20: 24, 120: 82, 220: 101, 320: 107, 420: 109, 520: 109, 620: 110, 720: 109, 820: 109, 920: 108, 1020: 107, 1120: 107, 1220: 106, 1320: 105, 1420: 105, 1520: 104, 1620: 104, 1720: 103, 1820: 102, 1920: 101}\n",
    "per_vocab_in_vocab = {20: 0.8571428571428571, 120: 0.6833333333333333, 220: 0.4590909090909091, 320: 0.334375, 420: 0.25952380952380955, 520: 0.20961538461538462, 620: 0.1774193548387097, 720: 0.15138888888888888, 820: 0.1329268292682927, 920: 0.11739130434782609, 1020: 0.10490196078431373, 1120: 0.09553571428571428, 1220: 0.08688524590163935, 1320: 0.07954545454545454, 1420: 0.07394366197183098, 1520: 0.06842105263157895, 1620: 0.06419753086419754, 1720: 0.05988372093023256, 1820: 0.056043956043956046, 1920: 0.05260416666666667}\n",
    "\n",
    "NPE: \n",
    "num_tokens_in_vocab = {1000: 152, 1250: 154, 1500: 156, 1750: 157, 2000: 157, 2250: 158, 2500: 158, 2750: 158, 3000: 158, 3250: 158, 3500: 158, 3750: 158, 4000: 158, 4250: 158, 4500: 158, 4750: 157}\n",
    "per_vocab_in_vocab = {1000: 0.152, 1250: 0.1232, 1500: 0.104, 1750: 0.08971428571428572, 2000: 0.0785, 2250: 0.07022222222222223, 2500: 0.0632, 2750: 0.05745454545454545, 3000: 0.05266666666666667, 3250: 0.048615384615384616, 3500: 0.045142857142857144, 3750: 0.042133333333333335, 4000: 0.0395, 4250: 0.0371764705882353, 4500: 0.035111111111111114, 4750: 0.03305263157894737}\n",
    "\n",
    "\"\"\""
   ]
  },
  {
   "cell_type": "code",
   "execution_count": 46,
   "metadata": {},
   "outputs": [
    {
     "name": "stdout",
     "output_type": "stream",
     "text": [
      "[{'vocab_size': 100, 'median_tokens': 64, 'relative_tokens': 0.64}, {'vocab_size': 200, 'median_tokens': 85, 'relative_tokens': 0.425}, {'vocab_size': 300, 'median_tokens': 97, 'relative_tokens': 0.3233333333333333}, {'vocab_size': 400, 'median_tokens': 106, 'relative_tokens': 0.265}, {'vocab_size': 500, 'median_tokens': 112, 'relative_tokens': 0.224}, {'vocab_size': 600, 'median_tokens': 117, 'relative_tokens': 0.195}, {'vocab_size': 700, 'median_tokens': 121, 'relative_tokens': 0.17285714285714285}, {'vocab_size': 800, 'median_tokens': 124, 'relative_tokens': 0.155}, {'vocab_size': 900, 'median_tokens': 127, 'relative_tokens': 0.1411111111111111}, {'vocab_size': 1000, 'median_tokens': 129, 'relative_tokens': 0.129}, {'vocab_size': 1100, 'median_tokens': 131, 'relative_tokens': 0.1190909090909091}, {'vocab_size': 1200, 'median_tokens': 133, 'relative_tokens': 0.11083333333333334}, {'vocab_size': 1300, 'median_tokens': 134, 'relative_tokens': 0.10307692307692308}, {'vocab_size': 1400, 'median_tokens': 135, 'relative_tokens': 0.09642857142857143}, {'vocab_size': 1500, 'median_tokens': 136, 'relative_tokens': 0.09066666666666667}, {'vocab_size': 1600, 'median_tokens': 136, 'relative_tokens': 0.085}, {'vocab_size': 1700, 'median_tokens': 137, 'relative_tokens': 0.08058823529411764}, {'vocab_size': 1800, 'median_tokens': 138, 'relative_tokens': 0.07666666666666666}, {'vocab_size': 1900, 'median_tokens': 138, 'relative_tokens': 0.07263157894736842}, {'vocab_size': 2000, 'median_tokens': 138, 'relative_tokens': 0.069}, {'vocab_size': 2100, 'median_tokens': 139, 'relative_tokens': 0.06619047619047619}, {'vocab_size': 2200, 'median_tokens': 139, 'relative_tokens': 0.06318181818181819}, {'vocab_size': 2300, 'median_tokens': 139, 'relative_tokens': 0.06043478260869565}, {'vocab_size': 2400, 'median_tokens': 139, 'relative_tokens': 0.057916666666666665}, {'vocab_size': 2500, 'median_tokens': 139, 'relative_tokens': 0.0556}, {'vocab_size': 2600, 'median_tokens': 139, 'relative_tokens': 0.05346153846153846}, {'vocab_size': 2700, 'median_tokens': 139, 'relative_tokens': 0.05148148148148148}, {'vocab_size': 2800, 'median_tokens': 140, 'relative_tokens': 0.05}, {'vocab_size': 2900, 'median_tokens': 140, 'relative_tokens': 0.04827586206896552}]\n"
     ]
    }
   ],
   "source": [
    "num_tokens_in_vocab = {\n",
    "    100: 64,\n",
    "    200: 85,\n",
    "    300: 97,\n",
    "    400: 106,\n",
    "    500: 112,\n",
    "    600: 117,\n",
    "    700: 121,\n",
    "    800: 124,\n",
    "    900: 127,\n",
    "    1000: 129,\n",
    "    1100: 131,\n",
    "    1200: 133,\n",
    "    1300: 134,\n",
    "    1400: 135,\n",
    "    1500: 136,\n",
    "    1600: 136,\n",
    "    1700: 137,\n",
    "    1800: 138,\n",
    "    1900: 138,\n",
    "    2000: 138,\n",
    "    2100: 139,\n",
    "    2200: 139,\n",
    "    2300: 139,\n",
    "    2400: 139,\n",
    "    2500: 139,\n",
    "    2600: 139,\n",
    "    2700: 139,\n",
    "    2800: 140,\n",
    "    2900: 140,\n",
    "}\n",
    "per_vocab_in_vocab = {\n",
    "    100: 0.64,\n",
    "    200: 0.425,\n",
    "    300: 0.3233333333333333,\n",
    "    400: 0.265,\n",
    "    500: 0.224,\n",
    "    600: 0.195,\n",
    "    700: 0.17285714285714285,\n",
    "    800: 0.155,\n",
    "    900: 0.1411111111111111,\n",
    "    1000: 0.129,\n",
    "    1100: 0.1190909090909091,\n",
    "    1200: 0.11083333333333334,\n",
    "    1300: 0.10307692307692308,\n",
    "    1400: 0.09642857142857143,\n",
    "    1500: 0.09066666666666667,\n",
    "    1600: 0.085,\n",
    "    1700: 0.08058823529411764,\n",
    "    1800: 0.07666666666666666,\n",
    "    1900: 0.07263157894736842,\n",
    "    2000: 0.069,\n",
    "    2100: 0.06619047619047619,\n",
    "    2200: 0.06318181818181819,\n",
    "    2300: 0.06043478260869565,\n",
    "    2400: 0.057916666666666665,\n",
    "    2500: 0.0556,\n",
    "    2600: 0.05346153846153846,\n",
    "    2700: 0.05148148148148148,\n",
    "    2800: 0.05,\n",
    "    2900: 0.04827586206896552,\n",
    "}\n",
    "\n",
    "data = []\n",
    "\n",
    "for vocab_size, per_tokens in per_vocab_in_vocab.items():\n",
    "    abs_tokens = num_tokens_in_vocab[vocab_size]\n",
    "    data.append(\n",
    "        {\n",
    "            \"vocab_size\": vocab_size,\n",
    "            \"median_tokens\": abs_tokens,\n",
    "            \"relative_tokens\": per_tokens,\n",
    "        }\n",
    "    )\n",
    "\n",
    "print(data)"
   ]
  }
 ],
 "metadata": {
  "kernelspec": {
   "display_name": "Python 3.10.12 ('env': venv)",
   "language": "python",
   "name": "python3"
  },
  "language_info": {
   "codemirror_mode": {
    "name": "ipython",
    "version": 3
   },
   "file_extension": ".py",
   "mimetype": "text/x-python",
   "name": "python",
   "nbconvert_exporter": "python",
   "pygments_lexer": "ipython3",
   "version": "3.10.12"
  },
  "orig_nbformat": 4,
  "vscode": {
   "interpreter": {
    "hash": "d1d2b8a7f7e8b4294e58905fa61be7044a6603711006b6ad534d224b83be168b"
   }
  }
 },
 "nbformat": 4,
 "nbformat_minor": 2
}
