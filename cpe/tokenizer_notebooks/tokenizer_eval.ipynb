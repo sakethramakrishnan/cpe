{
 "cells": [
  {
   "cell_type": "code",
   "execution_count": 1,
   "id": "315ab835-8df3-4cb3-9cf2-13105c2c1207",
   "metadata": {},
   "outputs": [],
   "source": [
    "from pathlib import Path\n",
    "\n",
    "import accelerate\n",
    "import datasets\n",
    "from datasets import Dataset\n",
    "from transformers import DataCollatorForLanguageModeling\n",
    "from transformers import Trainer, TrainingArguments\n",
    "from transformers import PreTrainedTokenizerFast\n",
    "from transformers import BertConfig, BertForMaskedLM\n",
    "\n",
    "\n",
    "from genslm.utils import read_fasta, Sequence"
   ]
  },
  {
   "cell_type": "code",
   "execution_count": 2,
   "id": "34fea002-63c5-4860-b3c8-50067974d0b6",
   "metadata": {},
   "outputs": [],
   "source": [
    "# Get tokenizer\n",
    "\n",
    "special_tokens = {\n",
    "    \"unk_token\": \"[UNK]\",\n",
    "    \"cls_token\": \"[CLS]\",\n",
    "    \"sep_token\": \"[SEP]\",\n",
    "    \"pad_token\": \"[PAD]\",\n",
    "    \"mask_token\": \"[MASK]\",\n",
    "    \"bos_token\": \"[BOS]\",\n",
    "    \"eos_token\": \"[EOS]\",\n",
    "}\n",
    "\n",
    "tokenizer = PreTrainedTokenizerFast.from_pretrained(\"mdh-codon-bpe\")\n",
    "tokenizer.add_special_tokens(special_tokens)\n",
    "None"
   ]
  },
  {
   "cell_type": "code",
   "execution_count": 25,
   "id": "5f3d3bca-3427-437b-beb3-dbac6051e027",
   "metadata": {},
   "outputs": [],
   "source": [
    "# Sequence pre-processing helpers\n",
    "\n",
    "# Assign a unique character to each codon so that we can use it as an\n",
    "# input token to a BPE tokenizer. This implements a codon-pair encoding.\n",
    "CODON_CHAR = {\n",
    "    \"TCG\": \"A\",\n",
    "    \"GCA\": \"B\",\n",
    "    \"CTT\": \"C\",\n",
    "    \"ATT\": \"D\",\n",
    "    \"TTA\": \"E\",\n",
    "    \"GGG\": \"F\",\n",
    "    \"CGT\": \"G\",\n",
    "    \"TAA\": \"H\",\n",
    "    \"AAA\": \"I\",\n",
    "    \"CTC\": \"J\",\n",
    "    \"AGT\": \"K\",\n",
    "    \"CCA\": \"L\",\n",
    "    \"TGT\": \"M\",\n",
    "    \"GCC\": \"N\",\n",
    "    \"GTT\": \"O\",\n",
    "    \"ATA\": \"P\",\n",
    "    \"TAC\": \"Q\",\n",
    "    \"TTT\": \"R\",\n",
    "    \"TGC\": \"S\",\n",
    "    \"CAC\": \"T\",\n",
    "    \"ACG\": \"U\",\n",
    "    \"CCC\": \"V\",\n",
    "    \"ATC\": \"W\",\n",
    "    \"CAT\": \"X\",\n",
    "    \"AGA\": \"Y\",\n",
    "    \"GAG\": \"Z\",\n",
    "    \"GTG\": \"a\",\n",
    "    \"GGT\": \"b\",\n",
    "    \"GCT\": \"c\",\n",
    "    \"TTC\": \"d\",\n",
    "    \"AAC\": \"e\",\n",
    "    \"TAT\": \"f\",\n",
    "    \"GTA\": \"g\",\n",
    "    \"CCG\": \"h\",\n",
    "    \"ACA\": \"i\",\n",
    "    \"CGA\": \"j\",\n",
    "    \"TAG\": \"k\",\n",
    "    \"CTG\": \"l\",\n",
    "    \"GGA\": \"m\",\n",
    "    \"ATG\": \"n\",\n",
    "    \"TCT\": \"o\",\n",
    "    \"CGG\": \"p\",\n",
    "    \"GAT\": \"q\",\n",
    "    \"ACC\": \"r\",\n",
    "    \"GAC\": \"s\",\n",
    "    \"GTC\": \"t\",\n",
    "    \"TGG\": \"u\",\n",
    "    \"CCT\": \"v\",\n",
    "    \"GAA\": \"w\",\n",
    "    \"TCA\": \"x\",\n",
    "    \"CAA\": \"y\",\n",
    "    \"AAT\": \"z\",\n",
    "    \"ACT\": \"0\",\n",
    "    \"GCG\": \"1\",\n",
    "    \"GGC\": \"2\",\n",
    "    \"CTA\": \"3\",\n",
    "    \"AAG\": \"4\",\n",
    "    \"AGG\": \"5\",\n",
    "    \"CAG\": \"6\",\n",
    "    \"AGC\": \"7\",\n",
    "    \"CGC\": \"8\",\n",
    "    \"TTG\": \"9\",\n",
    "    \"TCC\": \"!\",\n",
    "    \"TGA\": \"@\",\n",
    "}\n",
    "\n",
    "CHAR_CODON = {v: k for k, v in CODON_CHAR.items()}\n",
    "\n",
    "\n",
    "def group_and_contextualize(seq: str, k: int = 3):\n",
    "    grouped_codons = \" \".join(seq[i : i + k] for i in range(0, len(seq), k)).upper()\n",
    "    # Removes all modulo 3 chars\n",
    "    return \"\".join(CODON_CHAR.get(codon, \"\") for codon in grouped_codons.split())\n",
    "\n",
    "\n",
    "def decode_grouped_context(seq: str, sep: str = \" \"):\n",
    "    return sep.join(CHAR_CODON[elem] for elem in seq)"
   ]
  },
  {
   "cell_type": "code",
   "execution_count": 7,
   "id": "dbc9e4cf-91fc-4990-959f-2d9f9921b010",
   "metadata": {},
   "outputs": [
    {
     "name": "stdout",
     "output_type": "stream",
     "text": [
      "Dataset({\n",
      "    features: ['input_ids', 'attention_mask'],\n",
      "    num_rows: 36631\n",
      "})\n"
     ]
    }
   ],
   "source": [
    "sequence_file = Path(\n",
    "    \"/lambda_stor/homes/khippe/genslm_foundation/genome_data/mdh_sc23/fasta/mdh_natural_sequences.ffn\"\n",
    ")\n",
    "sequences = read_fasta(sequence_file)\n",
    "\n",
    "\n",
    "dataset_seqs = [group_and_contextualize(seq.sequence) for seq in sequences]\n",
    "tokenized_seqs = tokenizer(\n",
    "    dataset_seqs,\n",
    "    max_length=1024,\n",
    "    padding=\"max_length\",\n",
    "    truncation=True,\n",
    "    return_tensors=\"pt\",\n",
    ")\n",
    "\n",
    "\n",
    "data = {\n",
    "    \"input_ids\": tokenized_seqs.input_ids.tolist(),\n",
    "    \"attention_mask\": tokenized_seqs.attention_mask.tolist(),\n",
    "}\n",
    "\n",
    "dataset = Dataset.from_dict(data)\n",
    "print(dataset)"
   ]
  },
  {
   "cell_type": "code",
   "execution_count": 66,
   "id": "6587e14d-2fca-4e1b-a93e-7d840aaaebe5",
   "metadata": {},
   "outputs": [
    {
     "data": {
      "text/html": [
       "<div>\n",
       "<style scoped>\n",
       "    .dataframe tbody tr th:only-of-type {\n",
       "        vertical-align: middle;\n",
       "    }\n",
       "\n",
       "    .dataframe tbody tr th {\n",
       "        vertical-align: top;\n",
       "    }\n",
       "\n",
       "    .dataframe thead th {\n",
       "        text-align: right;\n",
       "    }\n",
       "</style>\n",
       "<table border=\"1\" class=\"dataframe\">\n",
       "  <thead>\n",
       "    <tr style=\"text-align: right;\">\n",
       "      <th></th>\n",
       "      <th>0</th>\n",
       "    </tr>\n",
       "  </thead>\n",
       "  <tbody>\n",
       "    <tr>\n",
       "      <th>count</th>\n",
       "      <td>36631.000000</td>\n",
       "    </tr>\n",
       "    <tr>\n",
       "      <th>mean</th>\n",
       "      <td>123.121373</td>\n",
       "    </tr>\n",
       "    <tr>\n",
       "      <th>std</th>\n",
       "      <td>24.428944</td>\n",
       "    </tr>\n",
       "    <tr>\n",
       "      <th>min</th>\n",
       "      <td>38.000000</td>\n",
       "    </tr>\n",
       "    <tr>\n",
       "      <th>25%</th>\n",
       "      <td>110.000000</td>\n",
       "    </tr>\n",
       "    <tr>\n",
       "      <th>50%</th>\n",
       "      <td>125.000000</td>\n",
       "    </tr>\n",
       "    <tr>\n",
       "      <th>75%</th>\n",
       "      <td>138.000000</td>\n",
       "    </tr>\n",
       "    <tr>\n",
       "      <th>max</th>\n",
       "      <td>187.000000</td>\n",
       "    </tr>\n",
       "  </tbody>\n",
       "</table>\n",
       "</div>"
      ],
      "text/plain": [
       "                  0\n",
       "count  36631.000000\n",
       "mean     123.121373\n",
       "std       24.428944\n",
       "min       38.000000\n",
       "25%      110.000000\n",
       "50%      125.000000\n",
       "75%      138.000000\n",
       "max      187.000000"
      ]
     },
     "execution_count": 66,
     "metadata": {},
     "output_type": "execute_result"
    }
   ],
   "source": [
    "# See average length\n",
    "\n",
    "tokenized_lens = [sum(elem[\"attention_mask\"]) for elem in dataset]\n",
    "pd.DataFrame(tokenized_lens).describe()"
   ]
  },
  {
   "cell_type": "code",
   "execution_count": 9,
   "id": "8c2870f3-3846-42f2-85fb-6ddea8f7501d",
   "metadata": {},
   "outputs": [
    {
     "data": {
      "image/png": "[encoded data removed]",
      "text/plain": [
       "<Figure size 1000x600 with 1 Axes>"
      ]
     },
     "metadata": {},
     "output_type": "display_data"
    }
   ],
   "source": [
    "import matplotlib.pyplot as plt\n",
    "\n",
    "# Set up the figure and axes\n",
    "plt.figure(figsize=(10, 6))\n",
    "\n",
    "# Plotting the histogram\n",
    "plt.hist(tokenized_lens, bins=50, color=\"blue\", alpha=0.7)\n",
    "\n",
    "# Setting title and labels\n",
    "plt.title(\"Histogram of Sequence Lengths\")\n",
    "plt.xlabel(\"Sequence Length\")\n",
    "plt.ylabel(\"Frequency\")\n",
    "\n",
    "# Display the plot\n",
    "plt.tight_layout()\n",
    "plt.show()"
   ]
  },
  {
   "cell_type": "code",
   "execution_count": 19,
   "id": "aa5ce7cb-0e56-4280-9de8-de2488ed283f",
   "metadata": {},
   "outputs": [
    {
     "name": "stdout",
     "output_type": "stream",
     "text": [
      "                  0\n",
      "count  50257.000000\n",
      "mean       4.031419\n",
      "std        1.958933\n",
      "min        1.000000\n",
      "25%        3.000000\n",
      "50%        3.000000\n",
      "75%        4.000000\n",
      "max       44.000000\n"
     ]
    },
    {
     "data": {
      "image/png": "[encoded data removed]",
      "text/plain": [
       "<Figure size 1000x600 with 1 Axes>"
      ]
     },
     "metadata": {},
     "output_type": "display_data"
    }
   ],
   "source": [
    "# plot of vocab sequence lengths\n",
    "vocab_lens = [len(elem) for elem in tokenizer.get_vocab().keys()]\n",
    "\n",
    "import pandas as pd\n",
    "\n",
    "df = pd.DataFrame(vocab_lens)\n",
    "print(df.describe())\n",
    "\n",
    "# Set up the figure and axes\n",
    "plt.figure(figsize=(10, 6))\n",
    "\n",
    "# Plotting the histogram\n",
    "plt.hist(vocab_lens, bins=50, color=\"blue\", alpha=0.7)\n",
    "plt.yscale(\"log\")\n",
    "\n",
    "# Setting title and labels\n",
    "plt.title(\"Vocab lengths\")\n",
    "plt.xlabel(\"Sequence Motif Length\")\n",
    "plt.ylabel(\"Frequency\")\n",
    "\n",
    "# Display the plot\n",
    "plt.tight_layout()\n",
    "plt.show()"
   ]
  },
  {
   "cell_type": "code",
   "execution_count": 26,
   "id": "7dcfa17f-28df-4726-821f-c4546b691c40",
   "metadata": {},
   "outputs": [
    {
     "data": {
      "text/plain": [
       "('nr80Vaetrtr21N26WbQNlJd8WN!26lJ21saht4l8JlZW',\n",
       " 'ATG ACC CGC ACT CCC GTG AAC GTC ACC GTC ACC GGC GCG GCC GGC CAG ATC GGT TAC GCC CTG CTC TTC CGC ATC GCC TCC GGC CAG CTG CTC GGC GCG GAC GTG CCG GTC AAG CTG CGC CTC CTG GAG ATC')"
      ]
     },
     "execution_count": 26,
     "metadata": {},
     "output_type": "execute_result"
    }
   ],
   "source": [
    "import numpy as np\n",
    "\n",
    "vocab_strs = list(tokenizer.get_vocab().keys())\n",
    "max_idx = np.argmax(vocab_lens)\n",
    "vocab_strs[max_idx], decode_grouped_context(vocab_strs[max_idx])"
   ]
  },
  {
   "cell_type": "code",
   "execution_count": 31,
   "id": "9e558e83-006d-4dac-8f01-700155727a5d",
   "metadata": {},
   "outputs": [
    {
     "name": "stdout",
     "output_type": "stream",
     "text": [
      "19\n"
     ]
    }
   ],
   "source": [
    "long_vocab_id = tokenizer.encode(\"nr80Vaetrtr21N26WbQNlJd8WN!26lJ21saht4l8JlZW\")[1]\n",
    "\n",
    "count = 0\n",
    "for elem in tokenized_seqs.input_ids:\n",
    "    if long_vocab_id in elem:\n",
    "        count += 1\n",
    "\n",
    "print(count)"
   ]
  },
  {
   "cell_type": "code",
   "execution_count": 34,
   "id": "ee5b98b7-a0d9-43e3-b395-56260e1f611e",
   "metadata": {},
   "outputs": [
    {
     "data": {
      "text/plain": [
       "'Z2I'"
      ]
     },
     "execution_count": 34,
     "metadata": {},
     "output_type": "execute_result"
    }
   ],
   "source": [
    "tokenizer.decode([max_idx])"
   ]
  },
  {
   "cell_type": "code",
   "execution_count": 56,
   "id": "97d9c9c9-e458-4558-9848-191d214bbbd7",
   "metadata": {},
   "outputs": [
    {
     "name": "stderr",
     "output_type": "stream",
     "text": [
      "100%|██████████████████████████████████████████████████████████████████████████████████████████████████████████████████████████████████████████████████████████████████████| 36631/36631 [04:48<00:00, 126.97it/s]\n"
     ]
    }
   ],
   "source": [
    "from collections import defaultdict\n",
    "from tqdm import tqdm\n",
    "\n",
    "counts = defaultdict(int)\n",
    "vocab = tokenizer.get_vocab()\n",
    "for elem in tqdm(tokenized_seqs.input_ids):\n",
    "    for id in elem[1:-1]:\n",
    "        id_str = tokenizer.decode([id])\n",
    "        counts[id_str] += 1"
   ]
  },
  {
   "cell_type": "code",
   "execution_count": 58,
   "id": "21e43d83-e08c-46d3-8cb1-e7e432494777",
   "metadata": {},
   "outputs": [
    {
     "name": "stdout",
     "output_type": "stream",
     "text": [
      "                  0\n",
      "count  50247.000000\n",
      "mean      88.299739\n",
      "std      324.389515\n",
      "min        1.000000\n",
      "25%       16.000000\n",
      "50%       24.000000\n",
      "75%       48.000000\n",
      "max     7593.000000\n"
     ]
    },
    {
     "data": {
      "image/png": "[encoded data removed]",
      "text/plain": [
       "<Figure size 1000x600 with 1 Axes>"
      ]
     },
     "metadata": {},
     "output_type": "display_data"
    }
   ],
   "source": [
    "# plot of vocab sequence lengths\n",
    "\n",
    "# remove special tokens from being counted\n",
    "for val in special_tokens.values():\n",
    "    if val in counts:\n",
    "        del counts[val]\n",
    "\n",
    "vocab_occs = list(counts.values())\n",
    "vocab_occs_filtered = [v for v in vocab_occs if v < 10000]\n",
    "\n",
    "import pandas as pd\n",
    "\n",
    "df = pd.DataFrame(vocab_occs_filtered)\n",
    "print(df.describe())\n",
    "\n",
    "# Set up the figure and axes\n",
    "plt.figure(figsize=(10, 6))\n",
    "\n",
    "# Plotting the histogram\n",
    "plt.hist(vocab_occs_filtered, bins=100, color=\"blue\", alpha=0.7)\n",
    "plt.yscale(\"log\")\n",
    "\n",
    "# Setting title and labels\n",
    "plt.title(\"Vocab token occurences\")\n",
    "plt.xlabel(\"??\")\n",
    "plt.ylabel(\"Frequency\")\n",
    "\n",
    "# Display the plot\n",
    "plt.tight_layout()\n",
    "plt.show()"
   ]
  },
  {
   "cell_type": "code",
   "execution_count": 63,
   "id": "e4cbdac9-04c9-48e5-aaf6-1fdeeff153cb",
   "metadata": {},
   "outputs": [
    {
     "name": "stdout",
     "output_type": "stream",
     "text": [
      "\n"
     ]
    },
    {
     "data": {
      "text/plain": [
       "('7593 occurences', 'K', 'AGT')"
      ]
     },
     "execution_count": 63,
     "metadata": {},
     "output_type": "execute_result"
    }
   ],
   "source": [
    "# look at most common token\n",
    "\n",
    "common_token_idx = np.argmax(vocab_occs)\n",
    "print()\n",
    "common_token = list(counts.keys())[common_token_idx]\n",
    "f\"{vocab_occs[common_token_idx]} occurences\", common_token, decode_grouped_context(\n",
    "    common_token\n",
    ")"
   ]
  },
  {
   "cell_type": "code",
   "execution_count": null,
   "id": "7d73e0ba-8170-48a1-a594-fcd6cc436568",
   "metadata": {},
   "outputs": [],
   "source": []
  }
 ],
 "metadata": {
  "kernelspec": {
   "display_name": "Python 3 (ipykernel)",
   "language": "python",
   "name": "python3"
  },
  "language_info": {
   "codemirror_mode": {
    "name": "ipython",
    "version": 3
   },
   "file_extension": ".py",
   "mimetype": "text/x-python",
   "name": "python",
   "nbconvert_exporter": "python",
   "pygments_lexer": "ipython3",
   "version": "3.9.15"
  }
 },
 "nbformat": 4,
 "nbformat_minor": 5
}
