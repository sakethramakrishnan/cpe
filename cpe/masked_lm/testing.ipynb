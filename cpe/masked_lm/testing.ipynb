{
 "cells": [
  {
   "cell_type": "code",
   "execution_count": 2,
   "metadata": {},
   "outputs": [],
   "source": [
    "from Bio.Seq import Seq\n",
    "from Bio.SeqRecord import SeqRecord\n",
    "from Bio.Align import MultipleSeqAlignment"
   ]
  },
  {
   "cell_type": "code",
   "execution_count": 5,
   "metadata": {},
   "outputs": [],
   "source": [
    "from Bio.Align import PairwiseAligner "
   ]
  },
  {
   "cell_type": "code",
   "execution_count": 7,
   "metadata": {},
   "outputs": [],
   "source": [
    "aligner = PairwiseAligner()"
   ]
  },
  {
   "cell_type": "code",
   "execution_count": 8,
   "metadata": {},
   "outputs": [],
   "source": [
    "alignments = aligner.align(\"TACCG\", \"ACG\")"
   ]
  },
  {
   "cell_type": "code",
   "execution_count": 9,
   "metadata": {},
   "outputs": [
    {
     "data": {
      "text/plain": [
       "<Bio.Align.PairwiseAlignments at 0x7fd4844f6fe0>"
      ]
     },
     "execution_count": 9,
     "metadata": {},
     "output_type": "execute_result"
    }
   ],
   "source": [
    "alignments"
   ]
  },
  {
   "cell_type": "code",
   "execution_count": 1,
   "metadata": {},
   "outputs": [
    {
     "ename": "TypeError",
     "evalue": "PairwiseAligner.align() got an unexpected keyword argument 'one_alignment_only'",
     "output_type": "error",
     "traceback": [
      "\u001b[0;31m---------------------------------------------------------------------------\u001b[0m",
      "\u001b[0;31mTypeError\u001b[0m                                 Traceback (most recent call last)",
      "Cell \u001b[0;32mIn[1], line 4\u001b[0m\n\u001b[1;32m      1\u001b[0m \u001b[38;5;28;01mfrom\u001b[39;00m \u001b[38;5;21;01mBio\u001b[39;00m \u001b[38;5;28;01mimport\u001b[39;00m Align\n\u001b[1;32m      3\u001b[0m aligner \u001b[38;5;241m=\u001b[39m Align\u001b[38;5;241m.\u001b[39mPairwiseAligner()\n\u001b[0;32m----> 4\u001b[0m alignments \u001b[38;5;241m=\u001b[39m \u001b[43maligner\u001b[49m\u001b[38;5;241;43m.\u001b[39;49m\u001b[43malign\u001b[49m\u001b[43m(\u001b[49m\u001b[38;5;124;43m\"\u001b[39;49m\u001b[38;5;124;43mATGAGCAATCAATCAGCAATCAATCTCACCATGAGCAATCTCACCATGAGCAATCTCACCATGAGCAATCTCACCATGAGCAAGGTCACCACCTGGAA\u001b[39;49m\u001b[38;5;124;43m\"\u001b[39;49m\u001b[43m,\u001b[49m\u001b[43m \u001b[49m\n\u001b[1;32m      5\u001b[0m \u001b[43m                           \u001b[49m\u001b[38;5;124;43m\"\u001b[39;49m\u001b[38;5;124;43mATGGCAAACGATGGCATGAGCAAGGTCACCATGAGCAAGGTCACCATGAGCAAGGTCACCATGAGCAAGGTCACCATGAGCAAGGTCACCCGC\u001b[39;49m\u001b[38;5;124;43m\"\u001b[39;49m\u001b[43m,\u001b[49m\u001b[43m \u001b[49m\u001b[43mone_alignment_only\u001b[49m\u001b[38;5;241;43m=\u001b[39;49m\u001b[38;5;28;43;01mTrue\u001b[39;49;00m\u001b[43m)\u001b[49m\n\u001b[1;32m      7\u001b[0m best_alignment \u001b[38;5;241m=\u001b[39m \u001b[38;5;28;01mNone\u001b[39;00m\n\u001b[1;32m      8\u001b[0m best_score \u001b[38;5;241m=\u001b[39m \u001b[38;5;28mfloat\u001b[39m(\u001b[38;5;124m'\u001b[39m\u001b[38;5;124m-inf\u001b[39m\u001b[38;5;124m'\u001b[39m)\n",
      "\u001b[0;31mTypeError\u001b[0m: PairwiseAligner.align() got an unexpected keyword argument 'one_alignment_only'"
     ]
    }
   ],
   "source": [
    "from Bio import Align\n",
    "\n",
    "aligner = Align.PairwiseAligner()\n",
    "alignments = aligner.align(\"ATGAGCAATCAATCAGCAATCAATCTCACCATGAGCAATCTCACCATGAGCAATCTCACCATGAGCAATCTCACCATGAGCAAGGTCACCACCTGGAA\", \n",
    "                           \"ATGGCAAACGATGGCATGAGCAAGGTCACCATGAGCAAGGTCACCATGAGCAAGGTCACCATGAGCAAGGTCACCATGAGCAAGGTCACCCGC\", one_alignment_only=True)\n",
    "\n",
    "best_alignment = None\n",
    "best_score = float('-inf')\n",
    "\n",
    "for alignment in alignments:\n",
    "    print(\"Score = %.1f:\" % alignment.score)\n",
    "    print(alignment)\n",
    "    \n",
    "    if alignment.score > best_score:\n",
    "        best_score = alignment.score\n",
    "        best_alignment = alignment\n",
    "\n",
    "print(\"\\nBest Alignment:\")\n",
    "print(\"Score = %.1f:\" % best_alignment.score)\n",
    "print(best_alignment)\n"
   ]
  },
  {
   "cell_type": "code",
   "execution_count": 15,
   "metadata": {},
   "outputs": [],
   "source": [
    "from Bio import pairwise2\n",
    "from sequence_alignment import GlobalAlignment, LocalAlignment, SequenceAlignment\n",
    "import time"
   ]
  },
  {
   "cell_type": "code",
   "execution_count": 16,
   "metadata": {},
   "outputs": [
    {
     "name": "stdout",
     "output_type": "stream",
     "text": [
      "Elapsed Time for BioPython: 0.00409 seconds\n"
     ]
    }
   ],
   "source": [
    "\n",
    "\n",
    "\n",
    "\n",
    "\n",
    "alignments_global = pairwise2.align.globalxx(\"ATGAGCAATCAATCAGCAATCAATCTCACCATGAGCAATCTCACCATGAGCAATCTCACCATGAGCAATCTCACCATGAGCAAGGTCACCACCTGGAA\", \n",
    "                           \"ATGGCAAACGATGGCATGAGCAAGGTCACCATGAGCAAGGTCACCATGAGCAAGGTCACCATGAGCAAGGTCACCATGAGCAAGGTCACCCGC\", one_alignment_only=True)\n",
    "\n",
    "seq1_global = alignments_global[0].seqA # the alignments are in a 1 length list\n",
    "seq2_global = alignments_global[0].seqB\n",
    "global_score = alignments_global[0].score\n",
    "\n",
    "alignments_local = pairwise2.align.localxx(\"ATGAGCAATCAATCAGCAATCAATCTCACCATGAGCAATCTCACCATGAGCAATCTCACCATGAGCAATCTCACCATGAGCAAGGTCACCACCTGGAA\", \n",
    "                           \"ATGGCAAACGATGGCATGAGCAAGGTCACCATGAGCAAGGTCACCATGAGCAAGGTCACCATGAGCAAGGTCACCATGAGCAAGGTCACCCGC\", one_alignment_only=True)\n",
    "\n",
    "seq1_local = alignments_local[0].seqA # the alignments are in a 1 length list\n",
    "seq2_local = alignments_local[0].seqB\n",
    "local_score = alignments_local[0].score\n",
    "\n",
    "\n",
    "\n",
    "# Calculate and print the elapsed time\n",
    "elapsed_time = end_time - start_time\n",
    "print(\"Elapsed Time for BioPython: %.5f seconds\" % elapsed_time)"
   ]
  },
  {
   "cell_type": "code",
   "execution_count": 18,
   "metadata": {},
   "outputs": [],
   "source": [
    "def get_aligned_seqs_biopython(seq1, seq2):\n",
    "    alignments_global = pairwise2.align.globalxx(seq1, seq2, one_alignment_only=True)\n",
    "\n",
    "    seq1_global = alignments_global[0].seqA # the alignments are in a 1 length list\n",
    "    seq2_global = alignments_global[0].seqB\n",
    "    global_score = alignments_global[0].score\n",
    "\n",
    "    alignments_local = pairwise2.align.localxx(seq1, seq2, one_alignment_only=True)\n",
    "\n",
    "    seq1_local = alignments_local[0].seqA # the alignments are in a 1 length list\n",
    "    seq2_local = alignments_local[0].seqB\n",
    "    local_score = alignments_local[0].score\n",
    "    \n",
    "    return seq1_global, seq2_global, global_score, seq1_local, seq2_local, local_score\n",
    "\n",
    "def get_aligned_seqs(seq1, seq2):\n",
    "    # Get input from CLI program\n",
    "\n",
    "    # Save results to database and print them\n",
    "    \n",
    "    ga_align1, ga_align2, ga_alignment_score, la_align1, la_align2, la_alignment_score = get_results(seq1, seq2)\n",
    "\n",
    "    return ga_align1, ga_align2, ga_alignment_score, la_align1, la_align2, la_alignment_score\n",
    "\n",
    "\n",
    "\n",
    "\n",
    "# Save alignment results from all combinations of sequences to database\n",
    "# (And print them if program is being run as CLI tool)\n",
    "def get_results(seq1, seq2):\n",
    "    \n",
    "    #for seq1, seq2 in combinations(seqs, 2):\n",
    "        \n",
    "        ga = GlobalAlignment((seq1, seq2))\n",
    "        la = LocalAlignment((seq1, seq2))\n",
    "\n",
    "        ga_align1, ga_align2 = ga.align\n",
    "        la_align1, la_align2 = la.align\n",
    "\n",
    "        return ga_align1, ga_align2, ga.alignment_score, la_align1, la_align2, la.alignment_score\n",
    "        "
   ]
  },
  {
   "cell_type": "code",
   "execution_count": 19,
   "metadata": {},
   "outputs": [],
   "source": [
    "seq1 = 'ATGAGCAATCAATCAGCAATCAATCTCACCATGAGCAATCTCACCATGAGCAATCTCACCATGAGCAATCTCACCATGAGCAAGGTCACCACCTGGAA'\n",
    "seq2 = 'ATGGCAAACGATGGCATGAGCAAGGTCACCATGAGCAAGGTCACCATGAGCAAGGTCACCATGAGCAAGGTCACCATGAGCAAGGTCACCCGC'"
   ]
  },
  {
   "cell_type": "code",
   "execution_count": 20,
   "metadata": {},
   "outputs": [
    {
     "name": "stdout",
     "output_type": "stream",
     "text": [
      "Elapsed Time for BioPython: 0.16057 seconds\n"
     ]
    }
   ],
   "source": [
    "\n",
    "# Your code to be timed\n",
    "start_time = time.time()\n",
    "\n",
    "\n",
    "ga_align1, ga_align2, ga_alignment_score, la_align1, la_align2, la_alignment_score = get_aligned_seqs(seq1, seq2)\n",
    "\n",
    "\n",
    "\n",
    "end_time = time.time()\n",
    "elapsed_time = end_time - start_time\n",
    "print(\"Elapsed Time for BioPython: %.5f seconds\" % elapsed_time)"
   ]
  },
  {
   "cell_type": "code",
   "execution_count": 21,
   "metadata": {},
   "outputs": [
    {
     "name": "stdout",
     "output_type": "stream",
     "text": [
      "Elapsed Time for Algo: 0.12854 seconds\n"
     ]
    }
   ],
   "source": [
    "\n",
    "\n",
    "# Your code to be timed\n",
    "start_time = time.time()\n",
    "\n",
    "\n",
    "        \n",
    "\n",
    "ga_align1, ga_align2, ga_alignment_score, la_align1, la_align2, la_alignment_score = get_aligned_seqs(seq1, seq2)\n",
    "\n",
    "end_time = time.time()\n",
    "\n",
    "# Calculate and print the elapsed time\n",
    "elapsed_time = end_time - start_time\n",
    "print(\"Elapsed Time for Algo: %.5f seconds\" % elapsed_time)"
   ]
  },
  {
   "cell_type": "code",
   "execution_count": null,
   "metadata": {},
   "outputs": [],
   "source": [
    "'''\n",
    "# NPE:\n",
    "\n",
    "Prediction: TGAAAAAAGGAAAAAAAATGAATGAATAAATTTTAAAATATTTGAATTAAAAAAAAAAATTAAAAAAAAAATTAATATTAAAAAAAAAAAATATTAATTAAAATTAAAATTAAAAAATGTGAAAAAATTTTAATTAATTAATTTGAATTAATTAAAAAAAAAATTAATTTGAAAAAAAATTAAAAAAAAAAAAAAATATTAATTAAAAAAATGTGAATAAAAAATTTGAAAAAAAATTTTAAAAAAAAAATTAAAAAAAATTAAAAATGAAAAATGAAAATTAAAAAAAAATTTTAATTAATAACCAAAAAAAAAATTAAAAAAAATTAAAAAAAAAAAATTAATGAAAAAATTAAAAAAAATATTTGATGTGAAAAAATTAAGCAAAAAAAAAAAAAAAAACCAATAAAAAAAAAAATATGAAAAAATTTTAAAAAAATTAAATTTGATATTAATATTTTTGAAAAAAAAAAAAAAAAAATAAAAAATTAATTTTTTAATTAAAAAAAAAAAAAATTAAAAAAAAAATATTAAAAAAAAAATTTGAATGAAAATGAAAAAAAAAAAATTAATTTGAATTAAAAAAAAAAAAAAAAAAAAAAAAAAAATGGAAAAAAAAAAAAAAAATTGTTTGAAAAAAAAAAAAAAATTAAAATGAAAAGAAAATTAATTTTTGAAGCAATTAAGAAAGAAAAAAAAAAAAAAAAATATTAAAAAATTTTAAAAAAAAAAAAAAAAAAAAAAAATTAAAGTTAAAATTAAAAAAAAAA\n",
    "Acc gtruth: ATGGAAAGAGTTAAAAAAATATCTATTATTGGAGTAGGCTCAGTAGGAAGTACGTTAGCTTTTAATATCCTAAAAAATCTAGACATAGAAGAATTAATTCTTATAGACATTGCTGGTTCTCTAGCAAAAGGGGTTGCTTTAGATTTAGAAGATACTAGGGCATTTTTAGAATTTTCTACAAAGATACTAGGAACCTCCAATATAAATCACATCAAAAATTCTGATATCGTTGTTGTTACTGCGGGAAAGGCAAGAAGTGCAGGAATGACAAGATATGATCTTCTTAATATCAACAAAGAAATTGCTAAAAAGATCGCTAAAAAGATCAAAGAAGTAGCACCTACATCTTTAGTAATAGTGATAACTAATCCCGTGGATTTTATCACCTATGTAATTAAAAAAGAGACGGGTTTTGGAAGAGAACGAATTATAGGGATGGGGTCTTCTTTGGATTCTGCCCGTCTTCTTAATCTTGTTTACCAGATGGTTAAAATTAGCCCTTCTTCTATAGAAACAATGGTATTAGGTATGCACAGTAAAGATATGCTTCCCTTGGTTAAAAAATGTAAAGTTAAAGGTATAAGTATAGATAAATTTTTGTCTCAAGAAAAGATAAAACTAATTTCAGAGAAAACAAAAATAAGAGGTAAGGAAATCGTCGAACTTCTAAAAAATAGAAGTGCTCATTTTGCTCCTTCTCTCGCTGGTTATCAATTAATTGAAGCCATTGTAAAAGACAAAAAAGAAATTATATGCGCATCAACTTATCTTAATGGAGAATACGGAATAAAGAATGTATGTATAGGTGTGCCTTGTATTATTGGCAGAAAGGGAATAATAAAAATAATCGAAATAGAATTAAGTAGAGAAGAAAAAGAAAAACTCTTAAAATCAGCAAATTACTTCAGAGAATGTATGAGCTTGCAATAA\n",
    "\n",
    "'''\n",
    "\n",
    "'''\n",
    "# DNA wordlevel:\n",
    "\n",
    "Prediction: TTAAGGGCGCCGCCCCGGCGGGCGCCGCCGCGGCCGCCCCCGCCGCCGCGCGCCCGGGCGGCGCCGCCGGCGCCCCCCGCGCCGCCGCCGCCCGCCCCGCCGCCGCCGGGGCCGCCCCGGCGCCCGCCCCGCGCCCCGCCGCCCGCCCGGCCGGGCCCCCCGCCGCCGCCGCCGCGGCCCCGGCCCCGGCCGCCGCCGCGGCGCCCGCCCCCCCGGCCCCCCCCCCCGCCGCGGCGGCCGCCGGGGGCGCCCGGGCCCCCCCCGGCGCCGCCGGCCGCCCGGCCCCCGCGCCGCCCCCCCCCCGCCCCCCGCCCCCCGCCGCCCCGGCCGCCGGGCCCGCGGCCGCCGCCGCCGCCGCGGCCGGGCGCGCCGCCGCCCCCGCCCCGCGCCGCCGCCCCCCGGCCGGCCGGCCGCCCGCCCCCCCCCCCGCCCCGGCCGCCCGCCCCGCCGCCGGCGCCGGCGGCCCCGGCCCGCGCCCCCCCGCCGCCCCCGCCCCCCCCGCCCCGCCGGCCGCCCGCGCCGCCGGCCCCGCCGCGCCCCCCCGGCGCCCGGGCGCCCCGGCGGCCGCGGCCGCCGGGGCCGGGGCCGGCCCCCCCCCCCCCGCCCCGGCGCGCCCCCCCCCCGCCGCGCCCGCCCCGGGCGCGGCGGCCCCCGCCGCCGCCCCCGCCCCCCGCCGCCCCCCCCCCGCCGCGGCCGCCGCGCGGCCGCCGCCGCCGGCCGCGCCCCCGCCCCCCGCCGGCCGCGCCGCCCCCCGCGCCCGCCGGGCC\n",
    "Acc gtruth: TGGCCCGCAACAAGATCGCCCTCGTCGGCGCCGGCAATATCGGCGGCACGCTGGCCCACCTCATCGGCCTCAAGGAGCTCGGCGACGTCGTGCTGTTCGACGTCTTCCCCGGCGTGGCCGCGGGCAAGGCGCTGGACATCATGCAGTCCGGCCCGGTGGACGGCTTCGACAGCGCCATGTCCGGTGCCGGCGACTACGCCGCGATCAAGGATGCCGATGTGGTGATCGTCACCGCCGGCTTCCCCCGCATGCCCGGGATGAGCCGCGACGACCTGCTGACCAAGAACGCTGCGGTGATGGGTCAGGTGGCGGAGGGCATCAAGACCTACTGCCCGAACGCCTTCGTCATCTGCATCACCAACCCGCTCGACGTCATGGTCTGGGCGCTGCAGCAGAAGTCCGGCCTGCCGGCGAACAAGGTTGTGGGCATGGCCGGCGTGCTGGACAGCAGCCGCTTCCGCCTGTTCCTGGCGCAGGAATTCGGCGTGAGCGTGGAGGACGTGACGGCCTTCGTGCTCGGCGGCCATGGCGACACGATGGTGCCGCTGACCCGCTATTCCACCGTCGCCGGCATCCCCATCCCCGACCTGGTGAAGATGGGCTGGACCACGCAGGAGAAGATCGACGCGATCGTGGCCCGCACCGCCAATGGCGGCGGCGAGATCGTGAAGCTGCTGGAGAAGGGCAGCGCCTTCTACGCGCCGGCGGCGTCGGCCATCGCGATGGCGGAGAGCTACCTGCTCGACAAGAAGCGCGTGCTGCCCTGC\n"
   ]
  },
  {
   "cell_type": "code",
   "execution_count": 22,
   "metadata": {},
   "outputs": [],
   "source": [
    "from utils import read_fasta\n",
    "\n",
    "sequences = read_fasta(\"/home/couchbucks/Documents/saketh/cpe/data/datasets/mdh/valid_refined_mdh.fasta\")"
   ]
  },
  {
   "cell_type": "code",
   "execution_count": 23,
   "metadata": {},
   "outputs": [
    {
     "data": {
      "text/plain": [
       "7327"
      ]
     },
     "execution_count": 23,
     "metadata": {},
     "output_type": "execute_result"
    }
   ],
   "source": [
    "len(sequences)"
   ]
  }
 ],
 "metadata": {
  "kernelspec": {
   "display_name": "Python 3.10.12 ('env': venv)",
   "language": "python",
   "name": "python3"
  },
  "language_info": {
   "codemirror_mode": {
    "name": "ipython",
    "version": 3
   },
   "file_extension": ".py",
   "mimetype": "text/x-python",
   "name": "python",
   "nbconvert_exporter": "python",
   "pygments_lexer": "ipython3",
   "version": "3.10.12"
  },
  "orig_nbformat": 4,
  "vscode": {
   "interpreter": {
    "hash": "d1d2b8a7f7e8b4294e58905fa61be7044a6603711006b6ad534d224b83be168b"
   }
  }
 },
 "nbformat": 4,
 "nbformat_minor": 2
}
